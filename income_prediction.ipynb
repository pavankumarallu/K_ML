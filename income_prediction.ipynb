{
  "nbformat": 4,
  "nbformat_minor": 5,
  "metadata": {
    "kernelspec": {
      "display_name": "Python 3",
      "language": "python",
      "name": "python3"
    },
    "language_info": {
      "codemirror_mode": {
        "name": "ipython",
        "version": 3
      },
      "file_extension": ".py",
      "mimetype": "text/x-python",
      "name": "python",
      "nbconvert_exporter": "python",
      "pygments_lexer": "ipython3",
      "version": "3.7.9"
    },
    "papermill": {
      "default_parameters": {},
      "duration": 54.551811,
      "end_time": "2021-06-26T10:57:16.829695",
      "environment_variables": {},
      "exception": null,
      "input_path": "__notebook__.ipynb",
      "output_path": "__notebook__.ipynb",
      "parameters": {},
      "start_time": "2021-06-26T10:56:22.277884",
      "version": "2.3.2"
    },
    "colab": {
      "name": "income-prediction.ipynb",
      "provenance": [],
      "include_colab_link": true
    }
  },
  "cells": [
    {
      "cell_type": "markdown",
      "metadata": {
        "id": "view-in-github",
        "colab_type": "text"
      },
      "source": [
        "<a href=\"https://colab.research.google.com/github/pavankumarallu/K_ML/blob/main/income_prediction.ipynb\" target=\"_parent\"><img src=\"https://colab.research.google.com/assets/colab-badge.svg\" alt=\"Open In Colab\"/></a>"
      ]
    },
    {
      "cell_type": "code",
      "metadata": {
        "_cell_guid": "b1076dfc-b9ad-4769-8c92-a6c4dae69d19",
        "_uuid": "8f2839f25d086af736a60e9eeb907d3b93b6e0e5",
        "execution": {
          "iopub.execute_input": "2021-06-26T10:56:28.205695Z",
          "iopub.status.busy": "2021-06-26T10:56:28.205077Z",
          "iopub.status.idle": "2021-06-26T10:56:28.217712Z",
          "shell.execute_reply": "2021-06-26T10:56:28.217076Z",
          "shell.execute_reply.started": "2021-06-26T09:34:06.931657Z"
        },
        "papermill": {
          "duration": 0.046393,
          "end_time": "2021-06-26T10:56:28.217865",
          "exception": false,
          "start_time": "2021-06-26T10:56:28.171472",
          "status": "completed"
        },
        "tags": [],
        "id": "satisfied-neighbor",
        "outputId": "1b981f61-c160-4af0-f7ac-a0ac7fc717d4"
      },
      "source": [
        "# This Python 3 environment comes with many helpful analytics libraries installed\n",
        "# It is defined by the kaggle/python Docker image: https://github.com/kaggle/docker-python\n",
        "# For example, here's several helpful packages to load\n",
        "\n",
        "import numpy as np # linear algebra\n",
        "import pandas as pd # data processing, CSV file I/O (e.g. pd.read_csv)\n",
        "\n",
        "# Input data files are available in the read-only \"../input/\" directory\n",
        "# For example, running this (by clicking run or pressing Shift+Enter) will list all files under the input directory\n",
        "\n",
        "import os\n",
        "for dirname, _, filenames in os.walk('/kaggle/input'):\n",
        "    for filename in filenames:\n",
        "        print(os.path.join(dirname, filename))\n",
        "\n",
        "# You can write up to 20GB to the current directory (/kaggle/working/) that gets preserved as output when you create a version using \"Save & Run All\" \n",
        "# You can also write temporary files to /kaggle/temp/, but they won't be saved outside of the current session"
      ],
      "id": "satisfied-neighbor",
      "execution_count": null,
      "outputs": [
        {
          "output_type": "stream",
          "text": [
            "/kaggle/input/adult-census-income/adult.csv\n"
          ],
          "name": "stdout"
        }
      ]
    },
    {
      "cell_type": "code",
      "metadata": {
        "execution": {
          "iopub.execute_input": "2021-06-26T10:56:28.276497Z",
          "iopub.status.busy": "2021-06-26T10:56:28.275828Z",
          "iopub.status.idle": "2021-06-26T10:56:34.257309Z",
          "shell.execute_reply": "2021-06-26T10:56:34.257845Z",
          "shell.execute_reply.started": "2021-06-26T09:36:27.562816Z"
        },
        "papermill": {
          "duration": 6.013502,
          "end_time": "2021-06-26T10:56:34.258048",
          "exception": false,
          "start_time": "2021-06-26T10:56:28.244546",
          "status": "completed"
        },
        "tags": [],
        "id": "infrared-response"
      },
      "source": [
        "import matplotlib.pyplot as plt\n",
        "\n",
        "from sklearn.preprocessing import LabelEncoder\n",
        "from sklearn.preprocessing import MinMaxScaler\n",
        "from sklearn.model_selection import train_test_split as tts\n",
        "\n",
        "import tensorflow as tf\n"
      ],
      "id": "infrared-response",
      "execution_count": null,
      "outputs": []
    },
    {
      "cell_type": "code",
      "metadata": {
        "execution": {
          "iopub.execute_input": "2021-06-26T10:56:34.315204Z",
          "iopub.status.busy": "2021-06-26T10:56:34.314571Z",
          "iopub.status.idle": "2021-06-26T10:56:34.457785Z",
          "shell.execute_reply": "2021-06-26T10:56:34.458327Z",
          "shell.execute_reply.started": "2021-06-26T09:37:37.809844Z"
        },
        "papermill": {
          "duration": 0.174223,
          "end_time": "2021-06-26T10:56:34.458494",
          "exception": false,
          "start_time": "2021-06-26T10:56:34.284271",
          "status": "completed"
        },
        "tags": [],
        "id": "arranged-coral"
      },
      "source": [
        "df = pd.read_csv('../input/adult-census-income/adult.csv')"
      ],
      "id": "arranged-coral",
      "execution_count": null,
      "outputs": []
    },
    {
      "cell_type": "code",
      "metadata": {
        "execution": {
          "iopub.execute_input": "2021-06-26T10:56:34.514452Z",
          "iopub.status.busy": "2021-06-26T10:56:34.513824Z",
          "iopub.status.idle": "2021-06-26T10:56:34.547711Z",
          "shell.execute_reply": "2021-06-26T10:56:34.547062Z",
          "shell.execute_reply.started": "2021-06-26T09:55:30.604756Z"
        },
        "papermill": {
          "duration": 0.061933,
          "end_time": "2021-06-26T10:56:34.547847",
          "exception": false,
          "start_time": "2021-06-26T10:56:34.485914",
          "status": "completed"
        },
        "tags": [],
        "id": "legal-interstate",
        "outputId": "a9b2ec96-a254-4060-ef86-08eb1cb78c04"
      },
      "source": [
        "df.head()"
      ],
      "id": "legal-interstate",
      "execution_count": null,
      "outputs": [
        {
          "output_type": "execute_result",
          "data": {
            "text/html": [
              "<div>\n",
              "<style scoped>\n",
              "    .dataframe tbody tr th:only-of-type {\n",
              "        vertical-align: middle;\n",
              "    }\n",
              "\n",
              "    .dataframe tbody tr th {\n",
              "        vertical-align: top;\n",
              "    }\n",
              "\n",
              "    .dataframe thead th {\n",
              "        text-align: right;\n",
              "    }\n",
              "</style>\n",
              "<table border=\"1\" class=\"dataframe\">\n",
              "  <thead>\n",
              "    <tr style=\"text-align: right;\">\n",
              "      <th></th>\n",
              "      <th>age</th>\n",
              "      <th>workclass</th>\n",
              "      <th>fnlwgt</th>\n",
              "      <th>education</th>\n",
              "      <th>education.num</th>\n",
              "      <th>marital.status</th>\n",
              "      <th>occupation</th>\n",
              "      <th>relationship</th>\n",
              "      <th>race</th>\n",
              "      <th>sex</th>\n",
              "      <th>capital.gain</th>\n",
              "      <th>capital.loss</th>\n",
              "      <th>hours.per.week</th>\n",
              "      <th>native.country</th>\n",
              "      <th>income</th>\n",
              "    </tr>\n",
              "  </thead>\n",
              "  <tbody>\n",
              "    <tr>\n",
              "      <th>0</th>\n",
              "      <td>90</td>\n",
              "      <td>?</td>\n",
              "      <td>77053</td>\n",
              "      <td>HS-grad</td>\n",
              "      <td>9</td>\n",
              "      <td>Widowed</td>\n",
              "      <td>?</td>\n",
              "      <td>Not-in-family</td>\n",
              "      <td>White</td>\n",
              "      <td>Female</td>\n",
              "      <td>0</td>\n",
              "      <td>4356</td>\n",
              "      <td>40</td>\n",
              "      <td>United-States</td>\n",
              "      <td>&lt;=50K</td>\n",
              "    </tr>\n",
              "    <tr>\n",
              "      <th>1</th>\n",
              "      <td>82</td>\n",
              "      <td>Private</td>\n",
              "      <td>132870</td>\n",
              "      <td>HS-grad</td>\n",
              "      <td>9</td>\n",
              "      <td>Widowed</td>\n",
              "      <td>Exec-managerial</td>\n",
              "      <td>Not-in-family</td>\n",
              "      <td>White</td>\n",
              "      <td>Female</td>\n",
              "      <td>0</td>\n",
              "      <td>4356</td>\n",
              "      <td>18</td>\n",
              "      <td>United-States</td>\n",
              "      <td>&lt;=50K</td>\n",
              "    </tr>\n",
              "    <tr>\n",
              "      <th>2</th>\n",
              "      <td>66</td>\n",
              "      <td>?</td>\n",
              "      <td>186061</td>\n",
              "      <td>Some-college</td>\n",
              "      <td>10</td>\n",
              "      <td>Widowed</td>\n",
              "      <td>?</td>\n",
              "      <td>Unmarried</td>\n",
              "      <td>Black</td>\n",
              "      <td>Female</td>\n",
              "      <td>0</td>\n",
              "      <td>4356</td>\n",
              "      <td>40</td>\n",
              "      <td>United-States</td>\n",
              "      <td>&lt;=50K</td>\n",
              "    </tr>\n",
              "    <tr>\n",
              "      <th>3</th>\n",
              "      <td>54</td>\n",
              "      <td>Private</td>\n",
              "      <td>140359</td>\n",
              "      <td>7th-8th</td>\n",
              "      <td>4</td>\n",
              "      <td>Divorced</td>\n",
              "      <td>Machine-op-inspct</td>\n",
              "      <td>Unmarried</td>\n",
              "      <td>White</td>\n",
              "      <td>Female</td>\n",
              "      <td>0</td>\n",
              "      <td>3900</td>\n",
              "      <td>40</td>\n",
              "      <td>United-States</td>\n",
              "      <td>&lt;=50K</td>\n",
              "    </tr>\n",
              "    <tr>\n",
              "      <th>4</th>\n",
              "      <td>41</td>\n",
              "      <td>Private</td>\n",
              "      <td>264663</td>\n",
              "      <td>Some-college</td>\n",
              "      <td>10</td>\n",
              "      <td>Separated</td>\n",
              "      <td>Prof-specialty</td>\n",
              "      <td>Own-child</td>\n",
              "      <td>White</td>\n",
              "      <td>Female</td>\n",
              "      <td>0</td>\n",
              "      <td>3900</td>\n",
              "      <td>40</td>\n",
              "      <td>United-States</td>\n",
              "      <td>&lt;=50K</td>\n",
              "    </tr>\n",
              "  </tbody>\n",
              "</table>\n",
              "</div>"
            ],
            "text/plain": [
              "   age workclass  fnlwgt     education  education.num marital.status  \\\n",
              "0   90         ?   77053       HS-grad              9        Widowed   \n",
              "1   82   Private  132870       HS-grad              9        Widowed   \n",
              "2   66         ?  186061  Some-college             10        Widowed   \n",
              "3   54   Private  140359       7th-8th              4       Divorced   \n",
              "4   41   Private  264663  Some-college             10      Separated   \n",
              "\n",
              "          occupation   relationship   race     sex  capital.gain  \\\n",
              "0                  ?  Not-in-family  White  Female             0   \n",
              "1    Exec-managerial  Not-in-family  White  Female             0   \n",
              "2                  ?      Unmarried  Black  Female             0   \n",
              "3  Machine-op-inspct      Unmarried  White  Female             0   \n",
              "4     Prof-specialty      Own-child  White  Female             0   \n",
              "\n",
              "   capital.loss  hours.per.week native.country income  \n",
              "0          4356              40  United-States  <=50K  \n",
              "1          4356              18  United-States  <=50K  \n",
              "2          4356              40  United-States  <=50K  \n",
              "3          3900              40  United-States  <=50K  \n",
              "4          3900              40  United-States  <=50K  "
            ]
          },
          "metadata": {
            "tags": []
          },
          "execution_count": 4
        }
      ]
    },
    {
      "cell_type": "markdown",
      "metadata": {
        "papermill": {
          "duration": 0.026617,
          "end_time": "2021-06-26T10:56:34.601468",
          "exception": false,
          "start_time": "2021-06-26T10:56:34.574851",
          "status": "completed"
        },
        "tags": [],
        "id": "sonic-allen"
      },
      "source": [
        "# Preprocessing"
      ],
      "id": "sonic-allen"
    },
    {
      "cell_type": "code",
      "metadata": {
        "execution": {
          "iopub.execute_input": "2021-06-26T10:56:34.661173Z",
          "iopub.status.busy": "2021-06-26T10:56:34.660541Z",
          "iopub.status.idle": "2021-06-26T10:56:34.665233Z",
          "shell.execute_reply": "2021-06-26T10:56:34.664735Z",
          "shell.execute_reply.started": "2021-06-26T09:55:20.370480Z"
        },
        "papermill": {
          "duration": 0.037235,
          "end_time": "2021-06-26T10:56:34.665365",
          "exception": false,
          "start_time": "2021-06-26T10:56:34.628130",
          "status": "completed"
        },
        "tags": [],
        "id": "grand-supply"
      },
      "source": [
        "df = df.drop('education.num',axis =1)"
      ],
      "id": "grand-supply",
      "execution_count": null,
      "outputs": []
    },
    {
      "cell_type": "markdown",
      "metadata": {
        "papermill": {
          "duration": 0.025848,
          "end_time": "2021-06-26T10:56:34.717597",
          "exception": false,
          "start_time": "2021-06-26T10:56:34.691749",
          "status": "completed"
        },
        "tags": [],
        "id": "embedded-sierra"
      },
      "source": [
        "### Missing values"
      ],
      "id": "embedded-sierra"
    },
    {
      "cell_type": "code",
      "metadata": {
        "execution": {
          "iopub.execute_input": "2021-06-26T10:56:34.802570Z",
          "iopub.status.busy": "2021-06-26T10:56:34.801864Z",
          "iopub.status.idle": "2021-06-26T10:56:34.809237Z",
          "shell.execute_reply": "2021-06-26T10:56:34.808705Z",
          "shell.execute_reply.started": "2021-06-26T09:55:25.024724Z"
        },
        "papermill": {
          "duration": 0.065256,
          "end_time": "2021-06-26T10:56:34.809367",
          "exception": false,
          "start_time": "2021-06-26T10:56:34.744111",
          "status": "completed"
        },
        "tags": [],
        "id": "refined-plastic",
        "outputId": "6d60819a-4231-448b-c8cf-a6a90be30722"
      },
      "source": [
        "df.isna().sum()"
      ],
      "id": "refined-plastic",
      "execution_count": null,
      "outputs": [
        {
          "output_type": "execute_result",
          "data": {
            "text/plain": [
              "age               0\n",
              "workclass         0\n",
              "fnlwgt            0\n",
              "education         0\n",
              "marital.status    0\n",
              "occupation        0\n",
              "relationship      0\n",
              "race              0\n",
              "sex               0\n",
              "capital.gain      0\n",
              "capital.loss      0\n",
              "hours.per.week    0\n",
              "native.country    0\n",
              "income            0\n",
              "dtype: int64"
            ]
          },
          "metadata": {
            "tags": []
          },
          "execution_count": 6
        }
      ]
    },
    {
      "cell_type": "code",
      "metadata": {
        "execution": {
          "iopub.execute_input": "2021-06-26T10:56:34.875204Z",
          "iopub.status.busy": "2021-06-26T10:56:34.874478Z",
          "iopub.status.idle": "2021-06-26T10:56:34.906989Z",
          "shell.execute_reply": "2021-06-26T10:56:34.906388Z",
          "shell.execute_reply.started": "2021-06-26T09:55:40.319013Z"
        },
        "papermill": {
          "duration": 0.07103,
          "end_time": "2021-06-26T10:56:34.907123",
          "exception": false,
          "start_time": "2021-06-26T10:56:34.836093",
          "status": "completed"
        },
        "tags": [],
        "id": "vocal-lafayette",
        "outputId": "b899af86-62aa-4262-8aae-b993b5da747a"
      },
      "source": [
        "df.isin(['?']).sum()"
      ],
      "id": "vocal-lafayette",
      "execution_count": null,
      "outputs": [
        {
          "output_type": "execute_result",
          "data": {
            "text/plain": [
              "age                  0\n",
              "workclass         1836\n",
              "fnlwgt               0\n",
              "education            0\n",
              "marital.status       0\n",
              "occupation        1843\n",
              "relationship         0\n",
              "race                 0\n",
              "sex                  0\n",
              "capital.gain         0\n",
              "capital.loss         0\n",
              "hours.per.week       0\n",
              "native.country     583\n",
              "income               0\n",
              "dtype: int64"
            ]
          },
          "metadata": {
            "tags": []
          },
          "execution_count": 7
        }
      ]
    },
    {
      "cell_type": "code",
      "metadata": {
        "execution": {
          "iopub.execute_input": "2021-06-26T10:56:34.969529Z",
          "iopub.status.busy": "2021-06-26T10:56:34.968909Z",
          "iopub.status.idle": "2021-06-26T10:56:34.980527Z",
          "shell.execute_reply": "2021-06-26T10:56:34.980014Z",
          "shell.execute_reply.started": "2021-06-26T09:42:15.904388Z"
        },
        "papermill": {
          "duration": 0.046601,
          "end_time": "2021-06-26T10:56:34.980667",
          "exception": false,
          "start_time": "2021-06-26T10:56:34.934066",
          "status": "completed"
        },
        "tags": [],
        "id": "devoted-aquatic",
        "outputId": "05c40884-d4b5-4c01-81ed-b219962b2188"
      },
      "source": [
        "df['workclass'].unique(),df['occupation'].unique(),df['native.country'].unique()"
      ],
      "id": "devoted-aquatic",
      "execution_count": null,
      "outputs": [
        {
          "output_type": "execute_result",
          "data": {
            "text/plain": [
              "(array(['?', 'Private', 'State-gov', 'Federal-gov', 'Self-emp-not-inc',\n",
              "        'Self-emp-inc', 'Local-gov', 'Without-pay', 'Never-worked'],\n",
              "       dtype=object),\n",
              " array(['?', 'Exec-managerial', 'Machine-op-inspct', 'Prof-specialty',\n",
              "        'Other-service', 'Adm-clerical', 'Craft-repair',\n",
              "        'Transport-moving', 'Handlers-cleaners', 'Sales',\n",
              "        'Farming-fishing', 'Tech-support', 'Protective-serv',\n",
              "        'Armed-Forces', 'Priv-house-serv'], dtype=object),\n",
              " array(['United-States', '?', 'Mexico', 'Greece', 'Vietnam', 'China',\n",
              "        'Taiwan', 'India', 'Philippines', 'Trinadad&Tobago', 'Canada',\n",
              "        'South', 'Holand-Netherlands', 'Puerto-Rico', 'Poland', 'Iran',\n",
              "        'England', 'Germany', 'Italy', 'Japan', 'Hong', 'Honduras', 'Cuba',\n",
              "        'Ireland', 'Cambodia', 'Peru', 'Nicaragua', 'Dominican-Republic',\n",
              "        'Haiti', 'El-Salvador', 'Hungary', 'Columbia', 'Guatemala',\n",
              "        'Jamaica', 'Ecuador', 'France', 'Yugoslavia', 'Scotland',\n",
              "        'Portugal', 'Laos', 'Thailand', 'Outlying-US(Guam-USVI-etc)'],\n",
              "       dtype=object))"
            ]
          },
          "metadata": {
            "tags": []
          },
          "execution_count": 8
        }
      ]
    },
    {
      "cell_type": "code",
      "metadata": {
        "execution": {
          "iopub.execute_input": "2021-06-26T10:56:35.041532Z",
          "iopub.status.busy": "2021-06-26T10:56:35.040856Z",
          "iopub.status.idle": "2021-06-26T10:56:35.058144Z",
          "shell.execute_reply": "2021-06-26T10:56:35.058671Z",
          "shell.execute_reply.started": "2021-06-26T09:43:34.704406Z"
        },
        "papermill": {
          "duration": 0.050264,
          "end_time": "2021-06-26T10:56:35.058840",
          "exception": false,
          "start_time": "2021-06-26T10:56:35.008576",
          "status": "completed"
        },
        "tags": [],
        "id": "weighted-thong"
      },
      "source": [
        "df = df.replace('?',np.NaN)"
      ],
      "id": "weighted-thong",
      "execution_count": null,
      "outputs": []
    },
    {
      "cell_type": "code",
      "metadata": {
        "execution": {
          "iopub.execute_input": "2021-06-26T10:56:35.116746Z",
          "iopub.status.busy": "2021-06-26T10:56:35.116203Z",
          "iopub.status.idle": "2021-06-26T10:56:35.461203Z",
          "shell.execute_reply": "2021-06-26T10:56:35.461822Z",
          "shell.execute_reply.started": "2021-06-26T09:47:55.445004Z"
        },
        "papermill": {
          "duration": 0.375713,
          "end_time": "2021-06-26T10:56:35.462065",
          "exception": false,
          "start_time": "2021-06-26T10:56:35.086352",
          "status": "completed"
        },
        "tags": [],
        "id": "forward-modern",
        "outputId": "d0e0e935-94b0-4455-d803-b4d8b8a93d9e"
      },
      "source": [
        "df.loc[:,['education','education.num']]"
      ],
      "id": "forward-modern",
      "execution_count": null,
      "outputs": [
        {
          "output_type": "error",
          "ename": "KeyError",
          "evalue": "\"Passing list-likes to .loc or [] with any missing labels is no longer supported. The following labels were missing: Index(['education.num'], dtype='object'). See https://pandas.pydata.org/pandas-docs/stable/user_guide/indexing.html#deprecate-loc-reindex-listlike\"",
          "traceback": [
            "\u001b[0;31m---------------------------------------------------------------------------\u001b[0m",
            "\u001b[0;31mKeyError\u001b[0m                                  Traceback (most recent call last)",
            "\u001b[0;32m<ipython-input-10-05f1acc9f992>\u001b[0m in \u001b[0;36m<module>\u001b[0;34m\u001b[0m\n\u001b[0;32m----> 1\u001b[0;31m \u001b[0mdf\u001b[0m\u001b[0;34m.\u001b[0m\u001b[0mloc\u001b[0m\u001b[0;34m[\u001b[0m\u001b[0;34m:\u001b[0m\u001b[0;34m,\u001b[0m\u001b[0;34m[\u001b[0m\u001b[0;34m'education'\u001b[0m\u001b[0;34m,\u001b[0m\u001b[0;34m'education.num'\u001b[0m\u001b[0;34m]\u001b[0m\u001b[0;34m]\u001b[0m\u001b[0;34m\u001b[0m\u001b[0;34m\u001b[0m\u001b[0m\n\u001b[0m",
            "\u001b[0;32m/opt/conda/lib/python3.7/site-packages/pandas/core/indexing.py\u001b[0m in \u001b[0;36m__getitem__\u001b[0;34m(self, key)\u001b[0m\n\u001b[1;32m    887\u001b[0m                     \u001b[0;31m# AttributeError for IntervalTree get_value\u001b[0m\u001b[0;34m\u001b[0m\u001b[0;34m\u001b[0m\u001b[0;34m\u001b[0m\u001b[0m\n\u001b[1;32m    888\u001b[0m                     \u001b[0;32mreturn\u001b[0m \u001b[0mself\u001b[0m\u001b[0;34m.\u001b[0m\u001b[0mobj\u001b[0m\u001b[0;34m.\u001b[0m\u001b[0m_get_value\u001b[0m\u001b[0;34m(\u001b[0m\u001b[0;34m*\u001b[0m\u001b[0mkey\u001b[0m\u001b[0;34m,\u001b[0m \u001b[0mtakeable\u001b[0m\u001b[0;34m=\u001b[0m\u001b[0mself\u001b[0m\u001b[0;34m.\u001b[0m\u001b[0m_takeable\u001b[0m\u001b[0;34m)\u001b[0m\u001b[0;34m\u001b[0m\u001b[0;34m\u001b[0m\u001b[0m\n\u001b[0;32m--> 889\u001b[0;31m             \u001b[0;32mreturn\u001b[0m \u001b[0mself\u001b[0m\u001b[0;34m.\u001b[0m\u001b[0m_getitem_tuple\u001b[0m\u001b[0;34m(\u001b[0m\u001b[0mkey\u001b[0m\u001b[0;34m)\u001b[0m\u001b[0;34m\u001b[0m\u001b[0;34m\u001b[0m\u001b[0m\n\u001b[0m\u001b[1;32m    890\u001b[0m         \u001b[0;32melse\u001b[0m\u001b[0;34m:\u001b[0m\u001b[0;34m\u001b[0m\u001b[0;34m\u001b[0m\u001b[0m\n\u001b[1;32m    891\u001b[0m             \u001b[0;31m# we by definition only have the 0th axis\u001b[0m\u001b[0;34m\u001b[0m\u001b[0;34m\u001b[0m\u001b[0;34m\u001b[0m\u001b[0m\n",
            "\u001b[0;32m/opt/conda/lib/python3.7/site-packages/pandas/core/indexing.py\u001b[0m in \u001b[0;36m_getitem_tuple\u001b[0;34m(self, tup)\u001b[0m\n\u001b[1;32m   1067\u001b[0m             \u001b[0;32mreturn\u001b[0m \u001b[0mself\u001b[0m\u001b[0;34m.\u001b[0m\u001b[0m_multi_take\u001b[0m\u001b[0;34m(\u001b[0m\u001b[0mtup\u001b[0m\u001b[0;34m)\u001b[0m\u001b[0;34m\u001b[0m\u001b[0;34m\u001b[0m\u001b[0m\n\u001b[1;32m   1068\u001b[0m \u001b[0;34m\u001b[0m\u001b[0m\n\u001b[0;32m-> 1069\u001b[0;31m         \u001b[0;32mreturn\u001b[0m \u001b[0mself\u001b[0m\u001b[0;34m.\u001b[0m\u001b[0m_getitem_tuple_same_dim\u001b[0m\u001b[0;34m(\u001b[0m\u001b[0mtup\u001b[0m\u001b[0;34m)\u001b[0m\u001b[0;34m\u001b[0m\u001b[0;34m\u001b[0m\u001b[0m\n\u001b[0m\u001b[1;32m   1070\u001b[0m \u001b[0;34m\u001b[0m\u001b[0m\n\u001b[1;32m   1071\u001b[0m     \u001b[0;32mdef\u001b[0m \u001b[0m_get_label\u001b[0m\u001b[0;34m(\u001b[0m\u001b[0mself\u001b[0m\u001b[0;34m,\u001b[0m \u001b[0mlabel\u001b[0m\u001b[0;34m,\u001b[0m \u001b[0maxis\u001b[0m\u001b[0;34m:\u001b[0m \u001b[0mint\u001b[0m\u001b[0;34m)\u001b[0m\u001b[0;34m:\u001b[0m\u001b[0;34m\u001b[0m\u001b[0;34m\u001b[0m\u001b[0m\n",
            "\u001b[0;32m/opt/conda/lib/python3.7/site-packages/pandas/core/indexing.py\u001b[0m in \u001b[0;36m_getitem_tuple_same_dim\u001b[0;34m(self, tup)\u001b[0m\n\u001b[1;32m    773\u001b[0m                 \u001b[0;32mcontinue\u001b[0m\u001b[0;34m\u001b[0m\u001b[0;34m\u001b[0m\u001b[0m\n\u001b[1;32m    774\u001b[0m \u001b[0;34m\u001b[0m\u001b[0m\n\u001b[0;32m--> 775\u001b[0;31m             \u001b[0mretval\u001b[0m \u001b[0;34m=\u001b[0m \u001b[0mgetattr\u001b[0m\u001b[0;34m(\u001b[0m\u001b[0mretval\u001b[0m\u001b[0;34m,\u001b[0m \u001b[0mself\u001b[0m\u001b[0;34m.\u001b[0m\u001b[0mname\u001b[0m\u001b[0;34m)\u001b[0m\u001b[0;34m.\u001b[0m\u001b[0m_getitem_axis\u001b[0m\u001b[0;34m(\u001b[0m\u001b[0mkey\u001b[0m\u001b[0;34m,\u001b[0m \u001b[0maxis\u001b[0m\u001b[0;34m=\u001b[0m\u001b[0mi\u001b[0m\u001b[0;34m)\u001b[0m\u001b[0;34m\u001b[0m\u001b[0;34m\u001b[0m\u001b[0m\n\u001b[0m\u001b[1;32m    776\u001b[0m             \u001b[0;31m# We should never have retval.ndim < self.ndim, as that should\u001b[0m\u001b[0;34m\u001b[0m\u001b[0;34m\u001b[0m\u001b[0;34m\u001b[0m\u001b[0m\n\u001b[1;32m    777\u001b[0m             \u001b[0;31m#  be handled by the _getitem_lowerdim call above.\u001b[0m\u001b[0;34m\u001b[0m\u001b[0;34m\u001b[0m\u001b[0;34m\u001b[0m\u001b[0m\n",
            "\u001b[0;32m/opt/conda/lib/python3.7/site-packages/pandas/core/indexing.py\u001b[0m in \u001b[0;36m_getitem_axis\u001b[0;34m(self, key, axis)\u001b[0m\n\u001b[1;32m   1111\u001b[0m                     \u001b[0;32mraise\u001b[0m \u001b[0mValueError\u001b[0m\u001b[0;34m(\u001b[0m\u001b[0;34m\"Cannot index with multidimensional key\"\u001b[0m\u001b[0;34m)\u001b[0m\u001b[0;34m\u001b[0m\u001b[0;34m\u001b[0m\u001b[0m\n\u001b[1;32m   1112\u001b[0m \u001b[0;34m\u001b[0m\u001b[0m\n\u001b[0;32m-> 1113\u001b[0;31m                 \u001b[0;32mreturn\u001b[0m \u001b[0mself\u001b[0m\u001b[0;34m.\u001b[0m\u001b[0m_getitem_iterable\u001b[0m\u001b[0;34m(\u001b[0m\u001b[0mkey\u001b[0m\u001b[0;34m,\u001b[0m \u001b[0maxis\u001b[0m\u001b[0;34m=\u001b[0m\u001b[0maxis\u001b[0m\u001b[0;34m)\u001b[0m\u001b[0;34m\u001b[0m\u001b[0;34m\u001b[0m\u001b[0m\n\u001b[0m\u001b[1;32m   1114\u001b[0m \u001b[0;34m\u001b[0m\u001b[0m\n\u001b[1;32m   1115\u001b[0m             \u001b[0;31m# nested tuple slicing\u001b[0m\u001b[0;34m\u001b[0m\u001b[0;34m\u001b[0m\u001b[0;34m\u001b[0m\u001b[0m\n",
            "\u001b[0;32m/opt/conda/lib/python3.7/site-packages/pandas/core/indexing.py\u001b[0m in \u001b[0;36m_getitem_iterable\u001b[0;34m(self, key, axis)\u001b[0m\n\u001b[1;32m   1051\u001b[0m \u001b[0;34m\u001b[0m\u001b[0m\n\u001b[1;32m   1052\u001b[0m         \u001b[0;31m# A collection of keys\u001b[0m\u001b[0;34m\u001b[0m\u001b[0;34m\u001b[0m\u001b[0;34m\u001b[0m\u001b[0m\n\u001b[0;32m-> 1053\u001b[0;31m         \u001b[0mkeyarr\u001b[0m\u001b[0;34m,\u001b[0m \u001b[0mindexer\u001b[0m \u001b[0;34m=\u001b[0m \u001b[0mself\u001b[0m\u001b[0;34m.\u001b[0m\u001b[0m_get_listlike_indexer\u001b[0m\u001b[0;34m(\u001b[0m\u001b[0mkey\u001b[0m\u001b[0;34m,\u001b[0m \u001b[0maxis\u001b[0m\u001b[0;34m,\u001b[0m \u001b[0mraise_missing\u001b[0m\u001b[0;34m=\u001b[0m\u001b[0;32mFalse\u001b[0m\u001b[0;34m)\u001b[0m\u001b[0;34m\u001b[0m\u001b[0;34m\u001b[0m\u001b[0m\n\u001b[0m\u001b[1;32m   1054\u001b[0m         return self.obj._reindex_with_indexers(\n\u001b[1;32m   1055\u001b[0m             \u001b[0;34m{\u001b[0m\u001b[0maxis\u001b[0m\u001b[0;34m:\u001b[0m \u001b[0;34m[\u001b[0m\u001b[0mkeyarr\u001b[0m\u001b[0;34m,\u001b[0m \u001b[0mindexer\u001b[0m\u001b[0;34m]\u001b[0m\u001b[0;34m}\u001b[0m\u001b[0;34m,\u001b[0m \u001b[0mcopy\u001b[0m\u001b[0;34m=\u001b[0m\u001b[0;32mTrue\u001b[0m\u001b[0;34m,\u001b[0m \u001b[0mallow_dups\u001b[0m\u001b[0;34m=\u001b[0m\u001b[0;32mTrue\u001b[0m\u001b[0;34m\u001b[0m\u001b[0;34m\u001b[0m\u001b[0m\n",
            "\u001b[0;32m/opt/conda/lib/python3.7/site-packages/pandas/core/indexing.py\u001b[0m in \u001b[0;36m_get_listlike_indexer\u001b[0;34m(self, key, axis, raise_missing)\u001b[0m\n\u001b[1;32m   1264\u001b[0m             \u001b[0mkeyarr\u001b[0m\u001b[0;34m,\u001b[0m \u001b[0mindexer\u001b[0m\u001b[0;34m,\u001b[0m \u001b[0mnew_indexer\u001b[0m \u001b[0;34m=\u001b[0m \u001b[0max\u001b[0m\u001b[0;34m.\u001b[0m\u001b[0m_reindex_non_unique\u001b[0m\u001b[0;34m(\u001b[0m\u001b[0mkeyarr\u001b[0m\u001b[0;34m)\u001b[0m\u001b[0;34m\u001b[0m\u001b[0;34m\u001b[0m\u001b[0m\n\u001b[1;32m   1265\u001b[0m \u001b[0;34m\u001b[0m\u001b[0m\n\u001b[0;32m-> 1266\u001b[0;31m         \u001b[0mself\u001b[0m\u001b[0;34m.\u001b[0m\u001b[0m_validate_read_indexer\u001b[0m\u001b[0;34m(\u001b[0m\u001b[0mkeyarr\u001b[0m\u001b[0;34m,\u001b[0m \u001b[0mindexer\u001b[0m\u001b[0;34m,\u001b[0m \u001b[0maxis\u001b[0m\u001b[0;34m,\u001b[0m \u001b[0mraise_missing\u001b[0m\u001b[0;34m=\u001b[0m\u001b[0mraise_missing\u001b[0m\u001b[0;34m)\u001b[0m\u001b[0;34m\u001b[0m\u001b[0;34m\u001b[0m\u001b[0m\n\u001b[0m\u001b[1;32m   1267\u001b[0m         \u001b[0;32mreturn\u001b[0m \u001b[0mkeyarr\u001b[0m\u001b[0;34m,\u001b[0m \u001b[0mindexer\u001b[0m\u001b[0;34m\u001b[0m\u001b[0;34m\u001b[0m\u001b[0m\n\u001b[1;32m   1268\u001b[0m \u001b[0;34m\u001b[0m\u001b[0m\n",
            "\u001b[0;32m/opt/conda/lib/python3.7/site-packages/pandas/core/indexing.py\u001b[0m in \u001b[0;36m_validate_read_indexer\u001b[0;34m(self, key, indexer, axis, raise_missing)\u001b[0m\n\u001b[1;32m   1320\u001b[0m             \u001b[0;32mwith\u001b[0m \u001b[0moption_context\u001b[0m\u001b[0;34m(\u001b[0m\u001b[0;34m\"display.max_seq_items\"\u001b[0m\u001b[0;34m,\u001b[0m \u001b[0;36m10\u001b[0m\u001b[0;34m,\u001b[0m \u001b[0;34m\"display.width\"\u001b[0m\u001b[0;34m,\u001b[0m \u001b[0;36m80\u001b[0m\u001b[0;34m)\u001b[0m\u001b[0;34m:\u001b[0m\u001b[0;34m\u001b[0m\u001b[0;34m\u001b[0m\u001b[0m\n\u001b[1;32m   1321\u001b[0m                 raise KeyError(\n\u001b[0;32m-> 1322\u001b[0;31m                     \u001b[0;34m\"Passing list-likes to .loc or [] with any missing labels \"\u001b[0m\u001b[0;34m\u001b[0m\u001b[0;34m\u001b[0m\u001b[0m\n\u001b[0m\u001b[1;32m   1323\u001b[0m                     \u001b[0;34m\"is no longer supported. \"\u001b[0m\u001b[0;34m\u001b[0m\u001b[0;34m\u001b[0m\u001b[0m\n\u001b[1;32m   1324\u001b[0m                     \u001b[0;34mf\"The following labels were missing: {not_found}. \"\u001b[0m\u001b[0;34m\u001b[0m\u001b[0;34m\u001b[0m\u001b[0m\n",
            "\u001b[0;31mKeyError\u001b[0m: \"Passing list-likes to .loc or [] with any missing labels is no longer supported. The following labels were missing: Index(['education.num'], dtype='object'). See https://pandas.pydata.org/pandas-docs/stable/user_guide/indexing.html#deprecate-loc-reindex-listlike\""
          ]
        }
      ]
    },
    {
      "cell_type": "code",
      "metadata": {
        "execution": {
          "iopub.execute_input": "2021-06-26T10:56:35.522196Z",
          "iopub.status.busy": "2021-06-26T10:56:35.521552Z",
          "iopub.status.idle": "2021-06-26T10:56:35.524588Z",
          "shell.execute_reply": "2021-06-26T10:56:35.524063Z",
          "shell.execute_reply.started": "2021-06-26T09:46:35.439401Z"
        },
        "papermill": {
          "duration": 0.034912,
          "end_time": "2021-06-26T10:56:35.524717",
          "exception": false,
          "start_time": "2021-06-26T10:56:35.489805",
          "status": "completed"
        },
        "tags": [],
        "id": "durable-benjamin"
      },
      "source": [
        "categorical_features = ['workclass','education','marital.status','occupation','relationship','race','sex','native.country']\n"
      ],
      "id": "durable-benjamin",
      "execution_count": null,
      "outputs": []
    },
    {
      "cell_type": "code",
      "metadata": {
        "execution": {
          "iopub.execute_input": "2021-06-26T10:56:35.588352Z",
          "iopub.status.busy": "2021-06-26T10:56:35.587745Z",
          "iopub.status.idle": "2021-06-26T10:56:35.590722Z",
          "shell.execute_reply": "2021-06-26T10:56:35.590229Z",
          "shell.execute_reply.started": "2021-06-26T10:01:19.469182Z"
        },
        "papermill": {
          "duration": 0.038432,
          "end_time": "2021-06-26T10:56:35.590853",
          "exception": false,
          "start_time": "2021-06-26T10:56:35.552421",
          "status": "completed"
        },
        "tags": [],
        "id": "threaded-absence"
      },
      "source": [
        "def get_categorical_uniques(df,columns):\n",
        "    categorical_uniques = dict()\n",
        "    for column in columns:\n",
        "        categorical_uniques[column] = list(df[column].unique())\n",
        "    return categorical_uniques"
      ],
      "id": "threaded-absence",
      "execution_count": null,
      "outputs": []
    },
    {
      "cell_type": "code",
      "metadata": {
        "execution": {
          "iopub.execute_input": "2021-06-26T10:56:35.656475Z",
          "iopub.status.busy": "2021-06-26T10:56:35.655844Z",
          "iopub.status.idle": "2021-06-26T10:56:35.679574Z",
          "shell.execute_reply": "2021-06-26T10:56:35.678944Z",
          "shell.execute_reply.started": "2021-06-26T10:01:20.836905Z"
        },
        "papermill": {
          "duration": 0.06101,
          "end_time": "2021-06-26T10:56:35.679698",
          "exception": false,
          "start_time": "2021-06-26T10:56:35.618688",
          "status": "completed"
        },
        "tags": [],
        "id": "weird-handy",
        "outputId": "4bb3591e-c61b-4d37-93a9-2e4d0feffa53"
      },
      "source": [
        "get_categorical_uniques(df,categorical_features)"
      ],
      "id": "weird-handy",
      "execution_count": null,
      "outputs": [
        {
          "output_type": "execute_result",
          "data": {
            "text/plain": [
              "{'workclass': [nan,\n",
              "  'Private',\n",
              "  'State-gov',\n",
              "  'Federal-gov',\n",
              "  'Self-emp-not-inc',\n",
              "  'Self-emp-inc',\n",
              "  'Local-gov',\n",
              "  'Without-pay',\n",
              "  'Never-worked'],\n",
              " 'education': ['HS-grad',\n",
              "  'Some-college',\n",
              "  '7th-8th',\n",
              "  '10th',\n",
              "  'Doctorate',\n",
              "  'Prof-school',\n",
              "  'Bachelors',\n",
              "  'Masters',\n",
              "  '11th',\n",
              "  'Assoc-acdm',\n",
              "  'Assoc-voc',\n",
              "  '1st-4th',\n",
              "  '5th-6th',\n",
              "  '12th',\n",
              "  '9th',\n",
              "  'Preschool'],\n",
              " 'marital.status': ['Widowed',\n",
              "  'Divorced',\n",
              "  'Separated',\n",
              "  'Never-married',\n",
              "  'Married-civ-spouse',\n",
              "  'Married-spouse-absent',\n",
              "  'Married-AF-spouse'],\n",
              " 'occupation': [nan,\n",
              "  'Exec-managerial',\n",
              "  'Machine-op-inspct',\n",
              "  'Prof-specialty',\n",
              "  'Other-service',\n",
              "  'Adm-clerical',\n",
              "  'Craft-repair',\n",
              "  'Transport-moving',\n",
              "  'Handlers-cleaners',\n",
              "  'Sales',\n",
              "  'Farming-fishing',\n",
              "  'Tech-support',\n",
              "  'Protective-serv',\n",
              "  'Armed-Forces',\n",
              "  'Priv-house-serv'],\n",
              " 'relationship': ['Not-in-family',\n",
              "  'Unmarried',\n",
              "  'Own-child',\n",
              "  'Other-relative',\n",
              "  'Husband',\n",
              "  'Wife'],\n",
              " 'race': ['White',\n",
              "  'Black',\n",
              "  'Asian-Pac-Islander',\n",
              "  'Other',\n",
              "  'Amer-Indian-Eskimo'],\n",
              " 'sex': ['Female', 'Male'],\n",
              " 'native.country': ['United-States',\n",
              "  nan,\n",
              "  'Mexico',\n",
              "  'Greece',\n",
              "  'Vietnam',\n",
              "  'China',\n",
              "  'Taiwan',\n",
              "  'India',\n",
              "  'Philippines',\n",
              "  'Trinadad&Tobago',\n",
              "  'Canada',\n",
              "  'South',\n",
              "  'Holand-Netherlands',\n",
              "  'Puerto-Rico',\n",
              "  'Poland',\n",
              "  'Iran',\n",
              "  'England',\n",
              "  'Germany',\n",
              "  'Italy',\n",
              "  'Japan',\n",
              "  'Hong',\n",
              "  'Honduras',\n",
              "  'Cuba',\n",
              "  'Ireland',\n",
              "  'Cambodia',\n",
              "  'Peru',\n",
              "  'Nicaragua',\n",
              "  'Dominican-Republic',\n",
              "  'Haiti',\n",
              "  'El-Salvador',\n",
              "  'Hungary',\n",
              "  'Columbia',\n",
              "  'Guatemala',\n",
              "  'Jamaica',\n",
              "  'Ecuador',\n",
              "  'France',\n",
              "  'Yugoslavia',\n",
              "  'Scotland',\n",
              "  'Portugal',\n",
              "  'Laos',\n",
              "  'Thailand',\n",
              "  'Outlying-US(Guam-USVI-etc)']}"
            ]
          },
          "metadata": {
            "tags": []
          },
          "execution_count": 13
        }
      ]
    },
    {
      "cell_type": "code",
      "metadata": {
        "execution": {
          "iopub.execute_input": "2021-06-26T10:56:35.741667Z",
          "iopub.status.busy": "2021-06-26T10:56:35.741020Z",
          "iopub.status.idle": "2021-06-26T10:56:35.744150Z",
          "shell.execute_reply": "2021-06-26T10:56:35.743490Z",
          "shell.execute_reply.started": "2021-06-26T10:13:24.775452Z"
        },
        "papermill": {
          "duration": 0.035941,
          "end_time": "2021-06-26T10:56:35.744282",
          "exception": false,
          "start_time": "2021-06-26T10:56:35.708341",
          "status": "completed"
        },
        "tags": [],
        "id": "charitable-louisiana"
      },
      "source": [
        "binary_features = ['sex']\n",
        "nominal_features = ['workclass','education','marital.status','occupation','relationship','race','native.country']   "
      ],
      "id": "charitable-louisiana",
      "execution_count": null,
      "outputs": []
    },
    {
      "cell_type": "code",
      "metadata": {
        "execution": {
          "iopub.execute_input": "2021-06-26T10:56:35.808910Z",
          "iopub.status.busy": "2021-06-26T10:56:35.808302Z",
          "iopub.status.idle": "2021-06-26T10:56:35.811663Z",
          "shell.execute_reply": "2021-06-26T10:56:35.810843Z",
          "shell.execute_reply.started": "2021-06-26T10:14:08.575656Z"
        },
        "papermill": {
          "duration": 0.038282,
          "end_time": "2021-06-26T10:56:35.811801",
          "exception": false,
          "start_time": "2021-06-26T10:56:35.773519",
          "status": "completed"
        },
        "tags": [],
        "id": "painted-reading"
      },
      "source": [
        "def binary_encode(df,columns):\n",
        "    label_encode = LabelEncoder()\n",
        "    for column in columns:\n",
        "        df[column] = label_encode.fit_transform(df[column])\n",
        "    return df\n",
        "\n",
        "def onehot_encode(df,columns):\n",
        "    for column in columns:\n",
        "        dummies = pd.get_dummies(df[column])\n",
        "        df = pd.concat([df,dummies],axis = 1)\n",
        "        df = df.drop(column,axis = 1)\n",
        "    return df\n",
        "        "
      ],
      "id": "painted-reading",
      "execution_count": null,
      "outputs": []
    },
    {
      "cell_type": "code",
      "metadata": {
        "execution": {
          "iopub.execute_input": "2021-06-26T10:56:35.890129Z",
          "iopub.status.busy": "2021-06-26T10:56:35.883936Z",
          "iopub.status.idle": "2021-06-26T10:56:35.994528Z",
          "shell.execute_reply": "2021-06-26T10:56:35.993853Z",
          "shell.execute_reply.started": "2021-06-26T10:14:10.696900Z"
        },
        "papermill": {
          "duration": 0.154484,
          "end_time": "2021-06-26T10:56:35.994674",
          "exception": false,
          "start_time": "2021-06-26T10:56:35.840190",
          "status": "completed"
        },
        "tags": [],
        "id": "familiar-arlington"
      },
      "source": [
        "df = binary_encode(df,binary_features)\n",
        "df = onehot_encode(df,nominal_features)"
      ],
      "id": "familiar-arlington",
      "execution_count": null,
      "outputs": []
    },
    {
      "cell_type": "code",
      "metadata": {
        "execution": {
          "iopub.execute_input": "2021-06-26T10:56:36.058811Z",
          "iopub.status.busy": "2021-06-26T10:56:36.058077Z",
          "iopub.status.idle": "2021-06-26T10:56:36.061578Z",
          "shell.execute_reply": "2021-06-26T10:56:36.060985Z",
          "shell.execute_reply.started": "2021-06-26T10:15:02.647726Z"
        },
        "papermill": {
          "duration": 0.038204,
          "end_time": "2021-06-26T10:56:36.061719",
          "exception": false,
          "start_time": "2021-06-26T10:56:36.023515",
          "status": "completed"
        },
        "tags": [],
        "id": "written-warning",
        "outputId": "9798299b-4856-4c63-dfce-2fc9eaded457"
      },
      "source": [
        "(df.dtypes == 'object').sum()"
      ],
      "id": "written-warning",
      "execution_count": null,
      "outputs": [
        {
          "output_type": "execute_result",
          "data": {
            "text/plain": [
              "1"
            ]
          },
          "metadata": {
            "tags": []
          },
          "execution_count": 17
        }
      ]
    },
    {
      "cell_type": "code",
      "metadata": {
        "execution": {
          "iopub.execute_input": "2021-06-26T10:56:36.125665Z",
          "iopub.status.busy": "2021-06-26T10:56:36.125044Z",
          "iopub.status.idle": "2021-06-26T10:56:36.129254Z",
          "shell.execute_reply": "2021-06-26T10:56:36.129704Z",
          "shell.execute_reply.started": "2021-06-26T10:15:46.060032Z"
        },
        "papermill": {
          "duration": 0.038849,
          "end_time": "2021-06-26T10:56:36.129865",
          "exception": false,
          "start_time": "2021-06-26T10:56:36.091016",
          "status": "completed"
        },
        "tags": [],
        "id": "accredited-detector"
      },
      "source": [
        "y = df['income']\n",
        "x = df.drop('income',axis = 1)"
      ],
      "id": "accredited-detector",
      "execution_count": null,
      "outputs": []
    },
    {
      "cell_type": "code",
      "metadata": {
        "execution": {
          "iopub.execute_input": "2021-06-26T10:56:36.191990Z",
          "iopub.status.busy": "2021-06-26T10:56:36.191372Z",
          "iopub.status.idle": "2021-06-26T10:56:36.206517Z",
          "shell.execute_reply": "2021-06-26T10:56:36.206982Z",
          "shell.execute_reply.started": "2021-06-26T10:17:27.265893Z"
        },
        "papermill": {
          "duration": 0.048132,
          "end_time": "2021-06-26T10:56:36.207152",
          "exception": false,
          "start_time": "2021-06-26T10:56:36.159020",
          "status": "completed"
        },
        "tags": [],
        "id": "collective-cargo"
      },
      "source": [
        "label_encoder = LabelEncoder()\n",
        "y = label_encoder.fit_transform(y)\n",
        "y_mapping = {index: label for index,label in enumerate(label_encoder.classes_)}"
      ],
      "id": "collective-cargo",
      "execution_count": null,
      "outputs": []
    },
    {
      "cell_type": "code",
      "metadata": {
        "execution": {
          "iopub.execute_input": "2021-06-26T10:56:36.268087Z",
          "iopub.status.busy": "2021-06-26T10:56:36.267441Z",
          "iopub.status.idle": "2021-06-26T10:56:36.271817Z",
          "shell.execute_reply": "2021-06-26T10:56:36.272276Z",
          "shell.execute_reply.started": "2021-06-26T10:18:00.490388Z"
        },
        "papermill": {
          "duration": 0.036101,
          "end_time": "2021-06-26T10:56:36.272439",
          "exception": false,
          "start_time": "2021-06-26T10:56:36.236338",
          "status": "completed"
        },
        "tags": [],
        "id": "prospective-basket",
        "outputId": "39140b71-cce9-472b-857c-60434df1ef9f"
      },
      "source": [
        "y_mapping\n"
      ],
      "id": "prospective-basket",
      "execution_count": null,
      "outputs": [
        {
          "output_type": "execute_result",
          "data": {
            "text/plain": [
              "{0: '<=50K', 1: '>50K'}"
            ]
          },
          "metadata": {
            "tags": []
          },
          "execution_count": 20
        }
      ]
    },
    {
      "cell_type": "code",
      "metadata": {
        "execution": {
          "iopub.execute_input": "2021-06-26T10:56:36.334041Z",
          "iopub.status.busy": "2021-06-26T10:56:36.333423Z",
          "iopub.status.idle": "2021-06-26T10:56:36.337749Z",
          "shell.execute_reply": "2021-06-26T10:56:36.338240Z",
          "shell.execute_reply.started": "2021-06-26T10:18:06.451480Z"
        },
        "papermill": {
          "duration": 0.036937,
          "end_time": "2021-06-26T10:56:36.338403",
          "exception": false,
          "start_time": "2021-06-26T10:56:36.301466",
          "status": "completed"
        },
        "tags": [],
        "id": "threatened-vintage",
        "outputId": "60558949-2347-4669-e7ae-94307e824302"
      },
      "source": [
        "y"
      ],
      "id": "threatened-vintage",
      "execution_count": null,
      "outputs": [
        {
          "output_type": "execute_result",
          "data": {
            "text/plain": [
              "array([0, 0, 0, ..., 1, 0, 0])"
            ]
          },
          "metadata": {
            "tags": []
          },
          "execution_count": 21
        }
      ]
    },
    {
      "cell_type": "markdown",
      "metadata": {
        "papermill": {
          "duration": 0.029396,
          "end_time": "2021-06-26T10:56:36.397227",
          "exception": false,
          "start_time": "2021-06-26T10:56:36.367831",
          "status": "completed"
        },
        "tags": [],
        "id": "offensive-assurance"
      },
      "source": [
        "### Scaling"
      ],
      "id": "offensive-assurance"
    },
    {
      "cell_type": "code",
      "metadata": {
        "execution": {
          "iopub.execute_input": "2021-06-26T10:56:36.459902Z",
          "iopub.status.busy": "2021-06-26T10:56:36.458942Z",
          "iopub.status.idle": "2021-06-26T10:56:36.523351Z",
          "shell.execute_reply": "2021-06-26T10:56:36.523838Z",
          "shell.execute_reply.started": "2021-06-26T10:19:04.000603Z"
        },
        "papermill": {
          "duration": 0.097299,
          "end_time": "2021-06-26T10:56:36.524044",
          "exception": false,
          "start_time": "2021-06-26T10:56:36.426745",
          "status": "completed"
        },
        "tags": [],
        "id": "noble-juice"
      },
      "source": [
        "scaler = MinMaxScaler()\n",
        "x = pd.DataFrame(scaler.fit_transform(x),columns=x.columns)"
      ],
      "id": "noble-juice",
      "execution_count": null,
      "outputs": []
    },
    {
      "cell_type": "code",
      "metadata": {
        "execution": {
          "iopub.execute_input": "2021-06-26T10:56:36.589333Z",
          "iopub.status.busy": "2021-06-26T10:56:36.588660Z",
          "iopub.status.idle": "2021-06-26T10:56:36.631911Z",
          "shell.execute_reply": "2021-06-26T10:56:36.632462Z",
          "shell.execute_reply.started": "2021-06-26T10:19:06.416467Z"
        },
        "papermill": {
          "duration": 0.078806,
          "end_time": "2021-06-26T10:56:36.632632",
          "exception": false,
          "start_time": "2021-06-26T10:56:36.553826",
          "status": "completed"
        },
        "tags": [],
        "id": "sensitive-token",
        "outputId": "51737796-ee68-47f2-8387-65f684a60f24"
      },
      "source": [
        "x"
      ],
      "id": "sensitive-token",
      "execution_count": null,
      "outputs": [
        {
          "output_type": "execute_result",
          "data": {
            "text/html": [
              "<div>\n",
              "<style scoped>\n",
              "    .dataframe tbody tr th:only-of-type {\n",
              "        vertical-align: middle;\n",
              "    }\n",
              "\n",
              "    .dataframe tbody tr th {\n",
              "        vertical-align: top;\n",
              "    }\n",
              "\n",
              "    .dataframe thead th {\n",
              "        text-align: right;\n",
              "    }\n",
              "</style>\n",
              "<table border=\"1\" class=\"dataframe\">\n",
              "  <thead>\n",
              "    <tr style=\"text-align: right;\">\n",
              "      <th></th>\n",
              "      <th>age</th>\n",
              "      <th>fnlwgt</th>\n",
              "      <th>sex</th>\n",
              "      <th>capital.gain</th>\n",
              "      <th>capital.loss</th>\n",
              "      <th>hours.per.week</th>\n",
              "      <th>Federal-gov</th>\n",
              "      <th>Local-gov</th>\n",
              "      <th>Never-worked</th>\n",
              "      <th>Private</th>\n",
              "      <th>...</th>\n",
              "      <th>Portugal</th>\n",
              "      <th>Puerto-Rico</th>\n",
              "      <th>Scotland</th>\n",
              "      <th>South</th>\n",
              "      <th>Taiwan</th>\n",
              "      <th>Thailand</th>\n",
              "      <th>Trinadad&amp;Tobago</th>\n",
              "      <th>United-States</th>\n",
              "      <th>Vietnam</th>\n",
              "      <th>Yugoslavia</th>\n",
              "    </tr>\n",
              "  </thead>\n",
              "  <tbody>\n",
              "    <tr>\n",
              "      <th>0</th>\n",
              "      <td>1.000000</td>\n",
              "      <td>0.043987</td>\n",
              "      <td>0.0</td>\n",
              "      <td>0.0</td>\n",
              "      <td>1.000000</td>\n",
              "      <td>0.397959</td>\n",
              "      <td>0.0</td>\n",
              "      <td>0.0</td>\n",
              "      <td>0.0</td>\n",
              "      <td>0.0</td>\n",
              "      <td>...</td>\n",
              "      <td>0.0</td>\n",
              "      <td>0.0</td>\n",
              "      <td>0.0</td>\n",
              "      <td>0.0</td>\n",
              "      <td>0.0</td>\n",
              "      <td>0.0</td>\n",
              "      <td>0.0</td>\n",
              "      <td>1.0</td>\n",
              "      <td>0.0</td>\n",
              "      <td>0.0</td>\n",
              "    </tr>\n",
              "    <tr>\n",
              "      <th>1</th>\n",
              "      <td>0.890411</td>\n",
              "      <td>0.081896</td>\n",
              "      <td>0.0</td>\n",
              "      <td>0.0</td>\n",
              "      <td>1.000000</td>\n",
              "      <td>0.173469</td>\n",
              "      <td>0.0</td>\n",
              "      <td>0.0</td>\n",
              "      <td>0.0</td>\n",
              "      <td>1.0</td>\n",
              "      <td>...</td>\n",
              "      <td>0.0</td>\n",
              "      <td>0.0</td>\n",
              "      <td>0.0</td>\n",
              "      <td>0.0</td>\n",
              "      <td>0.0</td>\n",
              "      <td>0.0</td>\n",
              "      <td>0.0</td>\n",
              "      <td>1.0</td>\n",
              "      <td>0.0</td>\n",
              "      <td>0.0</td>\n",
              "    </tr>\n",
              "    <tr>\n",
              "      <th>2</th>\n",
              "      <td>0.671233</td>\n",
              "      <td>0.118021</td>\n",
              "      <td>0.0</td>\n",
              "      <td>0.0</td>\n",
              "      <td>1.000000</td>\n",
              "      <td>0.397959</td>\n",
              "      <td>0.0</td>\n",
              "      <td>0.0</td>\n",
              "      <td>0.0</td>\n",
              "      <td>0.0</td>\n",
              "      <td>...</td>\n",
              "      <td>0.0</td>\n",
              "      <td>0.0</td>\n",
              "      <td>0.0</td>\n",
              "      <td>0.0</td>\n",
              "      <td>0.0</td>\n",
              "      <td>0.0</td>\n",
              "      <td>0.0</td>\n",
              "      <td>1.0</td>\n",
              "      <td>0.0</td>\n",
              "      <td>0.0</td>\n",
              "    </tr>\n",
              "    <tr>\n",
              "      <th>3</th>\n",
              "      <td>0.506849</td>\n",
              "      <td>0.086982</td>\n",
              "      <td>0.0</td>\n",
              "      <td>0.0</td>\n",
              "      <td>0.895317</td>\n",
              "      <td>0.397959</td>\n",
              "      <td>0.0</td>\n",
              "      <td>0.0</td>\n",
              "      <td>0.0</td>\n",
              "      <td>1.0</td>\n",
              "      <td>...</td>\n",
              "      <td>0.0</td>\n",
              "      <td>0.0</td>\n",
              "      <td>0.0</td>\n",
              "      <td>0.0</td>\n",
              "      <td>0.0</td>\n",
              "      <td>0.0</td>\n",
              "      <td>0.0</td>\n",
              "      <td>1.0</td>\n",
              "      <td>0.0</td>\n",
              "      <td>0.0</td>\n",
              "    </tr>\n",
              "    <tr>\n",
              "      <th>4</th>\n",
              "      <td>0.328767</td>\n",
              "      <td>0.171404</td>\n",
              "      <td>0.0</td>\n",
              "      <td>0.0</td>\n",
              "      <td>0.895317</td>\n",
              "      <td>0.397959</td>\n",
              "      <td>0.0</td>\n",
              "      <td>0.0</td>\n",
              "      <td>0.0</td>\n",
              "      <td>1.0</td>\n",
              "      <td>...</td>\n",
              "      <td>0.0</td>\n",
              "      <td>0.0</td>\n",
              "      <td>0.0</td>\n",
              "      <td>0.0</td>\n",
              "      <td>0.0</td>\n",
              "      <td>0.0</td>\n",
              "      <td>0.0</td>\n",
              "      <td>1.0</td>\n",
              "      <td>0.0</td>\n",
              "      <td>0.0</td>\n",
              "    </tr>\n",
              "    <tr>\n",
              "      <th>...</th>\n",
              "      <td>...</td>\n",
              "      <td>...</td>\n",
              "      <td>...</td>\n",
              "      <td>...</td>\n",
              "      <td>...</td>\n",
              "      <td>...</td>\n",
              "      <td>...</td>\n",
              "      <td>...</td>\n",
              "      <td>...</td>\n",
              "      <td>...</td>\n",
              "      <td>...</td>\n",
              "      <td>...</td>\n",
              "      <td>...</td>\n",
              "      <td>...</td>\n",
              "      <td>...</td>\n",
              "      <td>...</td>\n",
              "      <td>...</td>\n",
              "      <td>...</td>\n",
              "      <td>...</td>\n",
              "      <td>...</td>\n",
              "      <td>...</td>\n",
              "    </tr>\n",
              "    <tr>\n",
              "      <th>32556</th>\n",
              "      <td>0.068493</td>\n",
              "      <td>0.202298</td>\n",
              "      <td>1.0</td>\n",
              "      <td>0.0</td>\n",
              "      <td>0.000000</td>\n",
              "      <td>0.397959</td>\n",
              "      <td>0.0</td>\n",
              "      <td>0.0</td>\n",
              "      <td>0.0</td>\n",
              "      <td>1.0</td>\n",
              "      <td>...</td>\n",
              "      <td>0.0</td>\n",
              "      <td>0.0</td>\n",
              "      <td>0.0</td>\n",
              "      <td>0.0</td>\n",
              "      <td>0.0</td>\n",
              "      <td>0.0</td>\n",
              "      <td>0.0</td>\n",
              "      <td>1.0</td>\n",
              "      <td>0.0</td>\n",
              "      <td>0.0</td>\n",
              "    </tr>\n",
              "    <tr>\n",
              "      <th>32557</th>\n",
              "      <td>0.136986</td>\n",
              "      <td>0.166404</td>\n",
              "      <td>0.0</td>\n",
              "      <td>0.0</td>\n",
              "      <td>0.000000</td>\n",
              "      <td>0.377551</td>\n",
              "      <td>0.0</td>\n",
              "      <td>0.0</td>\n",
              "      <td>0.0</td>\n",
              "      <td>1.0</td>\n",
              "      <td>...</td>\n",
              "      <td>0.0</td>\n",
              "      <td>0.0</td>\n",
              "      <td>0.0</td>\n",
              "      <td>0.0</td>\n",
              "      <td>0.0</td>\n",
              "      <td>0.0</td>\n",
              "      <td>0.0</td>\n",
              "      <td>1.0</td>\n",
              "      <td>0.0</td>\n",
              "      <td>0.0</td>\n",
              "    </tr>\n",
              "    <tr>\n",
              "      <th>32558</th>\n",
              "      <td>0.315068</td>\n",
              "      <td>0.096500</td>\n",
              "      <td>1.0</td>\n",
              "      <td>0.0</td>\n",
              "      <td>0.000000</td>\n",
              "      <td>0.397959</td>\n",
              "      <td>0.0</td>\n",
              "      <td>0.0</td>\n",
              "      <td>0.0</td>\n",
              "      <td>1.0</td>\n",
              "      <td>...</td>\n",
              "      <td>0.0</td>\n",
              "      <td>0.0</td>\n",
              "      <td>0.0</td>\n",
              "      <td>0.0</td>\n",
              "      <td>0.0</td>\n",
              "      <td>0.0</td>\n",
              "      <td>0.0</td>\n",
              "      <td>1.0</td>\n",
              "      <td>0.0</td>\n",
              "      <td>0.0</td>\n",
              "    </tr>\n",
              "    <tr>\n",
              "      <th>32559</th>\n",
              "      <td>0.561644</td>\n",
              "      <td>0.094827</td>\n",
              "      <td>0.0</td>\n",
              "      <td>0.0</td>\n",
              "      <td>0.000000</td>\n",
              "      <td>0.397959</td>\n",
              "      <td>0.0</td>\n",
              "      <td>0.0</td>\n",
              "      <td>0.0</td>\n",
              "      <td>1.0</td>\n",
              "      <td>...</td>\n",
              "      <td>0.0</td>\n",
              "      <td>0.0</td>\n",
              "      <td>0.0</td>\n",
              "      <td>0.0</td>\n",
              "      <td>0.0</td>\n",
              "      <td>0.0</td>\n",
              "      <td>0.0</td>\n",
              "      <td>1.0</td>\n",
              "      <td>0.0</td>\n",
              "      <td>0.0</td>\n",
              "    </tr>\n",
              "    <tr>\n",
              "      <th>32560</th>\n",
              "      <td>0.068493</td>\n",
              "      <td>0.128499</td>\n",
              "      <td>1.0</td>\n",
              "      <td>0.0</td>\n",
              "      <td>0.000000</td>\n",
              "      <td>0.193878</td>\n",
              "      <td>0.0</td>\n",
              "      <td>0.0</td>\n",
              "      <td>0.0</td>\n",
              "      <td>1.0</td>\n",
              "      <td>...</td>\n",
              "      <td>0.0</td>\n",
              "      <td>0.0</td>\n",
              "      <td>0.0</td>\n",
              "      <td>0.0</td>\n",
              "      <td>0.0</td>\n",
              "      <td>0.0</td>\n",
              "      <td>0.0</td>\n",
              "      <td>1.0</td>\n",
              "      <td>0.0</td>\n",
              "      <td>0.0</td>\n",
              "    </tr>\n",
              "  </tbody>\n",
              "</table>\n",
              "<p>32561 rows × 103 columns</p>\n",
              "</div>"
            ],
            "text/plain": [
              "            age    fnlwgt  sex  capital.gain  capital.loss  hours.per.week  \\\n",
              "0      1.000000  0.043987  0.0           0.0      1.000000        0.397959   \n",
              "1      0.890411  0.081896  0.0           0.0      1.000000        0.173469   \n",
              "2      0.671233  0.118021  0.0           0.0      1.000000        0.397959   \n",
              "3      0.506849  0.086982  0.0           0.0      0.895317        0.397959   \n",
              "4      0.328767  0.171404  0.0           0.0      0.895317        0.397959   \n",
              "...         ...       ...  ...           ...           ...             ...   \n",
              "32556  0.068493  0.202298  1.0           0.0      0.000000        0.397959   \n",
              "32557  0.136986  0.166404  0.0           0.0      0.000000        0.377551   \n",
              "32558  0.315068  0.096500  1.0           0.0      0.000000        0.397959   \n",
              "32559  0.561644  0.094827  0.0           0.0      0.000000        0.397959   \n",
              "32560  0.068493  0.128499  1.0           0.0      0.000000        0.193878   \n",
              "\n",
              "       Federal-gov  Local-gov  Never-worked  Private  ...  Portugal  \\\n",
              "0              0.0        0.0           0.0      0.0  ...       0.0   \n",
              "1              0.0        0.0           0.0      1.0  ...       0.0   \n",
              "2              0.0        0.0           0.0      0.0  ...       0.0   \n",
              "3              0.0        0.0           0.0      1.0  ...       0.0   \n",
              "4              0.0        0.0           0.0      1.0  ...       0.0   \n",
              "...            ...        ...           ...      ...  ...       ...   \n",
              "32556          0.0        0.0           0.0      1.0  ...       0.0   \n",
              "32557          0.0        0.0           0.0      1.0  ...       0.0   \n",
              "32558          0.0        0.0           0.0      1.0  ...       0.0   \n",
              "32559          0.0        0.0           0.0      1.0  ...       0.0   \n",
              "32560          0.0        0.0           0.0      1.0  ...       0.0   \n",
              "\n",
              "       Puerto-Rico  Scotland  South  Taiwan  Thailand  Trinadad&Tobago  \\\n",
              "0              0.0       0.0    0.0     0.0       0.0              0.0   \n",
              "1              0.0       0.0    0.0     0.0       0.0              0.0   \n",
              "2              0.0       0.0    0.0     0.0       0.0              0.0   \n",
              "3              0.0       0.0    0.0     0.0       0.0              0.0   \n",
              "4              0.0       0.0    0.0     0.0       0.0              0.0   \n",
              "...            ...       ...    ...     ...       ...              ...   \n",
              "32556          0.0       0.0    0.0     0.0       0.0              0.0   \n",
              "32557          0.0       0.0    0.0     0.0       0.0              0.0   \n",
              "32558          0.0       0.0    0.0     0.0       0.0              0.0   \n",
              "32559          0.0       0.0    0.0     0.0       0.0              0.0   \n",
              "32560          0.0       0.0    0.0     0.0       0.0              0.0   \n",
              "\n",
              "       United-States  Vietnam  Yugoslavia  \n",
              "0                1.0      0.0         0.0  \n",
              "1                1.0      0.0         0.0  \n",
              "2                1.0      0.0         0.0  \n",
              "3                1.0      0.0         0.0  \n",
              "4                1.0      0.0         0.0  \n",
              "...              ...      ...         ...  \n",
              "32556            1.0      0.0         0.0  \n",
              "32557            1.0      0.0         0.0  \n",
              "32558            1.0      0.0         0.0  \n",
              "32559            1.0      0.0         0.0  \n",
              "32560            1.0      0.0         0.0  \n",
              "\n",
              "[32561 rows x 103 columns]"
            ]
          },
          "metadata": {
            "tags": []
          },
          "execution_count": 23
        }
      ]
    },
    {
      "cell_type": "markdown",
      "metadata": {
        "papermill": {
          "duration": 0.03046,
          "end_time": "2021-06-26T10:56:36.693723",
          "exception": false,
          "start_time": "2021-06-26T10:56:36.663263",
          "status": "completed"
        },
        "tags": [],
        "id": "antique-heaven"
      },
      "source": [
        "# Train"
      ],
      "id": "antique-heaven"
    },
    {
      "cell_type": "code",
      "metadata": {
        "execution": {
          "iopub.execute_input": "2021-06-26T10:56:36.758980Z",
          "iopub.status.busy": "2021-06-26T10:56:36.758053Z",
          "iopub.status.idle": "2021-06-26T10:56:36.783274Z",
          "shell.execute_reply": "2021-06-26T10:56:36.783744Z",
          "shell.execute_reply.started": "2021-06-26T10:20:20.591622Z"
        },
        "papermill": {
          "duration": 0.059394,
          "end_time": "2021-06-26T10:56:36.783922",
          "exception": false,
          "start_time": "2021-06-26T10:56:36.724528",
          "status": "completed"
        },
        "tags": [],
        "id": "chief-movie"
      },
      "source": [
        "x_train,x_test,y_train,y_test = tts(x,y,train_size=0.8,random_state=0)"
      ],
      "id": "chief-movie",
      "execution_count": null,
      "outputs": []
    },
    {
      "cell_type": "code",
      "metadata": {
        "execution": {
          "iopub.execute_input": "2021-06-26T10:56:36.849322Z",
          "iopub.status.busy": "2021-06-26T10:56:36.848173Z",
          "iopub.status.idle": "2021-06-26T10:57:12.819509Z",
          "shell.execute_reply": "2021-06-26T10:57:12.818336Z",
          "shell.execute_reply.started": "2021-06-26T10:51:51.737119Z"
        },
        "papermill": {
          "duration": 36.005146,
          "end_time": "2021-06-26T10:57:12.819707",
          "exception": false,
          "start_time": "2021-06-26T10:56:36.814561",
          "status": "completed"
        },
        "tags": [],
        "id": "previous-shell",
        "outputId": "bfd7277c-551e-4b78-ec5a-0f06e91dcf8b"
      },
      "source": [
        "inputs = tf.keras.Input(shape=(103,))\n",
        "x = tf.keras.layers.Dense(16, activation='relu')(inputs)\n",
        "x = tf.keras.layers.Dense(16, activation='relu')(x)\n",
        "\n",
        "\n",
        "outputs = tf.keras.layers.Dense(1, activation='sigmoid')(x)\n",
        "\n",
        "model = tf.keras.Model(inputs, outputs)\n",
        "\n",
        "\n",
        "optimizer = tf.keras.optimizers.Adam(learning_rate=0.001)\n",
        "\n",
        "metrics = [\n",
        "    tf.keras.metrics.BinaryAccuracy(name='acc'),\n",
        "    tf.keras.metrics.AUC(name='auc')\n",
        "]\n",
        "\n",
        "model.compile(\n",
        "    optimizer=optimizer,\n",
        "    loss='binary_crossentropy',\n",
        "    metrics=metrics\n",
        ")\n",
        "\n",
        "\n",
        "batch_size = 32\n",
        "epochs = 35\n",
        "\n",
        "\n",
        "history = model.fit(\n",
        "    x_train,\n",
        "    y_train,\n",
        "    validation_split=0.2,\n",
        "    batch_size=batch_size,\n",
        "    epochs=epochs\n",
        ")"
      ],
      "id": "previous-shell",
      "execution_count": null,
      "outputs": [
        {
          "output_type": "stream",
          "text": [
            "Epoch 1/35\n",
            "652/652 [==============================] - 2s 2ms/step - loss: 0.4789 - acc: 0.7844 - auc: 0.7200 - val_loss: 0.3349 - val_acc: 0.8476 - val_auc: 0.8953\n",
            "Epoch 2/35\n",
            "652/652 [==============================] - 1s 1ms/step - loss: 0.3476 - acc: 0.8390 - auc: 0.8904 - val_loss: 0.3221 - val_acc: 0.8499 - val_auc: 0.9022\n",
            "Epoch 3/35\n",
            "652/652 [==============================] - 1s 2ms/step - loss: 0.3360 - acc: 0.8443 - auc: 0.8964 - val_loss: 0.3194 - val_acc: 0.8491 - val_auc: 0.9065\n",
            "Epoch 4/35\n",
            "652/652 [==============================] - 1s 2ms/step - loss: 0.3306 - acc: 0.8441 - auc: 0.9026 - val_loss: 0.3135 - val_acc: 0.8557 - val_auc: 0.9091\n",
            "Epoch 5/35\n",
            "652/652 [==============================] - 1s 2ms/step - loss: 0.3280 - acc: 0.8463 - auc: 0.9028 - val_loss: 0.3128 - val_acc: 0.8547 - val_auc: 0.9099\n",
            "Epoch 6/35\n",
            "652/652 [==============================] - 1s 1ms/step - loss: 0.3205 - acc: 0.8517 - auc: 0.9037 - val_loss: 0.3122 - val_acc: 0.8537 - val_auc: 0.9115\n",
            "Epoch 7/35\n",
            "652/652 [==============================] - 1s 1ms/step - loss: 0.3186 - acc: 0.8502 - auc: 0.9080 - val_loss: 0.3080 - val_acc: 0.8582 - val_auc: 0.9115\n",
            "Epoch 8/35\n",
            "652/652 [==============================] - 1s 2ms/step - loss: 0.3139 - acc: 0.8516 - auc: 0.9111 - val_loss: 0.3073 - val_acc: 0.8560 - val_auc: 0.9115\n",
            "Epoch 9/35\n",
            "652/652 [==============================] - 1s 2ms/step - loss: 0.3097 - acc: 0.8545 - auc: 0.9130 - val_loss: 0.3084 - val_acc: 0.8539 - val_auc: 0.9110\n",
            "Epoch 10/35\n",
            "652/652 [==============================] - 1s 2ms/step - loss: 0.3153 - acc: 0.8512 - auc: 0.9104 - val_loss: 0.3083 - val_acc: 0.8570 - val_auc: 0.9107\n",
            "Epoch 11/35\n",
            "652/652 [==============================] - 1s 2ms/step - loss: 0.3084 - acc: 0.8568 - auc: 0.9132 - val_loss: 0.3067 - val_acc: 0.8587 - val_auc: 0.9116\n",
            "Epoch 12/35\n",
            "652/652 [==============================] - 1s 1ms/step - loss: 0.3103 - acc: 0.8548 - auc: 0.9133 - val_loss: 0.3122 - val_acc: 0.8537 - val_auc: 0.9112\n",
            "Epoch 13/35\n",
            "652/652 [==============================] - 1s 2ms/step - loss: 0.3080 - acc: 0.8562 - auc: 0.9151 - val_loss: 0.3067 - val_acc: 0.8572 - val_auc: 0.9116\n",
            "Epoch 14/35\n",
            "652/652 [==============================] - 1s 1ms/step - loss: 0.3086 - acc: 0.8568 - auc: 0.9138 - val_loss: 0.3099 - val_acc: 0.8543 - val_auc: 0.9112\n",
            "Epoch 15/35\n",
            "652/652 [==============================] - 1s 1ms/step - loss: 0.3013 - acc: 0.8633 - auc: 0.9187 - val_loss: 0.3099 - val_acc: 0.8587 - val_auc: 0.9108\n",
            "Epoch 16/35\n",
            "652/652 [==============================] - 1s 2ms/step - loss: 0.3010 - acc: 0.8595 - auc: 0.9177 - val_loss: 0.3072 - val_acc: 0.8614 - val_auc: 0.9115\n",
            "Epoch 17/35\n",
            "652/652 [==============================] - 1s 2ms/step - loss: 0.2994 - acc: 0.8587 - auc: 0.9188 - val_loss: 0.3137 - val_acc: 0.8536 - val_auc: 0.9084\n",
            "Epoch 18/35\n",
            "652/652 [==============================] - 1s 1ms/step - loss: 0.3032 - acc: 0.8572 - auc: 0.9176 - val_loss: 0.3081 - val_acc: 0.8589 - val_auc: 0.9111\n",
            "Epoch 19/35\n",
            "652/652 [==============================] - 1s 1ms/step - loss: 0.3017 - acc: 0.8596 - auc: 0.9181 - val_loss: 0.3106 - val_acc: 0.8566 - val_auc: 0.9100\n",
            "Epoch 20/35\n",
            "652/652 [==============================] - 1s 1ms/step - loss: 0.3037 - acc: 0.8577 - auc: 0.9158 - val_loss: 0.3104 - val_acc: 0.8547 - val_auc: 0.9098\n",
            "Epoch 21/35\n",
            "652/652 [==============================] - 1s 1ms/step - loss: 0.3014 - acc: 0.8605 - auc: 0.9184 - val_loss: 0.3103 - val_acc: 0.8599 - val_auc: 0.9113\n",
            "Epoch 22/35\n",
            "652/652 [==============================] - 1s 2ms/step - loss: 0.3045 - acc: 0.8573 - auc: 0.9170 - val_loss: 0.3094 - val_acc: 0.8557 - val_auc: 0.9121\n",
            "Epoch 23/35\n",
            "652/652 [==============================] - 1s 1ms/step - loss: 0.3028 - acc: 0.8577 - auc: 0.9189 - val_loss: 0.3112 - val_acc: 0.8605 - val_auc: 0.9108\n",
            "Epoch 24/35\n",
            "652/652 [==============================] - 1s 1ms/step - loss: 0.2961 - acc: 0.8619 - auc: 0.9211 - val_loss: 0.3131 - val_acc: 0.8568 - val_auc: 0.9086\n",
            "Epoch 25/35\n",
            "652/652 [==============================] - 1s 1ms/step - loss: 0.2921 - acc: 0.8657 - auc: 0.9231 - val_loss: 0.3103 - val_acc: 0.8551 - val_auc: 0.9104\n",
            "Epoch 26/35\n",
            "652/652 [==============================] - 1s 2ms/step - loss: 0.2966 - acc: 0.8600 - auc: 0.9218 - val_loss: 0.3167 - val_acc: 0.8536 - val_auc: 0.9090\n",
            "Epoch 27/35\n",
            "652/652 [==============================] - 1s 2ms/step - loss: 0.3035 - acc: 0.8562 - auc: 0.9171 - val_loss: 0.3098 - val_acc: 0.8578 - val_auc: 0.9105\n",
            "Epoch 28/35\n",
            "652/652 [==============================] - 1s 2ms/step - loss: 0.2960 - acc: 0.8603 - auc: 0.9227 - val_loss: 0.3142 - val_acc: 0.8547 - val_auc: 0.9089\n",
            "Epoch 29/35\n",
            "652/652 [==============================] - 1s 1ms/step - loss: 0.2950 - acc: 0.8608 - auc: 0.9209 - val_loss: 0.3135 - val_acc: 0.8607 - val_auc: 0.9094\n",
            "Epoch 30/35\n",
            "652/652 [==============================] - 1s 2ms/step - loss: 0.2919 - acc: 0.8640 - auc: 0.9239 - val_loss: 0.3109 - val_acc: 0.8587 - val_auc: 0.9101\n",
            "Epoch 31/35\n",
            "652/652 [==============================] - 1s 1ms/step - loss: 0.2997 - acc: 0.8597 - auc: 0.9191 - val_loss: 0.3101 - val_acc: 0.8608 - val_auc: 0.9109\n",
            "Epoch 32/35\n",
            "652/652 [==============================] - 1s 2ms/step - loss: 0.2963 - acc: 0.8585 - auc: 0.9214 - val_loss: 0.3130 - val_acc: 0.8539 - val_auc: 0.9089\n",
            "Epoch 33/35\n",
            "652/652 [==============================] - 1s 1ms/step - loss: 0.2990 - acc: 0.8599 - auc: 0.9205 - val_loss: 0.3110 - val_acc: 0.8574 - val_auc: 0.9107\n",
            "Epoch 34/35\n",
            "652/652 [==============================] - 1s 1ms/step - loss: 0.2899 - acc: 0.8645 - auc: 0.9243 - val_loss: 0.3116 - val_acc: 0.8555 - val_auc: 0.9100\n",
            "Epoch 35/35\n",
            "652/652 [==============================] - 1s 1ms/step - loss: 0.2884 - acc: 0.8631 - auc: 0.9248 - val_loss: 0.3174 - val_acc: 0.8566 - val_auc: 0.9081\n"
          ],
          "name": "stdout"
        }
      ]
    },
    {
      "cell_type": "markdown",
      "metadata": {
        "papermill": {
          "duration": 0.21104,
          "end_time": "2021-06-26T10:57:13.243192",
          "exception": false,
          "start_time": "2021-06-26T10:57:13.032152",
          "status": "completed"
        },
        "tags": [],
        "id": "sustained-share"
      },
      "source": [
        "# Performance"
      ],
      "id": "sustained-share"
    },
    {
      "cell_type": "code",
      "metadata": {
        "execution": {
          "iopub.execute_input": "2021-06-26T10:57:13.689480Z",
          "iopub.status.busy": "2021-06-26T10:57:13.688791Z",
          "iopub.status.idle": "2021-06-26T10:57:13.890814Z",
          "shell.execute_reply": "2021-06-26T10:57:13.890293Z",
          "shell.execute_reply.started": "2021-06-26T10:52:30.057727Z"
        },
        "papermill": {
          "duration": 0.435138,
          "end_time": "2021-06-26T10:57:13.890945",
          "exception": false,
          "start_time": "2021-06-26T10:57:13.455807",
          "status": "completed"
        },
        "tags": [],
        "id": "noble-school",
        "outputId": "7a62efa4-55b3-4863-d842-63fca7fcc0d3"
      },
      "source": [
        "plt.figure(figsize=(14, 10))\n",
        "\n",
        "epochs_range = range(1, epochs + 1)\n",
        "train_loss = history.history['loss']\n",
        "val_loss = history.history['val_loss']\n",
        "\n",
        "plt.plot(epochs_range, train_loss, label=\"Training Loss\")\n",
        "plt.plot(epochs_range, val_loss, label=\"Validation Loss\")\n",
        "\n",
        "plt.xlabel(\"Epochs\")\n",
        "plt.ylabel(\"Loss\")\n",
        "plt.legend()\n",
        "\n",
        "plt.show()"
      ],
      "id": "noble-school",
      "execution_count": null,
      "outputs": [
        {
          "output_type": "display_data",
          "data": {
            "image/png": "[encoded data removed]",
            "text/plain": [
              "<Figure size 1008x720 with 1 Axes>"
            ]
          },
          "metadata": {
            "tags": [],
            "needs_background": "light"
          }
        }
      ]
    },
    {
      "cell_type": "code",
      "metadata": {
        "execution": {
          "iopub.execute_input": "2021-06-26T10:57:14.326290Z",
          "iopub.status.busy": "2021-06-26T10:57:14.325557Z",
          "iopub.status.idle": "2021-06-26T10:57:14.329714Z",
          "shell.execute_reply": "2021-06-26T10:57:14.329224Z",
          "shell.execute_reply.started": "2021-06-26T10:52:30.269375Z"
        },
        "papermill": {
          "duration": 0.22393,
          "end_time": "2021-06-26T10:57:14.329846",
          "exception": false,
          "start_time": "2021-06-26T10:57:14.105916",
          "status": "completed"
        },
        "tags": [],
        "id": "paperback-valve",
        "outputId": "8e15c6a3-8789-41d7-c4b4-ff81b68ad5f9"
      },
      "source": [
        "np.argmin(val_loss)"
      ],
      "id": "paperback-valve",
      "execution_count": null,
      "outputs": [
        {
          "output_type": "execute_result",
          "data": {
            "text/plain": [
              "12"
            ]
          },
          "metadata": {
            "tags": []
          },
          "execution_count": 27
        }
      ]
    },
    {
      "cell_type": "code",
      "metadata": {
        "execution": {
          "iopub.execute_input": "2021-06-26T10:57:14.764817Z",
          "iopub.status.busy": "2021-06-26T10:57:14.764104Z",
          "iopub.status.idle": "2021-06-26T10:57:15.034181Z",
          "shell.execute_reply": "2021-06-26T10:57:15.033610Z",
          "shell.execute_reply.started": "2021-06-26T10:52:30.275968Z"
        },
        "papermill": {
          "duration": 0.488537,
          "end_time": "2021-06-26T10:57:15.034319",
          "exception": false,
          "start_time": "2021-06-26T10:57:14.545782",
          "status": "completed"
        },
        "tags": [],
        "id": "pregnant-spain",
        "outputId": "cc126529-fd96-4cd1-b86f-e4d141720b9e"
      },
      "source": [
        "model.evaluate(x_test,y_test)"
      ],
      "id": "pregnant-spain",
      "execution_count": null,
      "outputs": [
        {
          "output_type": "stream",
          "text": [
            "204/204 [==============================] - 0s 984us/step - loss: 0.3350 - acc: 0.8491 - auc: 0.9002\n"
          ],
          "name": "stdout"
        },
        {
          "output_type": "execute_result",
          "data": {
            "text/plain": [
              "[0.33502188324928284, 0.8490710854530334, 0.9001550674438477]"
            ]
          },
          "metadata": {
            "tags": []
          },
          "execution_count": 28
        }
      ]
    },
    {
      "cell_type": "code",
      "metadata": {
        "papermill": {
          "duration": 0.220156,
          "end_time": "2021-06-26T10:57:15.472384",
          "exception": false,
          "start_time": "2021-06-26T10:57:15.252228",
          "status": "completed"
        },
        "tags": [],
        "id": "stylish-insight"
      },
      "source": [
        ""
      ],
      "id": "stylish-insight",
      "execution_count": null,
      "outputs": []
    }
  ]
}