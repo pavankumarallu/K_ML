{
  "nbformat": 4,
  "nbformat_minor": 0,
  "metadata": {
    "colab": {
      "name": "Untitled5.ipynb",
      "provenance": [],
      "collapsed_sections": [],
      "authorship_tag": "ABX9TyNV3BdorMbSJTWeWp82yl9s",
      "include_colab_link": true
    },
    "kernelspec": {
      "name": "python3",
      "display_name": "Python 3"
    },
    "language_info": {
      "name": "python"
    }
  },
  "cells": [
    {
      "cell_type": "markdown",
      "metadata": {
        "id": "view-in-github",
        "colab_type": "text"
      },
      "source": [
        "<a href=\"https://colab.research.google.com/github/pavankumarallu/K_ML/blob/main/BankNifty.ipynb\" target=\"_parent\"><img src=\"https://colab.research.google.com/assets/colab-badge.svg\" alt=\"Open In Colab\"/></a>"
      ]
    },
    {
      "cell_type": "code",
      "metadata": {
        "colab": {
          "base_uri": "https://localhost:8080/"
        },
        "id": "TAeGX9abeEMF",
        "outputId": "12ea2fbb-a8e7-43e7-f82c-41442173b7ad"
      },
      "source": [
        "from google.colab import drive\n",
        "drive.mount('/content/drive')"
      ],
      "execution_count": 1,
      "outputs": [
        {
          "output_type": "stream",
          "text": [
            "Drive already mounted at /content/drive; to attempt to forcibly remount, call drive.mount(\"/content/drive\", force_remount=True).\n"
          ],
          "name": "stdout"
        }
      ]
    },
    {
      "cell_type": "code",
      "metadata": {
        "id": "lkgP-zH-eeQv"
      },
      "source": [
        "import numpy as np\n",
        "import pandas as pd\n",
        "import matplotlib.pyplot as plt"
      ],
      "execution_count": 2,
      "outputs": []
    },
    {
      "cell_type": "code",
      "metadata": {
        "id": "aK9K6b0leegH"
      },
      "source": [
        "df1 = pd.read_excel('/content/BankNiftyFutures_Data5Min.xlsx')\n",
        "df2 = pd.read_excel('/content/BankNiftyFutures_Data5Min.xlsx')"
      ],
      "execution_count": 3,
      "outputs": []
    },
    {
      "cell_type": "code",
      "metadata": {
        "colab": {
          "base_uri": "https://localhost:8080/",
          "height": 195
        },
        "id": "enF6t9b7eej0",
        "outputId": "345922ec-be18-4d85-dc10-05d2043616be"
      },
      "source": [
        "df1.head()"
      ],
      "execution_count": 4,
      "outputs": [
        {
          "output_type": "execute_result",
          "data": {
            "text/html": [
              "<div>\n",
              "<style scoped>\n",
              "    .dataframe tbody tr th:only-of-type {\n",
              "        vertical-align: middle;\n",
              "    }\n",
              "\n",
              "    .dataframe tbody tr th {\n",
              "        vertical-align: top;\n",
              "    }\n",
              "\n",
              "    .dataframe thead th {\n",
              "        text-align: right;\n",
              "    }\n",
              "</style>\n",
              "<table border=\"1\" class=\"dataframe\">\n",
              "  <thead>\n",
              "    <tr style=\"text-align: right;\">\n",
              "      <th></th>\n",
              "      <th>Ticker</th>\n",
              "      <th>Date</th>\n",
              "      <th>Final Date format</th>\n",
              "      <th>Time</th>\n",
              "      <th>Open 5</th>\n",
              "      <th>High 5</th>\n",
              "      <th>Low 5</th>\n",
              "      <th>Close 5</th>\n",
              "      <th>Volume 5</th>\n",
              "      <th>Year</th>\n",
              "    </tr>\n",
              "  </thead>\n",
              "  <tbody>\n",
              "    <tr>\n",
              "      <th>0</th>\n",
              "      <td>BANKNIFTY_F1</td>\n",
              "      <td>2015-01-01</td>\n",
              "      <td>20150101</td>\n",
              "      <td>09:20:00</td>\n",
              "      <td>18861.3496</td>\n",
              "      <td>18867.9492</td>\n",
              "      <td>18793.0000</td>\n",
              "      <td>18808.3496</td>\n",
              "      <td>84825</td>\n",
              "      <td>2015</td>\n",
              "    </tr>\n",
              "    <tr>\n",
              "      <th>1</th>\n",
              "      <td>BANKNIFTY_F1</td>\n",
              "      <td>2015-01-01</td>\n",
              "      <td>20150101</td>\n",
              "      <td>09:25:00</td>\n",
              "      <td>18808.0000</td>\n",
              "      <td>18835.0000</td>\n",
              "      <td>18802.1992</td>\n",
              "      <td>18829.0000</td>\n",
              "      <td>40925</td>\n",
              "      <td>2015</td>\n",
              "    </tr>\n",
              "    <tr>\n",
              "      <th>2</th>\n",
              "      <td>BANKNIFTY_F1</td>\n",
              "      <td>2015-01-01</td>\n",
              "      <td>20150101</td>\n",
              "      <td>09:30:00</td>\n",
              "      <td>18826.9492</td>\n",
              "      <td>18833.4004</td>\n",
              "      <td>18820.0000</td>\n",
              "      <td>18826.0996</td>\n",
              "      <td>27000</td>\n",
              "      <td>2015</td>\n",
              "    </tr>\n",
              "    <tr>\n",
              "      <th>3</th>\n",
              "      <td>BANKNIFTY_F1</td>\n",
              "      <td>2015-01-01</td>\n",
              "      <td>20150101</td>\n",
              "      <td>09:35:00</td>\n",
              "      <td>18825.0508</td>\n",
              "      <td>18829.0996</td>\n",
              "      <td>18810.0000</td>\n",
              "      <td>18810.0000</td>\n",
              "      <td>18025</td>\n",
              "      <td>2015</td>\n",
              "    </tr>\n",
              "    <tr>\n",
              "      <th>4</th>\n",
              "      <td>BANKNIFTY_F1</td>\n",
              "      <td>2015-01-01</td>\n",
              "      <td>20150101</td>\n",
              "      <td>09:40:00</td>\n",
              "      <td>18805.0000</td>\n",
              "      <td>18808.9492</td>\n",
              "      <td>18775.0000</td>\n",
              "      <td>18803.9492</td>\n",
              "      <td>60100</td>\n",
              "      <td>2015</td>\n",
              "    </tr>\n",
              "  </tbody>\n",
              "</table>\n",
              "</div>"
            ],
            "text/plain": [
              "         Ticker       Date  Final Date format  ...     Close 5  Volume 5  Year\n",
              "0  BANKNIFTY_F1 2015-01-01           20150101  ...  18808.3496     84825  2015\n",
              "1  BANKNIFTY_F1 2015-01-01           20150101  ...  18829.0000     40925  2015\n",
              "2  BANKNIFTY_F1 2015-01-01           20150101  ...  18826.0996     27000  2015\n",
              "3  BANKNIFTY_F1 2015-01-01           20150101  ...  18810.0000     18025  2015\n",
              "4  BANKNIFTY_F1 2015-01-01           20150101  ...  18803.9492     60100  2015\n",
              "\n",
              "[5 rows x 10 columns]"
            ]
          },
          "metadata": {
            "tags": []
          },
          "execution_count": 4
        }
      ]
    },
    {
      "cell_type": "code",
      "metadata": {
        "id": "nyV96j1fjSUp"
      },
      "source": [
        "df2['Date'] = df2['Date'].astype(str)\n",
        "df2['Time'] = df2['Time'].astype(str)\n",
        "df2['new_Time'] = df2['Date']+\" \"+df2['Time']\n",
        "df2['new_Time']\n",
        "df3 = df2"
      ],
      "execution_count": 5,
      "outputs": []
    },
    {
      "cell_type": "code",
      "metadata": {
        "id": "h9KVHo_ojSYw",
        "colab": {
          "base_uri": "https://localhost:8080/",
          "height": 402
        },
        "outputId": "89d9689d-8fe0-4b48-ba6b-c704004c2b01"
      },
      "source": [
        "df3"
      ],
      "execution_count": 6,
      "outputs": [
        {
          "output_type": "execute_result",
          "data": {
            "text/html": [
              "<div>\n",
              "<style scoped>\n",
              "    .dataframe tbody tr th:only-of-type {\n",
              "        vertical-align: middle;\n",
              "    }\n",
              "\n",
              "    .dataframe tbody tr th {\n",
              "        vertical-align: top;\n",
              "    }\n",
              "\n",
              "    .dataframe thead th {\n",
              "        text-align: right;\n",
              "    }\n",
              "</style>\n",
              "<table border=\"1\" class=\"dataframe\">\n",
              "  <thead>\n",
              "    <tr style=\"text-align: right;\">\n",
              "      <th></th>\n",
              "      <th>Ticker</th>\n",
              "      <th>Date</th>\n",
              "      <th>Final Date format</th>\n",
              "      <th>Time</th>\n",
              "      <th>Open 5</th>\n",
              "      <th>High 5</th>\n",
              "      <th>Low 5</th>\n",
              "      <th>Close 5</th>\n",
              "      <th>Volume 5</th>\n",
              "      <th>Year</th>\n",
              "      <th>new_Time</th>\n",
              "    </tr>\n",
              "  </thead>\n",
              "  <tbody>\n",
              "    <tr>\n",
              "      <th>0</th>\n",
              "      <td>BANKNIFTY_F1</td>\n",
              "      <td>2015-01-01</td>\n",
              "      <td>20150101</td>\n",
              "      <td>09:20:00</td>\n",
              "      <td>18861.3496</td>\n",
              "      <td>18867.9492</td>\n",
              "      <td>18793.0000</td>\n",
              "      <td>18808.3496</td>\n",
              "      <td>84825</td>\n",
              "      <td>2015</td>\n",
              "      <td>2015-01-01 09:20:00</td>\n",
              "    </tr>\n",
              "    <tr>\n",
              "      <th>1</th>\n",
              "      <td>BANKNIFTY_F1</td>\n",
              "      <td>2015-01-01</td>\n",
              "      <td>20150101</td>\n",
              "      <td>09:25:00</td>\n",
              "      <td>18808.0000</td>\n",
              "      <td>18835.0000</td>\n",
              "      <td>18802.1992</td>\n",
              "      <td>18829.0000</td>\n",
              "      <td>40925</td>\n",
              "      <td>2015</td>\n",
              "      <td>2015-01-01 09:25:00</td>\n",
              "    </tr>\n",
              "    <tr>\n",
              "      <th>2</th>\n",
              "      <td>BANKNIFTY_F1</td>\n",
              "      <td>2015-01-01</td>\n",
              "      <td>20150101</td>\n",
              "      <td>09:30:00</td>\n",
              "      <td>18826.9492</td>\n",
              "      <td>18833.4004</td>\n",
              "      <td>18820.0000</td>\n",
              "      <td>18826.0996</td>\n",
              "      <td>27000</td>\n",
              "      <td>2015</td>\n",
              "      <td>2015-01-01 09:30:00</td>\n",
              "    </tr>\n",
              "    <tr>\n",
              "      <th>3</th>\n",
              "      <td>BANKNIFTY_F1</td>\n",
              "      <td>2015-01-01</td>\n",
              "      <td>20150101</td>\n",
              "      <td>09:35:00</td>\n",
              "      <td>18825.0508</td>\n",
              "      <td>18829.0996</td>\n",
              "      <td>18810.0000</td>\n",
              "      <td>18810.0000</td>\n",
              "      <td>18025</td>\n",
              "      <td>2015</td>\n",
              "      <td>2015-01-01 09:35:00</td>\n",
              "    </tr>\n",
              "    <tr>\n",
              "      <th>4</th>\n",
              "      <td>BANKNIFTY_F1</td>\n",
              "      <td>2015-01-01</td>\n",
              "      <td>20150101</td>\n",
              "      <td>09:40:00</td>\n",
              "      <td>18805.0000</td>\n",
              "      <td>18808.9492</td>\n",
              "      <td>18775.0000</td>\n",
              "      <td>18803.9492</td>\n",
              "      <td>60100</td>\n",
              "      <td>2015</td>\n",
              "      <td>2015-01-01 09:40:00</td>\n",
              "    </tr>\n",
              "    <tr>\n",
              "      <th>...</th>\n",
              "      <td>...</td>\n",
              "      <td>...</td>\n",
              "      <td>...</td>\n",
              "      <td>...</td>\n",
              "      <td>...</td>\n",
              "      <td>...</td>\n",
              "      <td>...</td>\n",
              "      <td>...</td>\n",
              "      <td>...</td>\n",
              "      <td>...</td>\n",
              "      <td>...</td>\n",
              "    </tr>\n",
              "    <tr>\n",
              "      <th>91732</th>\n",
              "      <td>BANKNIFTY_F1</td>\n",
              "      <td>2019-12-31</td>\n",
              "      <td>20191231</td>\n",
              "      <td>15:06:00</td>\n",
              "      <td>32398.1992</td>\n",
              "      <td>32400.0000</td>\n",
              "      <td>32382.8008</td>\n",
              "      <td>32389.0000</td>\n",
              "      <td>18900</td>\n",
              "      <td>2019</td>\n",
              "      <td>2019-12-31 15:06:00</td>\n",
              "    </tr>\n",
              "    <tr>\n",
              "      <th>91733</th>\n",
              "      <td>BANKNIFTY_F1</td>\n",
              "      <td>2019-12-31</td>\n",
              "      <td>20191231</td>\n",
              "      <td>15:11:00</td>\n",
              "      <td>32390.3496</td>\n",
              "      <td>32390.4004</td>\n",
              "      <td>32382.0000</td>\n",
              "      <td>32382.0000</td>\n",
              "      <td>26820</td>\n",
              "      <td>2019</td>\n",
              "      <td>2019-12-31 15:11:00</td>\n",
              "    </tr>\n",
              "    <tr>\n",
              "      <th>91734</th>\n",
              "      <td>BANKNIFTY_F1</td>\n",
              "      <td>2019-12-31</td>\n",
              "      <td>20191231</td>\n",
              "      <td>15:16:00</td>\n",
              "      <td>32383.5000</td>\n",
              "      <td>32386.8008</td>\n",
              "      <td>32320.0000</td>\n",
              "      <td>32320.8008</td>\n",
              "      <td>128780</td>\n",
              "      <td>2019</td>\n",
              "      <td>2019-12-31 15:16:00</td>\n",
              "    </tr>\n",
              "    <tr>\n",
              "      <th>91735</th>\n",
              "      <td>BANKNIFTY_F1</td>\n",
              "      <td>2019-12-31</td>\n",
              "      <td>20191231</td>\n",
              "      <td>15:21:00</td>\n",
              "      <td>32327.8008</td>\n",
              "      <td>32392.6992</td>\n",
              "      <td>32324.4492</td>\n",
              "      <td>32371.6992</td>\n",
              "      <td>80260</td>\n",
              "      <td>2019</td>\n",
              "      <td>2019-12-31 15:21:00</td>\n",
              "    </tr>\n",
              "    <tr>\n",
              "      <th>91736</th>\n",
              "      <td>BANKNIFTY_F1</td>\n",
              "      <td>2019-12-31</td>\n",
              "      <td>20191231</td>\n",
              "      <td>15:26:00</td>\n",
              "      <td>32365.9004</td>\n",
              "      <td>32387.0996</td>\n",
              "      <td>32360.1504</td>\n",
              "      <td>32379.9004</td>\n",
              "      <td>50260</td>\n",
              "      <td>2019</td>\n",
              "      <td>2019-12-31 15:26:00</td>\n",
              "    </tr>\n",
              "  </tbody>\n",
              "</table>\n",
              "<p>91737 rows × 11 columns</p>\n",
              "</div>"
            ],
            "text/plain": [
              "             Ticker        Date  ...  Year             new_Time\n",
              "0      BANKNIFTY_F1  2015-01-01  ...  2015  2015-01-01 09:20:00\n",
              "1      BANKNIFTY_F1  2015-01-01  ...  2015  2015-01-01 09:25:00\n",
              "2      BANKNIFTY_F1  2015-01-01  ...  2015  2015-01-01 09:30:00\n",
              "3      BANKNIFTY_F1  2015-01-01  ...  2015  2015-01-01 09:35:00\n",
              "4      BANKNIFTY_F1  2015-01-01  ...  2015  2015-01-01 09:40:00\n",
              "...             ...         ...  ...   ...                  ...\n",
              "91732  BANKNIFTY_F1  2019-12-31  ...  2019  2019-12-31 15:06:00\n",
              "91733  BANKNIFTY_F1  2019-12-31  ...  2019  2019-12-31 15:11:00\n",
              "91734  BANKNIFTY_F1  2019-12-31  ...  2019  2019-12-31 15:16:00\n",
              "91735  BANKNIFTY_F1  2019-12-31  ...  2019  2019-12-31 15:21:00\n",
              "91736  BANKNIFTY_F1  2019-12-31  ...  2019  2019-12-31 15:26:00\n",
              "\n",
              "[91737 rows x 11 columns]"
            ]
          },
          "metadata": {
            "tags": []
          },
          "execution_count": 6
        }
      ]
    },
    {
      "cell_type": "code",
      "metadata": {
        "id": "0lYGDByWNy-l",
        "colab": {
          "base_uri": "https://localhost:8080/"
        },
        "outputId": "42e600b2-d753-4a83-9db4-5cad68018ab6"
      },
      "source": [
        "from datetime import datetime\n",
        "def converttodate(l):\n",
        "  dateT = []\n",
        "  for strdate in l:\n",
        "    date_time_obj = datetime.strptime(strdate, '%Y-%m-%d %H:%M:%S')\n",
        "    dateT.append(date_time_obj)\n",
        "\n",
        "  return dateT\n",
        "\n",
        "\n",
        "l = df3['new_Time'].values.tolist()\n",
        "l = converttodate(l)\n",
        "df3['new_time_2'] = l\n",
        "df3.head()\n",
        "df3.info()"
      ],
      "execution_count": 7,
      "outputs": [
        {
          "output_type": "stream",
          "text": [
            "<class 'pandas.core.frame.DataFrame'>\n",
            "RangeIndex: 91737 entries, 0 to 91736\n",
            "Data columns (total 12 columns):\n",
            " #   Column             Non-Null Count  Dtype         \n",
            "---  ------             --------------  -----         \n",
            " 0   Ticker             91737 non-null  object        \n",
            " 1   Date               91737 non-null  object        \n",
            " 2   Final Date format  91737 non-null  int64         \n",
            " 3   Time               91737 non-null  object        \n",
            " 4   Open 5             91737 non-null  float64       \n",
            " 5   High 5             91737 non-null  float64       \n",
            " 6   Low 5              91737 non-null  float64       \n",
            " 7   Close 5            91737 non-null  float64       \n",
            " 8   Volume 5           91737 non-null  int64         \n",
            " 9   Year               91737 non-null  int64         \n",
            " 10  new_Time           91737 non-null  object        \n",
            " 11  new_time_2         91737 non-null  datetime64[ns]\n",
            "dtypes: datetime64[ns](1), float64(4), int64(3), object(4)\n",
            "memory usage: 8.4+ MB\n"
          ],
          "name": "stdout"
        }
      ]
    },
    {
      "cell_type": "code",
      "metadata": {
        "id": "oNgDZjh9OxKQ"
      },
      "source": [
        "df3 = df3.drop(['new_Time'],axis=1)"
      ],
      "execution_count": 8,
      "outputs": []
    },
    {
      "cell_type": "code",
      "metadata": {
        "id": "CT8VrBmiOxO0"
      },
      "source": [
        "df4 = df3"
      ],
      "execution_count": 9,
      "outputs": []
    },
    {
      "cell_type": "code",
      "metadata": {
        "colab": {
          "base_uri": "https://localhost:8080/",
          "height": 343
        },
        "id": "Zva7Mh29NzB4",
        "outputId": "1d076caa-7d9a-44ea-85a8-4cc10934c706"
      },
      "source": [
        "df4.head(10)"
      ],
      "execution_count": 10,
      "outputs": [
        {
          "output_type": "execute_result",
          "data": {
            "text/html": [
              "<div>\n",
              "<style scoped>\n",
              "    .dataframe tbody tr th:only-of-type {\n",
              "        vertical-align: middle;\n",
              "    }\n",
              "\n",
              "    .dataframe tbody tr th {\n",
              "        vertical-align: top;\n",
              "    }\n",
              "\n",
              "    .dataframe thead th {\n",
              "        text-align: right;\n",
              "    }\n",
              "</style>\n",
              "<table border=\"1\" class=\"dataframe\">\n",
              "  <thead>\n",
              "    <tr style=\"text-align: right;\">\n",
              "      <th></th>\n",
              "      <th>Ticker</th>\n",
              "      <th>Date</th>\n",
              "      <th>Final Date format</th>\n",
              "      <th>Time</th>\n",
              "      <th>Open 5</th>\n",
              "      <th>High 5</th>\n",
              "      <th>Low 5</th>\n",
              "      <th>Close 5</th>\n",
              "      <th>Volume 5</th>\n",
              "      <th>Year</th>\n",
              "      <th>new_time_2</th>\n",
              "    </tr>\n",
              "  </thead>\n",
              "  <tbody>\n",
              "    <tr>\n",
              "      <th>0</th>\n",
              "      <td>BANKNIFTY_F1</td>\n",
              "      <td>2015-01-01</td>\n",
              "      <td>20150101</td>\n",
              "      <td>09:20:00</td>\n",
              "      <td>18861.3496</td>\n",
              "      <td>18867.9492</td>\n",
              "      <td>18793.0000</td>\n",
              "      <td>18808.3496</td>\n",
              "      <td>84825</td>\n",
              "      <td>2015</td>\n",
              "      <td>2015-01-01 09:20:00</td>\n",
              "    </tr>\n",
              "    <tr>\n",
              "      <th>1</th>\n",
              "      <td>BANKNIFTY_F1</td>\n",
              "      <td>2015-01-01</td>\n",
              "      <td>20150101</td>\n",
              "      <td>09:25:00</td>\n",
              "      <td>18808.0000</td>\n",
              "      <td>18835.0000</td>\n",
              "      <td>18802.1992</td>\n",
              "      <td>18829.0000</td>\n",
              "      <td>40925</td>\n",
              "      <td>2015</td>\n",
              "      <td>2015-01-01 09:25:00</td>\n",
              "    </tr>\n",
              "    <tr>\n",
              "      <th>2</th>\n",
              "      <td>BANKNIFTY_F1</td>\n",
              "      <td>2015-01-01</td>\n",
              "      <td>20150101</td>\n",
              "      <td>09:30:00</td>\n",
              "      <td>18826.9492</td>\n",
              "      <td>18833.4004</td>\n",
              "      <td>18820.0000</td>\n",
              "      <td>18826.0996</td>\n",
              "      <td>27000</td>\n",
              "      <td>2015</td>\n",
              "      <td>2015-01-01 09:30:00</td>\n",
              "    </tr>\n",
              "    <tr>\n",
              "      <th>3</th>\n",
              "      <td>BANKNIFTY_F1</td>\n",
              "      <td>2015-01-01</td>\n",
              "      <td>20150101</td>\n",
              "      <td>09:35:00</td>\n",
              "      <td>18825.0508</td>\n",
              "      <td>18829.0996</td>\n",
              "      <td>18810.0000</td>\n",
              "      <td>18810.0000</td>\n",
              "      <td>18025</td>\n",
              "      <td>2015</td>\n",
              "      <td>2015-01-01 09:35:00</td>\n",
              "    </tr>\n",
              "    <tr>\n",
              "      <th>4</th>\n",
              "      <td>BANKNIFTY_F1</td>\n",
              "      <td>2015-01-01</td>\n",
              "      <td>20150101</td>\n",
              "      <td>09:40:00</td>\n",
              "      <td>18805.0000</td>\n",
              "      <td>18808.9492</td>\n",
              "      <td>18775.0000</td>\n",
              "      <td>18803.9492</td>\n",
              "      <td>60100</td>\n",
              "      <td>2015</td>\n",
              "      <td>2015-01-01 09:40:00</td>\n",
              "    </tr>\n",
              "    <tr>\n",
              "      <th>5</th>\n",
              "      <td>BANKNIFTY_F1</td>\n",
              "      <td>2015-01-01</td>\n",
              "      <td>20150101</td>\n",
              "      <td>09:45:00</td>\n",
              "      <td>18803.9492</td>\n",
              "      <td>18829.9004</td>\n",
              "      <td>18800.0000</td>\n",
              "      <td>18821.0000</td>\n",
              "      <td>26550</td>\n",
              "      <td>2015</td>\n",
              "      <td>2015-01-01 09:45:00</td>\n",
              "    </tr>\n",
              "    <tr>\n",
              "      <th>6</th>\n",
              "      <td>BANKNIFTY_F1</td>\n",
              "      <td>2015-01-01</td>\n",
              "      <td>20150101</td>\n",
              "      <td>09:50:00</td>\n",
              "      <td>18821.0000</td>\n",
              "      <td>18839.0508</td>\n",
              "      <td>18820.0000</td>\n",
              "      <td>18837.0000</td>\n",
              "      <td>22275</td>\n",
              "      <td>2015</td>\n",
              "      <td>2015-01-01 09:50:00</td>\n",
              "    </tr>\n",
              "    <tr>\n",
              "      <th>7</th>\n",
              "      <td>BANKNIFTY_F1</td>\n",
              "      <td>2015-01-01</td>\n",
              "      <td>20150101</td>\n",
              "      <td>09:55:00</td>\n",
              "      <td>18837.0000</td>\n",
              "      <td>18850.0000</td>\n",
              "      <td>18830.5508</td>\n",
              "      <td>18846.8008</td>\n",
              "      <td>30750</td>\n",
              "      <td>2015</td>\n",
              "      <td>2015-01-01 09:55:00</td>\n",
              "    </tr>\n",
              "    <tr>\n",
              "      <th>8</th>\n",
              "      <td>BANKNIFTY_F1</td>\n",
              "      <td>2015-01-01</td>\n",
              "      <td>20150101</td>\n",
              "      <td>10:00:00</td>\n",
              "      <td>18846.9004</td>\n",
              "      <td>18846.9004</td>\n",
              "      <td>18830.0000</td>\n",
              "      <td>18838.9492</td>\n",
              "      <td>13800</td>\n",
              "      <td>2015</td>\n",
              "      <td>2015-01-01 10:00:00</td>\n",
              "    </tr>\n",
              "    <tr>\n",
              "      <th>9</th>\n",
              "      <td>BANKNIFTY_F1</td>\n",
              "      <td>2015-01-01</td>\n",
              "      <td>20150101</td>\n",
              "      <td>10:05:00</td>\n",
              "      <td>18835.0508</td>\n",
              "      <td>18858.5996</td>\n",
              "      <td>18835.0508</td>\n",
              "      <td>18853.8008</td>\n",
              "      <td>19700</td>\n",
              "      <td>2015</td>\n",
              "      <td>2015-01-01 10:05:00</td>\n",
              "    </tr>\n",
              "  </tbody>\n",
              "</table>\n",
              "</div>"
            ],
            "text/plain": [
              "         Ticker        Date  ...  Year          new_time_2\n",
              "0  BANKNIFTY_F1  2015-01-01  ...  2015 2015-01-01 09:20:00\n",
              "1  BANKNIFTY_F1  2015-01-01  ...  2015 2015-01-01 09:25:00\n",
              "2  BANKNIFTY_F1  2015-01-01  ...  2015 2015-01-01 09:30:00\n",
              "3  BANKNIFTY_F1  2015-01-01  ...  2015 2015-01-01 09:35:00\n",
              "4  BANKNIFTY_F1  2015-01-01  ...  2015 2015-01-01 09:40:00\n",
              "5  BANKNIFTY_F1  2015-01-01  ...  2015 2015-01-01 09:45:00\n",
              "6  BANKNIFTY_F1  2015-01-01  ...  2015 2015-01-01 09:50:00\n",
              "7  BANKNIFTY_F1  2015-01-01  ...  2015 2015-01-01 09:55:00\n",
              "8  BANKNIFTY_F1  2015-01-01  ...  2015 2015-01-01 10:00:00\n",
              "9  BANKNIFTY_F1  2015-01-01  ...  2015 2015-01-01 10:05:00\n",
              "\n",
              "[10 rows x 11 columns]"
            ]
          },
          "metadata": {
            "tags": []
          },
          "execution_count": 10
        }
      ]
    },
    {
      "cell_type": "markdown",
      "metadata": {
        "id": "hIFG7sq8hsIk"
      },
      "source": [
        "**Resampling the Data to 15 Minute time Frame**"
      ]
    },
    {
      "cell_type": "code",
      "metadata": {
        "id": "RkP29ZrtlYBK"
      },
      "source": [
        "df5 = df4.set_index('new_time_2').resample('15T', closed = 'right').sum()\n",
        "df6 = pd.DataFrame(df5['Volume 5'])\n",
        "df5 = df4.set_index('new_time_2').resample('15T', closed = 'right').max()\n",
        "df6['high 5'] = pd.DataFrame(df5['High 5'])\n",
        "df5 = df4.set_index('new_time_2').resample('15T', closed = 'right').min()\n",
        "df6['Low 5'] = pd.DataFrame(df5['Low 5'])\n",
        "df5 = df4.set_index('new_time_2').resample('15T', closed = 'right').first()\n",
        "df6['Open 5'] = pd.DataFrame(df5['Open 5'])\n",
        "df5 = df4.set_index('new_time_2').resample('15T', closed = 'right').last()\n",
        "df6['Close 5'] = pd.DataFrame(df5['Close 5'])"
      ],
      "execution_count": 11,
      "outputs": []
    },
    {
      "cell_type": "code",
      "metadata": {
        "id": "eRHOHNUSnKLe"
      },
      "source": [
        "df7 = df6\n",
        "df7 = df7.dropna()\n",
        "df7 = df7.reset_index()"
      ],
      "execution_count": 12,
      "outputs": []
    },
    {
      "cell_type": "code",
      "metadata": {
        "id": "k7z_t_fPSt5T"
      },
      "source": [
        "df7.head(20)"
      ],
      "execution_count": null,
      "outputs": []
    },
    {
      "cell_type": "code",
      "metadata": {
        "id": "7HWucgrqGAhw"
      },
      "source": [
        "import plotly.graph_objects as go\n",
        "fig = go.Figure(data=[go.Candlestick(x=df7['new_time_2'],\n",
        "                open=df7['Open 5'], high=df7['high 5'],\n",
        "                low=df7['Low 5'], close=df7['Close 5'])\n",
        "                     ])\n",
        "\n",
        "fig.update_layout(xaxis_rangeslider_visible=True)\n",
        "fig.show()"
      ],
      "execution_count": null,
      "outputs": []
    },
    {
      "cell_type": "markdown",
      "metadata": {
        "id": "JKfSLmmNit5o"
      },
      "source": [
        "## **Calculating VWAP**"
      ]
    },
    {
      "cell_type": "code",
      "metadata": {
        "id": "TGW15yjqUOFD"
      },
      "source": [
        "def calculateVwap(data):\n",
        "    data['TP'] = (data['high 5']+data['Low 5']+data['Close 5'])/3.0\n",
        "    data['TradedValue']  = data['TP']*data['Volume 5']\n",
        "    data['CumVolume'] = data['Volume 5'].cumsum()\n",
        "    data['CumTradedValue'] = data['TradedValue'].cumsum()\n",
        "    data['VWAP'] = data['CumTradedValue'] /data['CumVolume']\n",
        "    return data\n"
      ],
      "execution_count": 15,
      "outputs": []
    },
    {
      "cell_type": "code",
      "metadata": {
        "id": "nnqmSKMZUOW_"
      },
      "source": [
        "df8 = df7"
      ],
      "execution_count": 16,
      "outputs": []
    },
    {
      "cell_type": "code",
      "metadata": {
        "id": "H5ewriNnNj4u"
      },
      "source": [
        "df8 = df8.groupby('new_time_2').apply(calculateVwap)"
      ],
      "execution_count": 17,
      "outputs": []
    },
    {
      "cell_type": "code",
      "metadata": {
        "colab": {
          "base_uri": "https://localhost:8080/",
          "height": 606
        },
        "id": "4zy9EeRPU9qq",
        "outputId": "6de7453f-5aef-4f4d-954b-a31180228766"
      },
      "source": [
        "df8"
      ],
      "execution_count": 18,
      "outputs": [
        {
          "output_type": "execute_result",
          "data": {
            "text/html": [
              "<div>\n",
              "<style scoped>\n",
              "    .dataframe tbody tr th:only-of-type {\n",
              "        vertical-align: middle;\n",
              "    }\n",
              "\n",
              "    .dataframe tbody tr th {\n",
              "        vertical-align: top;\n",
              "    }\n",
              "\n",
              "    .dataframe thead th {\n",
              "        text-align: right;\n",
              "    }\n",
              "</style>\n",
              "<table border=\"1\" class=\"dataframe\">\n",
              "  <thead>\n",
              "    <tr style=\"text-align: right;\">\n",
              "      <th></th>\n",
              "      <th>new_time_2</th>\n",
              "      <th>Volume 5</th>\n",
              "      <th>high 5</th>\n",
              "      <th>Low 5</th>\n",
              "      <th>Open 5</th>\n",
              "      <th>Close 5</th>\n",
              "      <th>TP</th>\n",
              "      <th>TradedValue</th>\n",
              "      <th>CumVolume</th>\n",
              "      <th>CumTradedValue</th>\n",
              "      <th>VWAP</th>\n",
              "    </tr>\n",
              "  </thead>\n",
              "  <tbody>\n",
              "    <tr>\n",
              "      <th>0</th>\n",
              "      <td>2015-01-01 09:15:00</td>\n",
              "      <td>152750</td>\n",
              "      <td>18867.9492</td>\n",
              "      <td>18793.0000</td>\n",
              "      <td>18861.3496</td>\n",
              "      <td>18826.0996</td>\n",
              "      <td>18829.016267</td>\n",
              "      <td>2.876132e+09</td>\n",
              "      <td>152750</td>\n",
              "      <td>2.876132e+09</td>\n",
              "      <td>18829.016267</td>\n",
              "    </tr>\n",
              "    <tr>\n",
              "      <th>1</th>\n",
              "      <td>2015-01-01 09:30:00</td>\n",
              "      <td>104675</td>\n",
              "      <td>18829.9004</td>\n",
              "      <td>18775.0000</td>\n",
              "      <td>18825.0508</td>\n",
              "      <td>18821.0000</td>\n",
              "      <td>18808.633467</td>\n",
              "      <td>1.968794e+09</td>\n",
              "      <td>104675</td>\n",
              "      <td>1.968794e+09</td>\n",
              "      <td>18808.633467</td>\n",
              "    </tr>\n",
              "    <tr>\n",
              "      <th>2</th>\n",
              "      <td>2015-01-01 09:45:00</td>\n",
              "      <td>66825</td>\n",
              "      <td>18850.0000</td>\n",
              "      <td>18820.0000</td>\n",
              "      <td>18821.0000</td>\n",
              "      <td>18838.9492</td>\n",
              "      <td>18836.316400</td>\n",
              "      <td>1.258737e+09</td>\n",
              "      <td>66825</td>\n",
              "      <td>1.258737e+09</td>\n",
              "      <td>18836.316400</td>\n",
              "    </tr>\n",
              "    <tr>\n",
              "      <th>3</th>\n",
              "      <td>2015-01-01 10:00:00</td>\n",
              "      <td>49100</td>\n",
              "      <td>18858.5996</td>\n",
              "      <td>18830.6504</td>\n",
              "      <td>18835.0508</td>\n",
              "      <td>18836.4004</td>\n",
              "      <td>18841.883467</td>\n",
              "      <td>9.251365e+08</td>\n",
              "      <td>49100</td>\n",
              "      <td>9.251365e+08</td>\n",
              "      <td>18841.883467</td>\n",
              "    </tr>\n",
              "    <tr>\n",
              "      <th>4</th>\n",
              "      <td>2015-01-01 10:15:00</td>\n",
              "      <td>16600</td>\n",
              "      <td>18848.0000</td>\n",
              "      <td>18828.5996</td>\n",
              "      <td>18835.6992</td>\n",
              "      <td>18830.0000</td>\n",
              "      <td>18835.533200</td>\n",
              "      <td>3.126699e+08</td>\n",
              "      <td>16600</td>\n",
              "      <td>3.126699e+08</td>\n",
              "      <td>18835.533200</td>\n",
              "    </tr>\n",
              "    <tr>\n",
              "      <th>...</th>\n",
              "      <td>...</td>\n",
              "      <td>...</td>\n",
              "      <td>...</td>\n",
              "      <td>...</td>\n",
              "      <td>...</td>\n",
              "      <td>...</td>\n",
              "      <td>...</td>\n",
              "      <td>...</td>\n",
              "      <td>...</td>\n",
              "      <td>...</td>\n",
              "      <td>...</td>\n",
              "    </tr>\n",
              "    <tr>\n",
              "      <th>30718</th>\n",
              "      <td>2019-12-31 14:15:00</td>\n",
              "      <td>96960</td>\n",
              "      <td>32450.0000</td>\n",
              "      <td>32384.0000</td>\n",
              "      <td>32444.0000</td>\n",
              "      <td>32409.8496</td>\n",
              "      <td>32414.616533</td>\n",
              "      <td>3.142921e+09</td>\n",
              "      <td>96960</td>\n",
              "      <td>3.142921e+09</td>\n",
              "      <td>32414.616533</td>\n",
              "    </tr>\n",
              "    <tr>\n",
              "      <th>30719</th>\n",
              "      <td>2019-12-31 14:30:00</td>\n",
              "      <td>56520</td>\n",
              "      <td>32459.0000</td>\n",
              "      <td>32401.1992</td>\n",
              "      <td>32409.8496</td>\n",
              "      <td>32426.0996</td>\n",
              "      <td>32428.766267</td>\n",
              "      <td>1.832874e+09</td>\n",
              "      <td>56520</td>\n",
              "      <td>1.832874e+09</td>\n",
              "      <td>32428.766267</td>\n",
              "    </tr>\n",
              "    <tr>\n",
              "      <th>30720</th>\n",
              "      <td>2019-12-31 14:45:00</td>\n",
              "      <td>114820</td>\n",
              "      <td>32439.9492</td>\n",
              "      <td>32374.3008</td>\n",
              "      <td>32426.0996</td>\n",
              "      <td>32382.9492</td>\n",
              "      <td>32399.066400</td>\n",
              "      <td>3.720061e+09</td>\n",
              "      <td>114820</td>\n",
              "      <td>3.720061e+09</td>\n",
              "      <td>32399.066400</td>\n",
              "    </tr>\n",
              "    <tr>\n",
              "      <th>30721</th>\n",
              "      <td>2019-12-31 15:00:00</td>\n",
              "      <td>95220</td>\n",
              "      <td>32407.6992</td>\n",
              "      <td>32376.6504</td>\n",
              "      <td>32380.6504</td>\n",
              "      <td>32382.0000</td>\n",
              "      <td>32388.783200</td>\n",
              "      <td>3.084060e+09</td>\n",
              "      <td>95220</td>\n",
              "      <td>3.084060e+09</td>\n",
              "      <td>32388.783200</td>\n",
              "    </tr>\n",
              "    <tr>\n",
              "      <th>30722</th>\n",
              "      <td>2019-12-31 15:15:00</td>\n",
              "      <td>259300</td>\n",
              "      <td>32392.6992</td>\n",
              "      <td>32320.0000</td>\n",
              "      <td>32383.5000</td>\n",
              "      <td>32379.9004</td>\n",
              "      <td>32364.199867</td>\n",
              "      <td>8.392037e+09</td>\n",
              "      <td>259300</td>\n",
              "      <td>8.392037e+09</td>\n",
              "      <td>32364.199867</td>\n",
              "    </tr>\n",
              "  </tbody>\n",
              "</table>\n",
              "<p>30723 rows × 11 columns</p>\n",
              "</div>"
            ],
            "text/plain": [
              "               new_time_2  Volume 5  ...  CumTradedValue          VWAP\n",
              "0     2015-01-01 09:15:00    152750  ...    2.876132e+09  18829.016267\n",
              "1     2015-01-01 09:30:00    104675  ...    1.968794e+09  18808.633467\n",
              "2     2015-01-01 09:45:00     66825  ...    1.258737e+09  18836.316400\n",
              "3     2015-01-01 10:00:00     49100  ...    9.251365e+08  18841.883467\n",
              "4     2015-01-01 10:15:00     16600  ...    3.126699e+08  18835.533200\n",
              "...                   ...       ...  ...             ...           ...\n",
              "30718 2019-12-31 14:15:00     96960  ...    3.142921e+09  32414.616533\n",
              "30719 2019-12-31 14:30:00     56520  ...    1.832874e+09  32428.766267\n",
              "30720 2019-12-31 14:45:00    114820  ...    3.720061e+09  32399.066400\n",
              "30721 2019-12-31 15:00:00     95220  ...    3.084060e+09  32388.783200\n",
              "30722 2019-12-31 15:15:00    259300  ...    8.392037e+09  32364.199867\n",
              "\n",
              "[30723 rows x 11 columns]"
            ]
          },
          "metadata": {
            "tags": []
          },
          "execution_count": 18
        }
      ]
    },
    {
      "cell_type": "markdown",
      "metadata": {
        "id": "71iNEqXrTplL"
      },
      "source": [
        "## **Calculate the overall profit and loss** "
      ]
    },
    {
      "cell_type": "code",
      "metadata": {
        "colab": {
          "base_uri": "https://localhost:8080/"
        },
        "id": "4HPr6GzvdFk6",
        "outputId": "97ba9a4f-d229-4190-cf48-42c948440794"
      },
      "source": [
        "print(\"Profit : \",(df8['Close 5'][len(df8)-1]-df8['Open 5'][0]))\n",
        "print(\"Profit % : \",str(((df8['Close 5'][len(df8)-1]-df8['Open 5'][0])/df8['Open 5'][0])*100) + \" %\")"
      ],
      "execution_count": 19,
      "outputs": [
        {
          "output_type": "stream",
          "text": [
            "Profit :  13518.550799999997\n",
            "Profit % :  71.67329531922782 %\n"
          ],
          "name": "stdout"
        }
      ]
    },
    {
      "cell_type": "markdown",
      "metadata": {
        "id": "OxpxXVhdjpSQ"
      },
      "source": [
        "## **Resampling the data to Day wise data**"
      ]
    },
    {
      "cell_type": "code",
      "metadata": {
        "id": "syuZVkQXf9dV"
      },
      "source": [
        "df5 = df4.set_index('new_time_2').resample('1440T', closed = 'right').sum()\n",
        "df9 = pd.DataFrame(df5['Volume 5'])\n",
        "df5 = df4.set_index('new_time_2').resample('1440T', closed = 'right').max()\n",
        "df9['high 5'] = pd.DataFrame(df5['High 5'])\n",
        "df5 = df4.set_index('new_time_2').resample('1440T', closed = 'right').min()\n",
        "df9['Low 5'] = pd.DataFrame(df5['Low 5'])\n",
        "df5 = df4.set_index('new_time_2').resample('1440T', closed = 'right').first()\n",
        "df9['Open 5'] = pd.DataFrame(df5['Open 5'])\n",
        "df5 = df4.set_index('new_time_2').resample('1440T', closed = 'right').last()\n",
        "df9['Close 5'] = pd.DataFrame(df5['Close 5'])"
      ],
      "execution_count": 20,
      "outputs": []
    },
    {
      "cell_type": "code",
      "metadata": {
        "id": "mOO_DRvjWWRA"
      },
      "source": [
        "df9.dropna(axis=0,inplace=True)\n",
        "df9.reset_index(inplace=True)"
      ],
      "execution_count": 21,
      "outputs": []
    },
    {
      "cell_type": "code",
      "metadata": {
        "id": "KkznPnLlhRud"
      },
      "source": [
        "df9 = df9.groupby('new_time_2').apply(calculateVwap)"
      ],
      "execution_count": 22,
      "outputs": []
    },
    {
      "cell_type": "code",
      "metadata": {
        "id": "BOdrIlR1W6nd"
      },
      "source": [
        "df9['Profit/Loss_Values'] = (df9['Close 5'] - df9['Open 5'])"
      ],
      "execution_count": 23,
      "outputs": []
    },
    {
      "cell_type": "code",
      "metadata": {
        "colab": {
          "base_uri": "https://localhost:8080/",
          "height": 438
        },
        "id": "AohfPsf6gOeq",
        "outputId": "7287fb37-25e7-4c08-da1b-479abb47c866"
      },
      "source": [
        "df9"
      ],
      "execution_count": 24,
      "outputs": [
        {
          "output_type": "execute_result",
          "data": {
            "text/html": [
              "<div>\n",
              "<style scoped>\n",
              "    .dataframe tbody tr th:only-of-type {\n",
              "        vertical-align: middle;\n",
              "    }\n",
              "\n",
              "    .dataframe tbody tr th {\n",
              "        vertical-align: top;\n",
              "    }\n",
              "\n",
              "    .dataframe thead th {\n",
              "        text-align: right;\n",
              "    }\n",
              "</style>\n",
              "<table border=\"1\" class=\"dataframe\">\n",
              "  <thead>\n",
              "    <tr style=\"text-align: right;\">\n",
              "      <th></th>\n",
              "      <th>new_time_2</th>\n",
              "      <th>Volume 5</th>\n",
              "      <th>high 5</th>\n",
              "      <th>Low 5</th>\n",
              "      <th>Open 5</th>\n",
              "      <th>Close 5</th>\n",
              "      <th>TP</th>\n",
              "      <th>TradedValue</th>\n",
              "      <th>CumVolume</th>\n",
              "      <th>CumTradedValue</th>\n",
              "      <th>VWAP</th>\n",
              "      <th>Profit/Loss_Values</th>\n",
              "    </tr>\n",
              "  </thead>\n",
              "  <tbody>\n",
              "    <tr>\n",
              "      <th>0</th>\n",
              "      <td>2015-01-01</td>\n",
              "      <td>1075025</td>\n",
              "      <td>18929.9492</td>\n",
              "      <td>18775.0000</td>\n",
              "      <td>18861.3496</td>\n",
              "      <td>18900.0000</td>\n",
              "      <td>18868.316400</td>\n",
              "      <td>2.028391e+10</td>\n",
              "      <td>1075025</td>\n",
              "      <td>2.028391e+10</td>\n",
              "      <td>18868.316400</td>\n",
              "      <td>38.6504</td>\n",
              "    </tr>\n",
              "    <tr>\n",
              "      <th>1</th>\n",
              "      <td>2015-01-02</td>\n",
              "      <td>2685450</td>\n",
              "      <td>19284.0000</td>\n",
              "      <td>18898.0000</td>\n",
              "      <td>18899.8008</td>\n",
              "      <td>19231.0000</td>\n",
              "      <td>19137.666667</td>\n",
              "      <td>5.139325e+10</td>\n",
              "      <td>2685450</td>\n",
              "      <td>5.139325e+10</td>\n",
              "      <td>19137.666667</td>\n",
              "      <td>331.1992</td>\n",
              "    </tr>\n",
              "    <tr>\n",
              "      <th>2</th>\n",
              "      <td>2015-01-05</td>\n",
              "      <td>2150525</td>\n",
              "      <td>19281.0000</td>\n",
              "      <td>19110.0000</td>\n",
              "      <td>19235.0000</td>\n",
              "      <td>19154.0000</td>\n",
              "      <td>19181.666667</td>\n",
              "      <td>4.125065e+10</td>\n",
              "      <td>2150525</td>\n",
              "      <td>4.125065e+10</td>\n",
              "      <td>19181.666667</td>\n",
              "      <td>-81.0000</td>\n",
              "    </tr>\n",
              "    <tr>\n",
              "      <th>3</th>\n",
              "      <td>2015-01-06</td>\n",
              "      <td>4512350</td>\n",
              "      <td>19154.0000</td>\n",
              "      <td>18475.9492</td>\n",
              "      <td>19154.0000</td>\n",
              "      <td>18508.0000</td>\n",
              "      <td>18712.649733</td>\n",
              "      <td>8.443803e+10</td>\n",
              "      <td>4512350</td>\n",
              "      <td>8.443803e+10</td>\n",
              "      <td>18712.649733</td>\n",
              "      <td>-646.0000</td>\n",
              "    </tr>\n",
              "    <tr>\n",
              "      <th>4</th>\n",
              "      <td>2015-01-07</td>\n",
              "      <td>3834100</td>\n",
              "      <td>18592.0000</td>\n",
              "      <td>18306.0000</td>\n",
              "      <td>18506.0000</td>\n",
              "      <td>18449.3496</td>\n",
              "      <td>18449.116533</td>\n",
              "      <td>7.073576e+10</td>\n",
              "      <td>3834100</td>\n",
              "      <td>7.073576e+10</td>\n",
              "      <td>18449.116533</td>\n",
              "      <td>-56.6504</td>\n",
              "    </tr>\n",
              "    <tr>\n",
              "      <th>...</th>\n",
              "      <td>...</td>\n",
              "      <td>...</td>\n",
              "      <td>...</td>\n",
              "      <td>...</td>\n",
              "      <td>...</td>\n",
              "      <td>...</td>\n",
              "      <td>...</td>\n",
              "      <td>...</td>\n",
              "      <td>...</td>\n",
              "      <td>...</td>\n",
              "      <td>...</td>\n",
              "      <td>...</td>\n",
              "    </tr>\n",
              "    <tr>\n",
              "      <th>1221</th>\n",
              "      <td>2019-12-24</td>\n",
              "      <td>1566820</td>\n",
              "      <td>32384.0000</td>\n",
              "      <td>32270.4492</td>\n",
              "      <td>32342.5508</td>\n",
              "      <td>32306.5000</td>\n",
              "      <td>32320.316400</td>\n",
              "      <td>5.064012e+10</td>\n",
              "      <td>1566820</td>\n",
              "      <td>5.064012e+10</td>\n",
              "      <td>32320.316400</td>\n",
              "      <td>-36.0508</td>\n",
              "    </tr>\n",
              "    <tr>\n",
              "      <th>1222</th>\n",
              "      <td>2019-12-26</td>\n",
              "      <td>2351680</td>\n",
              "      <td>32339.0000</td>\n",
              "      <td>31945.0000</td>\n",
              "      <td>32306.5000</td>\n",
              "      <td>31999.5996</td>\n",
              "      <td>32094.533200</td>\n",
              "      <td>7.547607e+10</td>\n",
              "      <td>2351680</td>\n",
              "      <td>7.547607e+10</td>\n",
              "      <td>32094.533200</td>\n",
              "      <td>-306.9004</td>\n",
              "    </tr>\n",
              "    <tr>\n",
              "      <th>1223</th>\n",
              "      <td>2019-12-27</td>\n",
              "      <td>2483400</td>\n",
              "      <td>32633.7500</td>\n",
              "      <td>31996.5000</td>\n",
              "      <td>31999.3496</td>\n",
              "      <td>32613.0000</td>\n",
              "      <td>32414.416667</td>\n",
              "      <td>8.049796e+10</td>\n",
              "      <td>2483400</td>\n",
              "      <td>8.049796e+10</td>\n",
              "      <td>32414.416667</td>\n",
              "      <td>613.6504</td>\n",
              "    </tr>\n",
              "    <tr>\n",
              "      <th>1224</th>\n",
              "      <td>2019-12-30</td>\n",
              "      <td>2588880</td>\n",
              "      <td>32773.8516</td>\n",
              "      <td>32431.0000</td>\n",
              "      <td>32613.0000</td>\n",
              "      <td>32552.9004</td>\n",
              "      <td>32585.917333</td>\n",
              "      <td>8.436103e+10</td>\n",
              "      <td>2588880</td>\n",
              "      <td>8.436103e+10</td>\n",
              "      <td>32585.917333</td>\n",
              "      <td>-60.0996</td>\n",
              "    </tr>\n",
              "    <tr>\n",
              "      <th>1225</th>\n",
              "      <td>2019-12-31</td>\n",
              "      <td>2321420</td>\n",
              "      <td>32559.4004</td>\n",
              "      <td>32320.0000</td>\n",
              "      <td>32552.0000</td>\n",
              "      <td>32379.9004</td>\n",
              "      <td>32419.766933</td>\n",
              "      <td>7.525990e+10</td>\n",
              "      <td>2321420</td>\n",
              "      <td>7.525990e+10</td>\n",
              "      <td>32419.766933</td>\n",
              "      <td>-172.0996</td>\n",
              "    </tr>\n",
              "  </tbody>\n",
              "</table>\n",
              "<p>1226 rows × 12 columns</p>\n",
              "</div>"
            ],
            "text/plain": [
              "     new_time_2  Volume 5  ...          VWAP  Profit/Loss_Values\n",
              "0    2015-01-01   1075025  ...  18868.316400             38.6504\n",
              "1    2015-01-02   2685450  ...  19137.666667            331.1992\n",
              "2    2015-01-05   2150525  ...  19181.666667            -81.0000\n",
              "3    2015-01-06   4512350  ...  18712.649733           -646.0000\n",
              "4    2015-01-07   3834100  ...  18449.116533            -56.6504\n",
              "...         ...       ...  ...           ...                 ...\n",
              "1221 2019-12-24   1566820  ...  32320.316400            -36.0508\n",
              "1222 2019-12-26   2351680  ...  32094.533200           -306.9004\n",
              "1223 2019-12-27   2483400  ...  32414.416667            613.6504\n",
              "1224 2019-12-30   2588880  ...  32585.917333            -60.0996\n",
              "1225 2019-12-31   2321420  ...  32419.766933           -172.0996\n",
              "\n",
              "[1226 rows x 12 columns]"
            ]
          },
          "metadata": {
            "tags": []
          },
          "execution_count": 24
        }
      ]
    },
    {
      "cell_type": "code",
      "metadata": {
        "id": "h0mVs7pSY0yx"
      },
      "source": [
        "l = df9['Profit/Loss_Values'].values.tolist()\n",
        "profit_loss = []\n",
        "for i in l:\n",
        "  if i<=0:\n",
        "    profit_loss.append(\"Loss\")\n",
        "  else:\n",
        "    profit_loss.append(\"Profit\")\n",
        "df9['Profit/Loss'] = profit_loss"
      ],
      "execution_count": 25,
      "outputs": []
    },
    {
      "cell_type": "code",
      "metadata": {
        "id": "sJg4YuRbaScW"
      },
      "source": [
        "df9['Profit/Loss_Percentage'] = ((abs(df9['Close 5'] - df9['Open 5']))/df9['Close 5'])*100"
      ],
      "execution_count": 26,
      "outputs": []
    },
    {
      "cell_type": "markdown",
      "metadata": {
        "id": "AsDhOgz-kH1M"
      },
      "source": [
        "## **Segregate the Profit and Loss day wise**"
      ]
    },
    {
      "cell_type": "code",
      "metadata": {
        "colab": {
          "base_uri": "https://localhost:8080/",
          "height": 438
        },
        "id": "yO-REPhqaKOD",
        "outputId": "b97d45ff-8851-4648-c01a-92d2f0568aed"
      },
      "source": [
        "df9"
      ],
      "execution_count": 27,
      "outputs": [
        {
          "output_type": "execute_result",
          "data": {
            "text/html": [
              "<div>\n",
              "<style scoped>\n",
              "    .dataframe tbody tr th:only-of-type {\n",
              "        vertical-align: middle;\n",
              "    }\n",
              "\n",
              "    .dataframe tbody tr th {\n",
              "        vertical-align: top;\n",
              "    }\n",
              "\n",
              "    .dataframe thead th {\n",
              "        text-align: right;\n",
              "    }\n",
              "</style>\n",
              "<table border=\"1\" class=\"dataframe\">\n",
              "  <thead>\n",
              "    <tr style=\"text-align: right;\">\n",
              "      <th></th>\n",
              "      <th>new_time_2</th>\n",
              "      <th>Volume 5</th>\n",
              "      <th>high 5</th>\n",
              "      <th>Low 5</th>\n",
              "      <th>Open 5</th>\n",
              "      <th>Close 5</th>\n",
              "      <th>TP</th>\n",
              "      <th>TradedValue</th>\n",
              "      <th>CumVolume</th>\n",
              "      <th>CumTradedValue</th>\n",
              "      <th>VWAP</th>\n",
              "      <th>Profit/Loss_Values</th>\n",
              "      <th>Profit/Loss</th>\n",
              "      <th>Profit/Loss_Percentage</th>\n",
              "    </tr>\n",
              "  </thead>\n",
              "  <tbody>\n",
              "    <tr>\n",
              "      <th>0</th>\n",
              "      <td>2015-01-01</td>\n",
              "      <td>1075025</td>\n",
              "      <td>18929.9492</td>\n",
              "      <td>18775.0000</td>\n",
              "      <td>18861.3496</td>\n",
              "      <td>18900.0000</td>\n",
              "      <td>18868.316400</td>\n",
              "      <td>2.028391e+10</td>\n",
              "      <td>1075025</td>\n",
              "      <td>2.028391e+10</td>\n",
              "      <td>18868.316400</td>\n",
              "      <td>38.6504</td>\n",
              "      <td>Profit</td>\n",
              "      <td>0.204499</td>\n",
              "    </tr>\n",
              "    <tr>\n",
              "      <th>1</th>\n",
              "      <td>2015-01-02</td>\n",
              "      <td>2685450</td>\n",
              "      <td>19284.0000</td>\n",
              "      <td>18898.0000</td>\n",
              "      <td>18899.8008</td>\n",
              "      <td>19231.0000</td>\n",
              "      <td>19137.666667</td>\n",
              "      <td>5.139325e+10</td>\n",
              "      <td>2685450</td>\n",
              "      <td>5.139325e+10</td>\n",
              "      <td>19137.666667</td>\n",
              "      <td>331.1992</td>\n",
              "      <td>Profit</td>\n",
              "      <td>1.722215</td>\n",
              "    </tr>\n",
              "    <tr>\n",
              "      <th>2</th>\n",
              "      <td>2015-01-05</td>\n",
              "      <td>2150525</td>\n",
              "      <td>19281.0000</td>\n",
              "      <td>19110.0000</td>\n",
              "      <td>19235.0000</td>\n",
              "      <td>19154.0000</td>\n",
              "      <td>19181.666667</td>\n",
              "      <td>4.125065e+10</td>\n",
              "      <td>2150525</td>\n",
              "      <td>4.125065e+10</td>\n",
              "      <td>19181.666667</td>\n",
              "      <td>-81.0000</td>\n",
              "      <td>Loss</td>\n",
              "      <td>0.422888</td>\n",
              "    </tr>\n",
              "    <tr>\n",
              "      <th>3</th>\n",
              "      <td>2015-01-06</td>\n",
              "      <td>4512350</td>\n",
              "      <td>19154.0000</td>\n",
              "      <td>18475.9492</td>\n",
              "      <td>19154.0000</td>\n",
              "      <td>18508.0000</td>\n",
              "      <td>18712.649733</td>\n",
              "      <td>8.443803e+10</td>\n",
              "      <td>4512350</td>\n",
              "      <td>8.443803e+10</td>\n",
              "      <td>18712.649733</td>\n",
              "      <td>-646.0000</td>\n",
              "      <td>Loss</td>\n",
              "      <td>3.490383</td>\n",
              "    </tr>\n",
              "    <tr>\n",
              "      <th>4</th>\n",
              "      <td>2015-01-07</td>\n",
              "      <td>3834100</td>\n",
              "      <td>18592.0000</td>\n",
              "      <td>18306.0000</td>\n",
              "      <td>18506.0000</td>\n",
              "      <td>18449.3496</td>\n",
              "      <td>18449.116533</td>\n",
              "      <td>7.073576e+10</td>\n",
              "      <td>3834100</td>\n",
              "      <td>7.073576e+10</td>\n",
              "      <td>18449.116533</td>\n",
              "      <td>-56.6504</td>\n",
              "      <td>Loss</td>\n",
              "      <td>0.307059</td>\n",
              "    </tr>\n",
              "    <tr>\n",
              "      <th>...</th>\n",
              "      <td>...</td>\n",
              "      <td>...</td>\n",
              "      <td>...</td>\n",
              "      <td>...</td>\n",
              "      <td>...</td>\n",
              "      <td>...</td>\n",
              "      <td>...</td>\n",
              "      <td>...</td>\n",
              "      <td>...</td>\n",
              "      <td>...</td>\n",
              "      <td>...</td>\n",
              "      <td>...</td>\n",
              "      <td>...</td>\n",
              "      <td>...</td>\n",
              "    </tr>\n",
              "    <tr>\n",
              "      <th>1221</th>\n",
              "      <td>2019-12-24</td>\n",
              "      <td>1566820</td>\n",
              "      <td>32384.0000</td>\n",
              "      <td>32270.4492</td>\n",
              "      <td>32342.5508</td>\n",
              "      <td>32306.5000</td>\n",
              "      <td>32320.316400</td>\n",
              "      <td>5.064012e+10</td>\n",
              "      <td>1566820</td>\n",
              "      <td>5.064012e+10</td>\n",
              "      <td>32320.316400</td>\n",
              "      <td>-36.0508</td>\n",
              "      <td>Loss</td>\n",
              "      <td>0.111590</td>\n",
              "    </tr>\n",
              "    <tr>\n",
              "      <th>1222</th>\n",
              "      <td>2019-12-26</td>\n",
              "      <td>2351680</td>\n",
              "      <td>32339.0000</td>\n",
              "      <td>31945.0000</td>\n",
              "      <td>32306.5000</td>\n",
              "      <td>31999.5996</td>\n",
              "      <td>32094.533200</td>\n",
              "      <td>7.547607e+10</td>\n",
              "      <td>2351680</td>\n",
              "      <td>7.547607e+10</td>\n",
              "      <td>32094.533200</td>\n",
              "      <td>-306.9004</td>\n",
              "      <td>Loss</td>\n",
              "      <td>0.959076</td>\n",
              "    </tr>\n",
              "    <tr>\n",
              "      <th>1223</th>\n",
              "      <td>2019-12-27</td>\n",
              "      <td>2483400</td>\n",
              "      <td>32633.7500</td>\n",
              "      <td>31996.5000</td>\n",
              "      <td>31999.3496</td>\n",
              "      <td>32613.0000</td>\n",
              "      <td>32414.416667</td>\n",
              "      <td>8.049796e+10</td>\n",
              "      <td>2483400</td>\n",
              "      <td>8.049796e+10</td>\n",
              "      <td>32414.416667</td>\n",
              "      <td>613.6504</td>\n",
              "      <td>Profit</td>\n",
              "      <td>1.881613</td>\n",
              "    </tr>\n",
              "    <tr>\n",
              "      <th>1224</th>\n",
              "      <td>2019-12-30</td>\n",
              "      <td>2588880</td>\n",
              "      <td>32773.8516</td>\n",
              "      <td>32431.0000</td>\n",
              "      <td>32613.0000</td>\n",
              "      <td>32552.9004</td>\n",
              "      <td>32585.917333</td>\n",
              "      <td>8.436103e+10</td>\n",
              "      <td>2588880</td>\n",
              "      <td>8.436103e+10</td>\n",
              "      <td>32585.917333</td>\n",
              "      <td>-60.0996</td>\n",
              "      <td>Loss</td>\n",
              "      <td>0.184621</td>\n",
              "    </tr>\n",
              "    <tr>\n",
              "      <th>1225</th>\n",
              "      <td>2019-12-31</td>\n",
              "      <td>2321420</td>\n",
              "      <td>32559.4004</td>\n",
              "      <td>32320.0000</td>\n",
              "      <td>32552.0000</td>\n",
              "      <td>32379.9004</td>\n",
              "      <td>32419.766933</td>\n",
              "      <td>7.525990e+10</td>\n",
              "      <td>2321420</td>\n",
              "      <td>7.525990e+10</td>\n",
              "      <td>32419.766933</td>\n",
              "      <td>-172.0996</td>\n",
              "      <td>Loss</td>\n",
              "      <td>0.531501</td>\n",
              "    </tr>\n",
              "  </tbody>\n",
              "</table>\n",
              "<p>1226 rows × 14 columns</p>\n",
              "</div>"
            ],
            "text/plain": [
              "     new_time_2  Volume 5  ...  Profit/Loss  Profit/Loss_Percentage\n",
              "0    2015-01-01   1075025  ...       Profit                0.204499\n",
              "1    2015-01-02   2685450  ...       Profit                1.722215\n",
              "2    2015-01-05   2150525  ...         Loss                0.422888\n",
              "3    2015-01-06   4512350  ...         Loss                3.490383\n",
              "4    2015-01-07   3834100  ...         Loss                0.307059\n",
              "...         ...       ...  ...          ...                     ...\n",
              "1221 2019-12-24   1566820  ...         Loss                0.111590\n",
              "1222 2019-12-26   2351680  ...         Loss                0.959076\n",
              "1223 2019-12-27   2483400  ...       Profit                1.881613\n",
              "1224 2019-12-30   2588880  ...         Loss                0.184621\n",
              "1225 2019-12-31   2321420  ...         Loss                0.531501\n",
              "\n",
              "[1226 rows x 14 columns]"
            ]
          },
          "metadata": {
            "tags": []
          },
          "execution_count": 27
        }
      ]
    },
    {
      "cell_type": "code",
      "metadata": {
        "id": "Arc6jgkGkbWY"
      },
      "source": [
        "df9.to_excel(\"Daily data.xlsx\")"
      ],
      "execution_count": 28,
      "outputs": []
    },
    {
      "cell_type": "code",
      "metadata": {
        "id": "Dkr1F_5zbYkX"
      },
      "source": [
        ""
      ],
      "execution_count": null,
      "outputs": []
    },
    {
      "cell_type": "markdown",
      "metadata": {
        "id": "reofHK5slQcg"
      },
      "source": [
        "# **Resampling to Yearwise data**"
      ]
    },
    {
      "cell_type": "code",
      "metadata": {
        "id": "hZlJm0oEavBA"
      },
      "source": [
        "df5 = df4.set_index('new_time_2').resample('Y', closed = 'right').sum()\n",
        "df10 = pd.DataFrame(df5['Volume 5'])\n",
        "df5 = df4.set_index('new_time_2').resample('Y', closed = 'right').max()\n",
        "df10['high 5'] = pd.DataFrame(df5['High 5'])\n",
        "df5 = df4.set_index('new_time_2').resample('Y', closed = 'right').min()\n",
        "df10['Low 5'] = pd.DataFrame(df5['Low 5'])\n",
        "df5 = df4.set_index('new_time_2').resample('Y', closed = 'right').first()\n",
        "df10['Open 5'] = pd.DataFrame(df5['Open 5'])\n",
        "df5 = df4.set_index('new_time_2').resample('Y', closed = 'right').last()\n",
        "df10['Close 5'] = pd.DataFrame(df5['Close 5'])"
      ],
      "execution_count": 29,
      "outputs": []
    },
    {
      "cell_type": "code",
      "metadata": {
        "id": "2XqrwyuTgfwh"
      },
      "source": [
        "df10 = df10.groupby('new_time_2').apply(calculateVwap)"
      ],
      "execution_count": 30,
      "outputs": []
    },
    {
      "cell_type": "code",
      "metadata": {
        "id": "KUUgcj8sbYoJ"
      },
      "source": [
        "df10['Profit/Loss_Values'] = (df10['Close 5'] - df10['Open 5'])"
      ],
      "execution_count": 31,
      "outputs": []
    },
    {
      "cell_type": "code",
      "metadata": {
        "id": "0u9yA_RabY33"
      },
      "source": [
        "l = df10['Profit/Loss_Values'].values.tolist()\n",
        "profit_loss = []\n",
        "for i in l:\n",
        "  if i<=0:\n",
        "    profit_loss.append(\"Loss\")\n",
        "  else:\n",
        "    profit_loss.append(\"Profit\")\n",
        "df10['Profit/Loss'] = profit_loss"
      ],
      "execution_count": 33,
      "outputs": []
    },
    {
      "cell_type": "code",
      "metadata": {
        "id": "wuOtvbtsc9W5"
      },
      "source": [
        "df10.reset_index(inplace=True)"
      ],
      "execution_count": 34,
      "outputs": []
    },
    {
      "cell_type": "code",
      "metadata": {
        "id": "OzUOSc9oc-F2"
      },
      "source": [
        "df10['Profit/Loss_Percentage'] = ((abs(df10['Close 5'] - df9['Open 5']))/df10['Close 5'])*100"
      ],
      "execution_count": 35,
      "outputs": []
    },
    {
      "cell_type": "markdown",
      "metadata": {
        "id": "o0JiFQ1BkdEp"
      },
      "source": [
        "## **Segregate the Profit and Loss Year wise**"
      ]
    },
    {
      "cell_type": "code",
      "metadata": {
        "colab": {
          "base_uri": "https://localhost:8080/",
          "height": 215
        },
        "id": "xpz9vlSSlKF2",
        "outputId": "4f156ae2-938a-4195-cc23-fa73569795b0"
      },
      "source": [
        "df10"
      ],
      "execution_count": 36,
      "outputs": [
        {
          "output_type": "execute_result",
          "data": {
            "text/html": [
              "<div>\n",
              "<style scoped>\n",
              "    .dataframe tbody tr th:only-of-type {\n",
              "        vertical-align: middle;\n",
              "    }\n",
              "\n",
              "    .dataframe tbody tr th {\n",
              "        vertical-align: top;\n",
              "    }\n",
              "\n",
              "    .dataframe thead th {\n",
              "        text-align: right;\n",
              "    }\n",
              "</style>\n",
              "<table border=\"1\" class=\"dataframe\">\n",
              "  <thead>\n",
              "    <tr style=\"text-align: right;\">\n",
              "      <th></th>\n",
              "      <th>new_time_2</th>\n",
              "      <th>Volume 5</th>\n",
              "      <th>high 5</th>\n",
              "      <th>Low 5</th>\n",
              "      <th>Open 5</th>\n",
              "      <th>Close 5</th>\n",
              "      <th>TP</th>\n",
              "      <th>TradedValue</th>\n",
              "      <th>CumVolume</th>\n",
              "      <th>CumTradedValue</th>\n",
              "      <th>VWAP</th>\n",
              "      <th>Profit/Loss_Values</th>\n",
              "      <th>Profit/Loss</th>\n",
              "      <th>Profit/Loss_Percentage</th>\n",
              "    </tr>\n",
              "  </thead>\n",
              "  <tbody>\n",
              "    <tr>\n",
              "      <th>0</th>\n",
              "      <td>2015-12-31</td>\n",
              "      <td>829540772</td>\n",
              "      <td>20934.0000</td>\n",
              "      <td>15793.0498</td>\n",
              "      <td>18861.3496</td>\n",
              "      <td>16918.5000</td>\n",
              "      <td>17881.849933</td>\n",
              "      <td>1.483372e+13</td>\n",
              "      <td>829540772</td>\n",
              "      <td>1.483372e+13</td>\n",
              "      <td>17881.849933</td>\n",
              "      <td>-1942.8496</td>\n",
              "      <td>Loss</td>\n",
              "      <td>11.483581</td>\n",
              "    </tr>\n",
              "    <tr>\n",
              "      <th>1</th>\n",
              "      <td>2016-12-31</td>\n",
              "      <td>806017270</td>\n",
              "      <td>20649.4492</td>\n",
              "      <td>13406.4004</td>\n",
              "      <td>16918.0000</td>\n",
              "      <td>18175.9492</td>\n",
              "      <td>17410.599600</td>\n",
              "      <td>1.403324e+13</td>\n",
              "      <td>806017270</td>\n",
              "      <td>1.403324e+13</td>\n",
              "      <td>17410.599600</td>\n",
              "      <td>1257.9492</td>\n",
              "      <td>Profit</td>\n",
              "      <td>3.982469</td>\n",
              "    </tr>\n",
              "    <tr>\n",
              "      <th>2</th>\n",
              "      <td>2017-12-31</td>\n",
              "      <td>673591560</td>\n",
              "      <td>26200.0000</td>\n",
              "      <td>17855.5000</td>\n",
              "      <td>18210.0996</td>\n",
              "      <td>25580.0000</td>\n",
              "      <td>23211.833333</td>\n",
              "      <td>1.563530e+13</td>\n",
              "      <td>673591560</td>\n",
              "      <td>1.563530e+13</td>\n",
              "      <td>23211.833333</td>\n",
              "      <td>7369.9004</td>\n",
              "      <td>Profit</td>\n",
              "      <td>24.804535</td>\n",
              "    </tr>\n",
              "    <tr>\n",
              "      <th>3</th>\n",
              "      <td>2018-12-31</td>\n",
              "      <td>1516767560</td>\n",
              "      <td>28408.8008</td>\n",
              "      <td>23631.1992</td>\n",
              "      <td>25570.0000</td>\n",
              "      <td>27318.3496</td>\n",
              "      <td>26452.783200</td>\n",
              "      <td>4.012272e+13</td>\n",
              "      <td>1516767560</td>\n",
              "      <td>4.012272e+13</td>\n",
              "      <td>26452.783200</td>\n",
              "      <td>1748.3496</td>\n",
              "      <td>Profit</td>\n",
              "      <td>29.885955</td>\n",
              "    </tr>\n",
              "    <tr>\n",
              "      <th>4</th>\n",
              "      <td>2019-12-31</td>\n",
              "      <td>1248437904</td>\n",
              "      <td>32773.8516</td>\n",
              "      <td>26520.0000</td>\n",
              "      <td>27319.5000</td>\n",
              "      <td>32379.9004</td>\n",
              "      <td>30557.917333</td>\n",
              "      <td>3.814966e+13</td>\n",
              "      <td>1248437904</td>\n",
              "      <td>3.814966e+13</td>\n",
              "      <td>30557.917333</td>\n",
              "      <td>5060.4004</td>\n",
              "      <td>Profit</td>\n",
              "      <td>42.847261</td>\n",
              "    </tr>\n",
              "  </tbody>\n",
              "</table>\n",
              "</div>"
            ],
            "text/plain": [
              "  new_time_2    Volume 5  ...  Profit/Loss  Profit/Loss_Percentage\n",
              "0 2015-12-31   829540772  ...         Loss               11.483581\n",
              "1 2016-12-31   806017270  ...       Profit                3.982469\n",
              "2 2017-12-31   673591560  ...       Profit               24.804535\n",
              "3 2018-12-31  1516767560  ...       Profit               29.885955\n",
              "4 2019-12-31  1248437904  ...       Profit               42.847261\n",
              "\n",
              "[5 rows x 14 columns]"
            ]
          },
          "metadata": {
            "tags": []
          },
          "execution_count": 36
        }
      ]
    },
    {
      "cell_type": "code",
      "metadata": {
        "id": "EBDFEr0hdglU"
      },
      "source": [
        "df10.to_excel(\"Yearly data.xlsx\")"
      ],
      "execution_count": 37,
      "outputs": []
    },
    {
      "cell_type": "code",
      "metadata": {
        "id": "7P7igEjffBDF"
      },
      "source": [
        ""
      ],
      "execution_count": 106,
      "outputs": []
    },
    {
      "cell_type": "code",
      "metadata": {
        "id": "TQjqbYFjfJHk"
      },
      "source": [
        ""
      ],
      "execution_count": null,
      "outputs": []
    }
  ]
}