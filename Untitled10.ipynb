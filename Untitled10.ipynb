{
  "nbformat": 4,
  "nbformat_minor": 0,
  "metadata": {
    "accelerator": "GPU",
    "colab": {
      "name": "Untitled10.ipynb",
      "provenance": [],
      "collapsed_sections": [],
      "mount_file_id": "1ZONsec3lojkkwDiAmIg8jq54qt53gXEk",
      "authorship_tag": "ABX9TyO4ngwxtIRhsRpFeAlFJO4I",
      "include_colab_link": true
    },
    "kernelspec": {
      "display_name": "Python 3",
      "name": "python3"
    },
    "language_info": {
      "name": "python"
    }
  },
  "cells": [
    {
      "cell_type": "markdown",
      "metadata": {
        "id": "view-in-github",
        "colab_type": "text"
      },
      "source": [
        "<a href=\"https://colab.research.google.com/github/pavankumarallu/K_ML/blob/main/Untitled10.ipynb\" target=\"_parent\"><img src=\"https://colab.research.google.com/assets/colab-badge.svg\" alt=\"Open In Colab\"/></a>"
      ]
    },
    {
      "cell_type": "code",
      "metadata": {
        "id": "Yo3UtPqfTfz0"
      },
      "source": [
        "from keras.layers import Input, Dense, Conv2D, MaxPooling2D, UpSampling2D, LeakyReLU, BatchNormalization, Conv2DTranspose\n",
        "from keras.models import Model\n",
        "from keras import backend as K\n",
        "from keras.callbacks import ModelCheckpoint, EarlyStopping\n",
        "from keras.models import load_model\n",
        "\n",
        "import numpy as np\n",
        "from PIL import Image\n",
        "import os \n",
        "import matplotlib.pyplot as plt\n",
        "\n",
        "import tensorflow as tf\n",
        "from tensorflow.python.client import device_lib\n",
        "\n",
        "from sklearn.cluster import KMeans\n",
        "from skimage.color import rgb2hed\n",
        "from sklearn.preprocessing import StandardScaler\n",
        "from sklearn.decomposition import PCA\n",
        "from sklearn import metrics\n",
        "import cv2\n",
        "import pickle\n",
        "from keras.models import Sequential"
      ],
      "execution_count": null,
      "outputs": []
    },
    {
      "cell_type": "code",
      "metadata": {
        "id": "xvUkE0z6UXEE"
      },
      "source": [
        "trainData = \"/content/drive/MyDrive/img\""
      ],
      "execution_count": null,
      "outputs": []
    },
    {
      "cell_type": "code",
      "metadata": {
        "colab": {
          "base_uri": "https://localhost:8080/"
        },
        "id": "APLE44p13ouC",
        "outputId": "21081427-6736-484b-a12c-d8331eca32bc"
      },
      "source": [
        "from google.colab import drive\n",
        "drive.mount('/content/drive')"
      ],
      "execution_count": null,
      "outputs": [
        {
          "output_type": "stream",
          "name": "stdout",
          "text": [
            "Drive already mounted at /content/drive; to attempt to forcibly remount, call drive.mount(\"/content/drive\", force_remount=True).\n"
          ]
        }
      ]
    },
    {
      "cell_type": "code",
      "metadata": {
        "id": "EfBebhTUUXZl"
      },
      "source": [
        "new_train = []\n",
        "file_name = []\n",
        "\n",
        "for filename in os.listdir(trainData):\n",
        "\n",
        "    if filename.endswith('.jpg'):\n",
        "        print(filename)\n",
        "        file_name.append(filename)\n",
        "        image = cv2.imread(os.path.join(trainData, filename), cv2.IMREAD_UNCHANGED)\n",
        "        image = cv2.cvtColor(image,cv2.COLOR_BGR2RGB)\n",
        "        resized_image = cv2.resize(image, (128, 128)) \n",
        "        new_train.append(np.asarray( resized_image, dtype=\"uint8\" ))\n",
        "\n",
        "# open_file = open(\"/content/drive/MyDrive/Data.pkl\", \"rb\")\n",
        "# new_train = pickle.load(open_file)\n",
        "# open_file.close()\n"
      ],
      "execution_count": null,
      "outputs": []
    },
    {
      "cell_type": "code",
      "metadata": {
        "id": "ql2zHgONROHl"
      },
      "source": [
        "file_name"
      ],
      "execution_count": null,
      "outputs": []
    },
    {
      "cell_type": "code",
      "metadata": {
        "id": "eZv5IcZyUXc6"
      },
      "source": [
        "x_train = np.asarray(new_train)\n",
        "\n",
        "x_train = x_train.astype('float32') / 255."
      ],
      "execution_count": null,
      "outputs": []
    },
    {
      "cell_type": "markdown",
      "metadata": {
        "id": "vin9MnRj6XzE"
      },
      "source": [
        ""
      ]
    },
    {
      "cell_type": "code",
      "metadata": {
        "colab": {
          "base_uri": "https://localhost:8080/"
        },
        "id": "BNbkx_01UXlC",
        "outputId": "d3247473-3324-4e68-96fb-38d40a014a5b"
      },
      "source": [
        "print(x_train.shape)\n"
      ],
      "execution_count": null,
      "outputs": [
        {
          "output_type": "stream",
          "name": "stdout",
          "text": [
            "(1227, 128, 128, 3)\n"
          ]
        }
      ]
    },
    {
      "cell_type": "code",
      "metadata": {
        "id": "FKfE6tqpayjQ"
      },
      "source": [
        "from keras.preprocessing.image import ImageDataGenerator\n",
        "generated_data = ImageDataGenerator(featurewise_center=False, samplewise_center=False, featurewise_std_normalization=False, samplewise_std_normalization=False, zca_whitening=False, rotation_range=0,  width_shift_range=0.1, height_shift_range=0.1, horizontal_flip = True, vertical_flip = False)\n",
        "generated_data.fit(x_train)"
      ],
      "execution_count": null,
      "outputs": []
    },
    {
      "cell_type": "code",
      "metadata": {
        "id": "iKYg0Iff7Dcr"
      },
      "source": [
        "\n",
        "file_name1 = \"/content/drive/MyDrive/Data.pkl\"\n",
        "file_name2 = \"names.pkl\"\n",
        "\n",
        "open_file = open(file_name1, \"wb\")\n",
        "pickle.dump(new_train, open_file)\n",
        "open_file.close()\n",
        "\n",
        "open_file = open(file_name2, \"wb\")\n",
        "pickle.dump(file_name, open_file)\n",
        "open_file.close()"
      ],
      "execution_count": null,
      "outputs": []
    },
    {
      "cell_type": "code",
      "metadata": {
        "id": "TyYV4-GDUXwd"
      },
      "source": [
        "n_epochs = 20\n",
        "batch_size = 16\n",
        "optimizer = 'adam'\n",
        "loss = 'mean_squared_error'\n",
        "\n",
        "feature_model = Sequential()\n",
        "feature_model.add(Input(shape=(128, 128, 3)))\n",
        "feature_model.add(Conv2D(filters=16, kernel_size=(3,3),strides=1, padding='same'))\n",
        "feature_model.add(LeakyReLU())\n",
        "feature_model.add(Conv2D(filters=32, kernel_size=(3,3),strides=1, padding='same'))\n",
        "feature_model.add(LeakyReLU())\n",
        "feature_model.add(BatchNormalization())\n",
        "feature_model.add(Conv2D(filters=64, kernel_size=(3,3),strides=2, padding='same'))\n",
        "feature_model.add(LeakyReLU())\n",
        "feature_model.add(BatchNormalization())\n",
        "feature_model.add(MaxPooling2D())\n",
        "feature_model.add(Conv2D(filters=128, kernel_size=(3,3),strides=2, padding='same'))\n",
        "feature_model.add(LeakyReLU())\n",
        "feature_model.add(BatchNormalization())\n",
        "feature_model.add(MaxPooling2D())\n",
        "feature_model.add(Conv2D(filters=64, kernel_size=(3,3),strides=1, padding='same'))\n",
        "feature_model.add(LeakyReLU())\n",
        "feature_model.add(BatchNormalization())\n",
        "feature_model.add(Conv2D(filters=32, kernel_size=(3,3),strides=1, padding='same'))\n",
        "feature_model.add(LeakyReLU())\n",
        "\n",
        "#Dense Layers\n",
        "feature_model.add(tf.keras.layers.Dense(64, activation='relu'))\n",
        "feature_model.add(tf.keras.layers.Dense(64, activation='relu'))\n",
        "feature_model.add(tf.keras.layers.Dense(32, activation='relu'))\n",
        "feature_model.add(tf.keras.layers.Dense(32, activation='relu'))\n",
        "feature_model.add(tf.keras.layers.Dense(8, activation='relu',name=\"Feature_Layer\"))\n",
        "\n",
        "#bottle Neck\n",
        "feature_model.add(Conv2D(filters=16, kernel_size=(1,1),strides=1, padding='same'))\n",
        "feature_model.add(LeakyReLU())\n",
        "feature_model.add(Conv2D(filters=32, kernel_size=(1,1),strides=1, padding='same'))\n",
        "feature_model.add(LeakyReLU())\n",
        "feature_model.add(Conv2D(filters=64, kernel_size=(3,3),strides=1, padding='same'))\n",
        "feature_model.add(LeakyReLU())\n",
        "feature_model.add(BatchNormalization())\n",
        "\n",
        "\n",
        "#Decoding\n",
        "feature_model.add(UpSampling2D())\n",
        "feature_model.add(Conv2DTranspose(filters=128, kernel_size=(3,3),strides=2, padding='same'))\n",
        "feature_model.add(LeakyReLU())\n",
        "feature_model.add(BatchNormalization())\n",
        "feature_model.add(UpSampling2D())\n",
        "feature_model.add(Conv2DTranspose(filters=64, kernel_size=(3,3),strides=2, padding='same'))\n",
        "feature_model.add(LeakyReLU())\n",
        "feature_model.add(BatchNormalization())\n",
        "feature_model.add(Conv2D(filters=32, kernel_size=(3,3),strides=1, padding='same'))\n",
        "feature_model.add(LeakyReLU())\n",
        "feature_model.add(BatchNormalization())\n",
        "feature_model.add(Conv2D(filters=16, kernel_size=(3,3),strides=1, padding='same'))\n",
        "feature_model.add(LeakyReLU())\n",
        "feature_model.add(Conv2D(filters=3, kernel_size=(3,3),strides=1, padding='same'))\n",
        "feature_model.add(LeakyReLU())\n",
        "\n",
        "feature_model.compile(optimizer=optimizer , loss=loss, metrics=['Accuracy'])\n",
        "\n",
        "filepath = \"/February_epochs{}_batch{}_{}.h5\".format(n_epochs,batch_size,optimizer)\n",
        "\n",
        "checkpoint = ModelCheckpoint(filepath, monitor='val_loss', verbose=1, save_best_only=True, mode='min')\n",
        "ES = EarlyStopping(monitor='val_loss', min_delta=0, patience=15, verbose=0, mode='min', restore_best_weights=True)\n",
        "\n",
        "callbacks_list = [checkpoint, ES]"
      ],
      "execution_count": null,
      "outputs": []
    },
    {
      "cell_type": "code",
      "metadata": {
        "colab": {
          "base_uri": "https://localhost:8080/"
        },
        "id": "kP2hBiX45b-a",
        "outputId": "73004c62-319e-46c4-e0a8-61b93bd9ed6e"
      },
      "source": [
        "feature_model.summary()"
      ],
      "execution_count": null,
      "outputs": [
        {
          "output_type": "stream",
          "name": "stdout",
          "text": [
            "Model: \"sequential\"\n",
            "_________________________________________________________________\n",
            "Layer (type)                 Output Shape              Param #   \n",
            "=================================================================\n",
            "conv2d (Conv2D)              (None, 128, 128, 16)      448       \n",
            "_________________________________________________________________\n",
            "leaky_re_lu (LeakyReLU)      (None, 128, 128, 16)      0         \n",
            "_________________________________________________________________\n",
            "conv2d_1 (Conv2D)            (None, 128, 128, 32)      4640      \n",
            "_________________________________________________________________\n",
            "leaky_re_lu_1 (LeakyReLU)    (None, 128, 128, 32)      0         \n",
            "_________________________________________________________________\n",
            "batch_normalization (BatchNo (None, 128, 128, 32)      128       \n",
            "_________________________________________________________________\n",
            "conv2d_2 (Conv2D)            (None, 64, 64, 64)        18496     \n",
            "_________________________________________________________________\n",
            "leaky_re_lu_2 (LeakyReLU)    (None, 64, 64, 64)        0         \n",
            "_________________________________________________________________\n",
            "batch_normalization_1 (Batch (None, 64, 64, 64)        256       \n",
            "_________________________________________________________________\n",
            "max_pooling2d (MaxPooling2D) (None, 32, 32, 64)        0         \n",
            "_________________________________________________________________\n",
            "conv2d_3 (Conv2D)            (None, 16, 16, 128)       73856     \n",
            "_________________________________________________________________\n",
            "leaky_re_lu_3 (LeakyReLU)    (None, 16, 16, 128)       0         \n",
            "_________________________________________________________________\n",
            "batch_normalization_2 (Batch (None, 16, 16, 128)       512       \n",
            "_________________________________________________________________\n",
            "max_pooling2d_1 (MaxPooling2 (None, 8, 8, 128)         0         \n",
            "_________________________________________________________________\n",
            "conv2d_4 (Conv2D)            (None, 8, 8, 64)          73792     \n",
            "_________________________________________________________________\n",
            "leaky_re_lu_4 (LeakyReLU)    (None, 8, 8, 64)          0         \n",
            "_________________________________________________________________\n",
            "batch_normalization_3 (Batch (None, 8, 8, 64)          256       \n",
            "_________________________________________________________________\n",
            "conv2d_5 (Conv2D)            (None, 8, 8, 32)          18464     \n",
            "_________________________________________________________________\n",
            "leaky_re_lu_5 (LeakyReLU)    (None, 8, 8, 32)          0         \n",
            "_________________________________________________________________\n",
            "dense (Dense)                (None, 8, 8, 64)          2112      \n",
            "_________________________________________________________________\n",
            "dense_1 (Dense)              (None, 8, 8, 64)          4160      \n",
            "_________________________________________________________________\n",
            "dense_2 (Dense)              (None, 8, 8, 64)          4160      \n",
            "_________________________________________________________________\n",
            "dense_3 (Dense)              (None, 8, 8, 64)          4160      \n",
            "_________________________________________________________________\n",
            "dense_4 (Dense)              (None, 8, 8, 32)          2080      \n",
            "_________________________________________________________________\n",
            "dense_5 (Dense)              (None, 8, 8, 32)          1056      \n",
            "_________________________________________________________________\n",
            "dense_6 (Dense)              (None, 8, 8, 32)          1056      \n",
            "_________________________________________________________________\n",
            "dense_7 (Dense)              (None, 8, 8, 32)          1056      \n",
            "_________________________________________________________________\n",
            "dense_8 (Dense)              (None, 8, 8, 16)          528       \n",
            "_________________________________________________________________\n",
            "Feature_Layer (Dense)        (None, 8, 8, 16)          272       \n",
            "_________________________________________________________________\n",
            "conv2d_6 (Conv2D)            (None, 8, 8, 16)          272       \n",
            "_________________________________________________________________\n",
            "leaky_re_lu_6 (LeakyReLU)    (None, 8, 8, 16)          0         \n",
            "_________________________________________________________________\n",
            "conv2d_7 (Conv2D)            (None, 8, 8, 32)          544       \n",
            "_________________________________________________________________\n",
            "leaky_re_lu_7 (LeakyReLU)    (None, 8, 8, 32)          0         \n",
            "_________________________________________________________________\n",
            "conv2d_8 (Conv2D)            (None, 8, 8, 64)          18496     \n",
            "_________________________________________________________________\n",
            "leaky_re_lu_8 (LeakyReLU)    (None, 8, 8, 64)          0         \n",
            "_________________________________________________________________\n",
            "batch_normalization_4 (Batch (None, 8, 8, 64)          256       \n",
            "_________________________________________________________________\n",
            "up_sampling2d (UpSampling2D) (None, 16, 16, 64)        0         \n",
            "_________________________________________________________________\n",
            "conv2d_transpose (Conv2DTran (None, 32, 32, 128)       73856     \n",
            "_________________________________________________________________\n",
            "leaky_re_lu_9 (LeakyReLU)    (None, 32, 32, 128)       0         \n",
            "_________________________________________________________________\n",
            "batch_normalization_5 (Batch (None, 32, 32, 128)       512       \n",
            "_________________________________________________________________\n",
            "up_sampling2d_1 (UpSampling2 (None, 64, 64, 128)       0         \n",
            "_________________________________________________________________\n",
            "conv2d_transpose_1 (Conv2DTr (None, 128, 128, 64)      73792     \n",
            "_________________________________________________________________\n",
            "leaky_re_lu_10 (LeakyReLU)   (None, 128, 128, 64)      0         \n",
            "_________________________________________________________________\n",
            "batch_normalization_6 (Batch (None, 128, 128, 64)      256       \n",
            "_________________________________________________________________\n",
            "conv2d_9 (Conv2D)            (None, 128, 128, 32)      18464     \n",
            "_________________________________________________________________\n",
            "leaky_re_lu_11 (LeakyReLU)   (None, 128, 128, 32)      0         \n",
            "_________________________________________________________________\n",
            "batch_normalization_7 (Batch (None, 128, 128, 32)      128       \n",
            "_________________________________________________________________\n",
            "conv2d_10 (Conv2D)           (None, 128, 128, 16)      4624      \n",
            "_________________________________________________________________\n",
            "leaky_re_lu_12 (LeakyReLU)   (None, 128, 128, 16)      0         \n",
            "_________________________________________________________________\n",
            "conv2d_11 (Conv2D)           (None, 128, 128, 3)       435       \n",
            "_________________________________________________________________\n",
            "leaky_re_lu_13 (LeakyReLU)   (None, 128, 128, 3)       0         \n",
            "=================================================================\n",
            "Total params: 403,123\n",
            "Trainable params: 401,971\n",
            "Non-trainable params: 1,152\n",
            "_________________________________________________________________\n"
          ]
        }
      ]
    },
    {
      "cell_type": "code",
      "metadata": {
        "id": "icdT_Zd4XqZg"
      },
      "source": [
        "feature_train = feature_model.fit(x_train, x_train,\n",
        "                                        epochs=n_epochs,\n",
        "                                        batch_size=batch_size,\n",
        "                                        shuffle=True,\n",
        "                                        validation_split = 0.2,\n",
        "                            \n",
        "                                       )"
      ],
      "execution_count": null,
      "outputs": []
    },
    {
      "cell_type": "code",
      "metadata": {
        "colab": {
          "base_uri": "https://localhost:8080/"
        },
        "id": "y89B6_2Vbslu",
        "outputId": "6034768e-6cf2-403e-b22a-7c2d657f5314"
      },
      "source": [
        "feature_model.get_layer(\"Feature_Layer\")"
      ],
      "execution_count": null,
      "outputs": [
        {
          "output_type": "execute_result",
          "data": {
            "text/plain": [
              "<keras.layers.core.Dense at 0x7f98d0150950>"
            ]
          },
          "metadata": {},
          "execution_count": 18
        }
      ]
    },
    {
      "cell_type": "code",
      "metadata": {
        "id": "B4VbN1liifO0"
      },
      "source": [
        "feature_model.save(\"/content/drive/MyDrive/Model_final.h5\")"
      ],
      "execution_count": null,
      "outputs": []
    },
    {
      "cell_type": "code",
      "metadata": {
        "id": "UiyFkGWhdZCQ"
      },
      "source": [
        "intermediate_layer_model = tf.keras.Model(inputs=feature_model.input,\n",
        "                                       outputs=feature_model.get_layer(\"Feature_Layer\").output)\n",
        "intermediate_output = intermediate_layer_model(x_train)\n",
        "train_x = intermediate_output.numpy()\n",
        "np.save(\"feature.npy\",train_x)\n",
        "E_train_flatten = train_x.reshape((-1, np.prod((8,8,16))))"
      ],
      "execution_count": null,
      "outputs": []
    },
    {
      "cell_type": "code",
      "metadata": {
        "id": "H1Y3MwVX7UPX"
      },
      "source": [
        "from sklearn.neighbors import NearestNeighbors"
      ],
      "execution_count": null,
      "outputs": []
    },
    {
      "cell_type": "code",
      "metadata": {
        "colab": {
          "base_uri": "https://localhost:8080/"
        },
        "id": "F-sUelZq7otT",
        "outputId": "0bd1ff6c-d2fc-4ad6-9e5e-6ed21c3e79d0"
      },
      "source": [
        "knn = NearestNeighbors(n_neighbors=10, metric=\"cosine\")\n",
        "knn.fit(E_train_flatten)"
      ],
      "execution_count": null,
      "outputs": [
        {
          "output_type": "execute_result",
          "data": {
            "text/plain": [
              "NearestNeighbors(algorithm='auto', leaf_size=30, metric='cosine',\n",
              "                 metric_params=None, n_jobs=None, n_neighbors=10, p=2,\n",
              "                 radius=1.0)"
            ]
          },
          "metadata": {},
          "execution_count": 35
        }
      ]
    },
    {
      "cell_type": "code",
      "metadata": {
        "id": "IvPfsFnW7xJy"
      },
      "source": [
        "new_test = []\n",
        "test_img = cv2.imread(\"/content/7.jpg\")\n",
        "resized_image = cv2.resize(test_img, (128, 128)) \n",
        "new_test.append(np.asarray( resized_image, dtype=\"uint8\" ))\n",
        "x_test = np.asarray(new_test)\n",
        "x_test = np.asarray(x_test.astype('float32') / 255.)\n"
      ],
      "execution_count": null,
      "outputs": []
    },
    {
      "cell_type": "code",
      "metadata": {
        "id": "ZbQm4IpS95SZ"
      },
      "source": [
        "intermediate_output = intermediate_layer_model(x_test)\n",
        "test_x = intermediate_output.numpy()\n",
        "E_test_flatten = test_x.reshape((-1, np.prod(( 8,8,8))))"
      ],
      "execution_count": null,
      "outputs": []
    },
    {
      "cell_type": "code",
      "metadata": {
        "id": "DePqdNY--oAN"
      },
      "source": [
        "_,indeces = knn.kneighbors(E_test_flatten)"
      ],
      "execution_count": null,
      "outputs": []
    },
    {
      "cell_type": "code",
      "metadata": {
        "colab": {
          "base_uri": "https://localhost:8080/"
        },
        "id": "RQnIx7VSB8Ph",
        "outputId": "93a417c6-4cb8-44f2-faa5-df2a1d9926c1"
      },
      "source": [
        "indeces"
      ],
      "execution_count": null,
      "outputs": [
        {
          "output_type": "execute_result",
          "data": {
            "text/plain": [
              "array([[ 221,  108,  110,  111,  116,    4,   95, 1205,  683,    1]])"
            ]
          },
          "metadata": {},
          "execution_count": 44
        }
      ]
    },
    {
      "cell_type": "code",
      "metadata": {
        "id": "Z8Jlw_NeCD0a"
      },
      "source": [
        ""
      ],
      "execution_count": null,
      "outputs": []
    },
    {
      "cell_type": "code",
      "metadata": {
        "id": "depRL24GIfa1"
      },
      "source": [
        ""
      ],
      "execution_count": null,
      "outputs": []
    },
    {
      "cell_type": "code",
      "metadata": {
        "colab": {
          "background_save": true
        },
        "id": "s836ZkwnNile"
      },
      "source": [
        ""
      ],
      "execution_count": null,
      "outputs": []
    },
    {
      "cell_type": "code",
      "metadata": {
        "colab": {
          "background_save": true
        },
        "id": "NwmZhlOGNr3f"
      },
      "source": [
        ""
      ],
      "execution_count": null,
      "outputs": []
    },
    {
      "cell_type": "code",
      "metadata": {
        "colab": {
          "background_save": true
        },
        "id": "YlbeWWpHOHc4"
      },
      "source": [
        ""
      ],
      "execution_count": null,
      "outputs": []
    }
  ]
}