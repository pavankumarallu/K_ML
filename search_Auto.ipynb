{
  "nbformat": 4,
  "nbformat_minor": 0,
  "metadata": {
    "colab": {
      "name": "Untitled10.ipynb",
      "provenance": [],
      "collapsed_sections": [],
      "mount_file_id": "1ZONsec3lojkkwDiAmIg8jq54qt53gXEk",
      "authorship_tag": "ABX9TyPm6zV3knpeRkcX9jtHorA7",
      "include_colab_link": true
    },
    "kernelspec": {
      "name": "python3",
      "display_name": "Python 3"
    },
    "language_info": {
      "name": "python"
    },
    "accelerator": "GPU"
  },
  "cells": [
    {
      "cell_type": "markdown",
      "metadata": {
        "id": "view-in-github",
        "colab_type": "text"
      },
      "source": [
        "<a href=\"https://colab.research.google.com/github/pavankumarallu/K_ML/blob/main/search_Auto.ipynb\" target=\"_parent\"><img src=\"https://colab.research.google.com/assets/colab-badge.svg\" alt=\"Open In Colab\"/></a>"
      ]
    },
    {
      "cell_type": "code",
      "metadata": {
        "id": "Yo3UtPqfTfz0"
      },
      "source": [
        "from keras.layers import Input, Dense, Conv2D, MaxPooling2D, UpSampling2D, LeakyReLU, BatchNormalization, Conv2DTranspose\n",
        "from keras.models import Model\n",
        "from keras import backend as K\n",
        "from keras.callbacks import ModelCheckpoint, EarlyStopping\n",
        "from keras.models import load_model\n",
        "\n",
        "import numpy as np\n",
        "from PIL import Image\n",
        "import os \n",
        "import matplotlib.pyplot as plt\n",
        "\n",
        "import tensorflow as tf\n",
        "from tensorflow.python.client import device_lib\n",
        "\n",
        "from sklearn.cluster import KMeans\n",
        "from skimage.color import rgb2hed\n",
        "from sklearn.preprocessing import StandardScaler\n",
        "from sklearn.decomposition import PCA\n",
        "from sklearn import metrics\n",
        "import cv2"
      ],
      "execution_count": 1,
      "outputs": []
    },
    {
      "cell_type": "code",
      "metadata": {
        "colab": {
          "base_uri": "https://localhost:8080/"
        },
        "id": "fDveC6cQTl-a",
        "outputId": "77576ebd-b73d-4c8b-f416-ef2962c7e260"
      },
      "source": [
        "from google.colab import drive\n",
        "drive.mount('/content/drive')"
      ],
      "execution_count": 2,
      "outputs": [
        {
          "output_type": "stream",
          "name": "stdout",
          "text": [
            "Drive already mounted at /content/drive; to attempt to forcibly remount, call drive.mount(\"/content/drive\", force_remount=True).\n"
          ]
        }
      ]
    },
    {
      "cell_type": "code",
      "metadata": {
        "id": "xvUkE0z6UXEE"
      },
      "source": [
        "trainData = \"/content/drive/MyDrive/img\""
      ],
      "execution_count": 3,
      "outputs": []
    },
    {
      "cell_type": "code",
      "metadata": {
        "id": "EfBebhTUUXZl"
      },
      "source": [
        "new_train = []\n",
        "\n",
        "\n",
        "for filename in os.listdir(trainData):\n",
        "    if filename.endswith('.jpg'):\n",
        "        image = cv2.imread(os.path.join(trainData, filename), cv2.IMREAD_UNCHANGED)\n",
        "        resized_image = cv2.resize(image, (128, 128)) \n",
        "        new_train.append(np.asarray( resized_image, dtype=\"uint8\" ))\n"
      ],
      "execution_count": 4,
      "outputs": []
    },
    {
      "cell_type": "code",
      "metadata": {
        "id": "eZv5IcZyUXc6"
      },
      "source": [
        "x_train = np.asarray(new_train)\n",
        "\n",
        "x_train = x_train.astype('float32') / 255."
      ],
      "execution_count": 5,
      "outputs": []
    },
    {
      "cell_type": "code",
      "metadata": {
        "colab": {
          "base_uri": "https://localhost:8080/"
        },
        "id": "BNbkx_01UXlC",
        "outputId": "6cda4ce1-6aae-4051-d53b-70a6dcfa1ba1"
      },
      "source": [
        "print(x_train.shape)\n"
      ],
      "execution_count": 6,
      "outputs": [
        {
          "output_type": "stream",
          "name": "stdout",
          "text": [
            "(1227, 128, 128, 3)\n"
          ]
        }
      ]
    },
    {
      "cell_type": "code",
      "metadata": {
        "id": "FKfE6tqpayjQ"
      },
      "source": [
        "from keras.preprocessing.image import ImageDataGenerator\n",
        "generated_data = ImageDataGenerator(featurewise_center=False, samplewise_center=False, featurewise_std_normalization=False, samplewise_std_normalization=False, zca_whitening=False, rotation_range=0,  width_shift_range=0.1, height_shift_range=0.1, horizontal_flip = True, vertical_flip = False)\n",
        "generated_data.fit(x_train)"
      ],
      "execution_count": 7,
      "outputs": []
    },
    {
      "cell_type": "code",
      "metadata": {
        "id": "TyYV4-GDUXwd"
      },
      "source": [
        "n_epochs = 20\n",
        "batch_size = 32\n",
        "optimizer = 'adam'\n",
        "loss = 'mean_squared_error'\n",
        "\n",
        "input_img = Input(shape=(128, 128, 3))\n",
        "\n",
        "encoder = Conv2D(filters=16, kernel_size=(3,3),strides=1, padding='same')(input_img)\n",
        "encoder = LeakyReLU()(encoder)\n",
        "encoder = Conv2D(filters=32, kernel_size=(3,3),strides=1, padding='same')(encoder)\n",
        "encoder = LeakyReLU()(encoder)\n",
        "encoder = BatchNormalization()(encoder)\n",
        "encoder = Conv2D(filters=64, kernel_size=(3,3),strides=2, padding='same')(encoder)\n",
        "encoder = LeakyReLU()(encoder)\n",
        "encoder = BatchNormalization()(encoder)\n",
        "encoder = MaxPooling2D()(encoder)\n",
        "encoder = Conv2D(filters=128, kernel_size=(3,3),strides=2, padding='same')(encoder)\n",
        "encoder = LeakyReLU()(encoder)\n",
        "encoder = BatchNormalization()(encoder)\n",
        "encoder = MaxPooling2D()(encoder)\n",
        "encoder = Conv2D(filters=64, kernel_size=(3,3),strides=1, padding='same')(encoder)\n",
        "encoder = LeakyReLU()(encoder)\n",
        "encoder = BatchNormalization()(encoder)\n",
        "encoder = Conv2D(filters=32, kernel_size=(3,3),strides=1, padding='same')(encoder)\n",
        "encoder = LeakyReLU()(encoder)\n",
        "\n",
        "\n",
        "bottleneck = Conv2D(filters=16, kernel_size=(1,1),strides=1, padding='same')(encoder)\n",
        "bottleneck = LeakyReLU()(bottleneck)\n",
        "\n",
        "\n",
        "decoder = Conv2D(filters=32, kernel_size=(1,1),strides=1, padding='same')(bottleneck)\n",
        "decoder = LeakyReLU()(decoder)\n",
        "decoder = Conv2D(filters=64, kernel_size=(3,3),strides=1, padding='same')(decoder)\n",
        "decoder = LeakyReLU()(decoder)\n",
        "decoder = BatchNormalization()(decoder)\n",
        "decoder = UpSampling2D()(decoder)\n",
        "decoder = Conv2DTranspose(filters=128, kernel_size=(3,3),strides=2, padding='same')(decoder)\n",
        "decoder = LeakyReLU()(decoder)\n",
        "decoder = BatchNormalization()(decoder)\n",
        "decoder = UpSampling2D()(decoder)\n",
        "decoder = Conv2DTranspose(filters=64, kernel_size=(3,3),strides=2, padding='same')(decoder)\n",
        "decoder = LeakyReLU()(decoder)\n",
        "decoder = BatchNormalization()(decoder)\n",
        "decoder = Conv2D(filters=32, kernel_size=(3,3),strides=1, padding='same')(decoder)\n",
        "decoder = LeakyReLU()(decoder)\n",
        "decoder = BatchNormalization()(decoder)\n",
        "decoder = Conv2D(filters=16, kernel_size=(3,3),strides=1, padding='same')(decoder)\n",
        "decoder = LeakyReLU()(decoder)\n",
        "decoder = Conv2D(filters=3, kernel_size=(3,3),strides=1, padding='same')(decoder)\n",
        "decoded = LeakyReLU()(decoder)\n",
        "\n",
        "autoencoder = Model(input_img, decoded)\n",
        "autoencoder.compile(optimizer=optimizer , loss=loss)\n",
        "\n",
        "filepath = \"/February_epochs{}_batch{}_{}.h5\".format(n_epochs,batch_size,optimizer)\n",
        "\n",
        "checkpoint = ModelCheckpoint(filepath, monitor='val_loss', verbose=1, save_best_only=True, mode='min')\n",
        "ES = EarlyStopping(monitor='val_loss', min_delta=0, patience=15, verbose=0, mode='min', restore_best_weights=True)\n",
        "\n",
        "callbacks_list = [checkpoint, ES]"
      ],
      "execution_count": 8,
      "outputs": []
    },
    {
      "cell_type": "code",
      "metadata": {
        "colab": {
          "base_uri": "https://localhost:8080/"
        },
        "id": "Mv--Ujbw2_ho",
        "outputId": "2cfe225a-77ed-441a-da6d-67e670caac84"
      },
      "source": [
        "autoencoder.summary()"
      ],
      "execution_count": 9,
      "outputs": [
        {
          "output_type": "stream",
          "name": "stdout",
          "text": [
            "Model: \"model\"\n",
            "_________________________________________________________________\n",
            "Layer (type)                 Output Shape              Param #   \n",
            "=================================================================\n",
            "input_1 (InputLayer)         [(None, 128, 128, 3)]     0         \n",
            "_________________________________________________________________\n",
            "conv2d (Conv2D)              (None, 128, 128, 16)      448       \n",
            "_________________________________________________________________\n",
            "leaky_re_lu (LeakyReLU)      (None, 128, 128, 16)      0         \n",
            "_________________________________________________________________\n",
            "conv2d_1 (Conv2D)            (None, 128, 128, 32)      4640      \n",
            "_________________________________________________________________\n",
            "leaky_re_lu_1 (LeakyReLU)    (None, 128, 128, 32)      0         \n",
            "_________________________________________________________________\n",
            "batch_normalization (BatchNo (None, 128, 128, 32)      128       \n",
            "_________________________________________________________________\n",
            "conv2d_2 (Conv2D)            (None, 64, 64, 64)        18496     \n",
            "_________________________________________________________________\n",
            "leaky_re_lu_2 (LeakyReLU)    (None, 64, 64, 64)        0         \n",
            "_________________________________________________________________\n",
            "batch_normalization_1 (Batch (None, 64, 64, 64)        256       \n",
            "_________________________________________________________________\n",
            "max_pooling2d (MaxPooling2D) (None, 32, 32, 64)        0         \n",
            "_________________________________________________________________\n",
            "conv2d_3 (Conv2D)            (None, 16, 16, 128)       73856     \n",
            "_________________________________________________________________\n",
            "leaky_re_lu_3 (LeakyReLU)    (None, 16, 16, 128)       0         \n",
            "_________________________________________________________________\n",
            "batch_normalization_2 (Batch (None, 16, 16, 128)       512       \n",
            "_________________________________________________________________\n",
            "max_pooling2d_1 (MaxPooling2 (None, 8, 8, 128)         0         \n",
            "_________________________________________________________________\n",
            "conv2d_4 (Conv2D)            (None, 8, 8, 64)          73792     \n",
            "_________________________________________________________________\n",
            "leaky_re_lu_4 (LeakyReLU)    (None, 8, 8, 64)          0         \n",
            "_________________________________________________________________\n",
            "batch_normalization_3 (Batch (None, 8, 8, 64)          256       \n",
            "_________________________________________________________________\n",
            "conv2d_5 (Conv2D)            (None, 8, 8, 32)          18464     \n",
            "_________________________________________________________________\n",
            "leaky_re_lu_5 (LeakyReLU)    (None, 8, 8, 32)          0         \n",
            "_________________________________________________________________\n",
            "conv2d_6 (Conv2D)            (None, 8, 8, 16)          528       \n",
            "_________________________________________________________________\n",
            "leaky_re_lu_6 (LeakyReLU)    (None, 8, 8, 16)          0         \n",
            "_________________________________________________________________\n",
            "conv2d_7 (Conv2D)            (None, 8, 8, 32)          544       \n",
            "_________________________________________________________________\n",
            "leaky_re_lu_7 (LeakyReLU)    (None, 8, 8, 32)          0         \n",
            "_________________________________________________________________\n",
            "conv2d_8 (Conv2D)            (None, 8, 8, 64)          18496     \n",
            "_________________________________________________________________\n",
            "leaky_re_lu_8 (LeakyReLU)    (None, 8, 8, 64)          0         \n",
            "_________________________________________________________________\n",
            "batch_normalization_4 (Batch (None, 8, 8, 64)          256       \n",
            "_________________________________________________________________\n",
            "up_sampling2d (UpSampling2D) (None, 16, 16, 64)        0         \n",
            "_________________________________________________________________\n",
            "conv2d_transpose (Conv2DTran (None, 32, 32, 128)       73856     \n",
            "_________________________________________________________________\n",
            "leaky_re_lu_9 (LeakyReLU)    (None, 32, 32, 128)       0         \n",
            "_________________________________________________________________\n",
            "batch_normalization_5 (Batch (None, 32, 32, 128)       512       \n",
            "_________________________________________________________________\n",
            "up_sampling2d_1 (UpSampling2 (None, 64, 64, 128)       0         \n",
            "_________________________________________________________________\n",
            "conv2d_transpose_1 (Conv2DTr (None, 128, 128, 64)      73792     \n",
            "_________________________________________________________________\n",
            "leaky_re_lu_10 (LeakyReLU)   (None, 128, 128, 64)      0         \n",
            "_________________________________________________________________\n",
            "batch_normalization_6 (Batch (None, 128, 128, 64)      256       \n",
            "_________________________________________________________________\n",
            "conv2d_9 (Conv2D)            (None, 128, 128, 32)      18464     \n",
            "_________________________________________________________________\n",
            "leaky_re_lu_11 (LeakyReLU)   (None, 128, 128, 32)      0         \n",
            "_________________________________________________________________\n",
            "batch_normalization_7 (Batch (None, 128, 128, 32)      128       \n",
            "_________________________________________________________________\n",
            "conv2d_10 (Conv2D)           (None, 128, 128, 16)      4624      \n",
            "_________________________________________________________________\n",
            "leaky_re_lu_12 (LeakyReLU)   (None, 128, 128, 16)      0         \n",
            "_________________________________________________________________\n",
            "conv2d_11 (Conv2D)           (None, 128, 128, 3)       435       \n",
            "_________________________________________________________________\n",
            "leaky_re_lu_13 (LeakyReLU)   (None, 128, 128, 3)       0         \n",
            "=================================================================\n",
            "Total params: 382,739\n",
            "Trainable params: 381,587\n",
            "Non-trainable params: 1,152\n",
            "_________________________________________________________________\n"
          ]
        }
      ]
    },
    {
      "cell_type": "code",
      "metadata": {
        "colab": {
          "base_uri": "https://localhost:8080/"
        },
        "id": "icdT_Zd4XqZg",
        "outputId": "9d550c82-c44e-4669-9531-442f3aa70581"
      },
      "source": [
        "autoencoder_train = autoencoder.fit(x_train, x_train,\n",
        "                                        epochs=n_epochs,\n",
        "                                        batch_size=batch_size,\n",
        "                                        shuffle=True,\n",
        "                                        validation_split = 0.2,\n",
        "                                        callbacks=callbacks_list\n",
        "                                       )"
      ],
      "execution_count": null,
      "outputs": [
        {
          "output_type": "stream",
          "name": "stdout",
          "text": [
            "Epoch 1/20\n",
            "31/31 [==============================] - 154s 5s/step - loss: 0.2192 - val_loss: 0.3009\n",
            "\n",
            "Epoch 00001: val_loss improved from inf to 0.30091, saving model to /February_epochs20_batch32_adam.h5\n",
            "Epoch 2/20\n",
            "31/31 [==============================] - 150s 5s/step - loss: 0.0317 - val_loss: 0.1367\n",
            "\n",
            "Epoch 00002: val_loss improved from 0.30091 to 0.13674, saving model to /February_epochs20_batch32_adam.h5\n",
            "Epoch 3/20\n",
            "31/31 [==============================] - 150s 5s/step - loss: 0.0254 - val_loss: 0.0758\n",
            "\n",
            "Epoch 00003: val_loss improved from 0.13674 to 0.07575, saving model to /February_epochs20_batch32_adam.h5\n",
            "Epoch 4/20\n",
            "31/31 [==============================] - 150s 5s/step - loss: 0.0215 - val_loss: 0.0460\n",
            "\n",
            "Epoch 00004: val_loss improved from 0.07575 to 0.04599, saving model to /February_epochs20_batch32_adam.h5\n",
            "Epoch 5/20\n",
            "31/31 [==============================] - 149s 5s/step - loss: 0.0196 - val_loss: 0.0415\n",
            "\n",
            "Epoch 00005: val_loss improved from 0.04599 to 0.04148, saving model to /February_epochs20_batch32_adam.h5\n",
            "Epoch 6/20\n",
            "31/31 [==============================] - 149s 5s/step - loss: 0.0205 - val_loss: 0.0393\n",
            "\n",
            "Epoch 00006: val_loss improved from 0.04148 to 0.03926, saving model to /February_epochs20_batch32_adam.h5\n",
            "Epoch 7/20\n",
            "22/31 [====================>.........] - ETA: 41s - loss: 0.0181"
          ]
        }
      ]
    },
    {
      "cell_type": "code",
      "metadata": {
        "id": "asjsfdJqYDgY"
      },
      "source": [
        "x_train.shape"
      ],
      "execution_count": null,
      "outputs": []
    },
    {
      "cell_type": "code",
      "metadata": {
        "id": "HUkkJyYa7AZ6"
      },
      "source": [
        "E_train = autoencoder.predict(x_train)\n",
        "E_train_flatten = E_train.reshape((-1, np.prod((128,128,3))))"
      ],
      "execution_count": null,
      "outputs": []
    },
    {
      "cell_type": "code",
      "metadata": {
        "id": "H1Y3MwVX7UPX"
      },
      "source": [
        "from sklearn.neighbors import NearestNeighbors"
      ],
      "execution_count": null,
      "outputs": []
    },
    {
      "cell_type": "code",
      "metadata": {
        "id": "F-sUelZq7otT"
      },
      "source": [
        "knn = NearestNeighbors(n_neighbors=5, metric=\"cosine\")\n",
        "knn.fit(E_train_flatten)"
      ],
      "execution_count": null,
      "outputs": []
    },
    {
      "cell_type": "code",
      "metadata": {
        "id": "IvPfsFnW7xJy"
      },
      "source": [
        "new_test = []\n",
        "test_img = cv2.imread(\"/content/3.jpg\")\n",
        "resized_image = cv2.resize(test_img, (128, 128)) \n",
        "new_test.append(np.asarray( resized_image, dtype=\"uint8\" ))\n"
      ],
      "execution_count": null,
      "outputs": []
    },
    {
      "cell_type": "code",
      "metadata": {
        "id": "DE1tHsGj9Vmw"
      },
      "source": [
        "x_test = np.asarray(new_test)\n",
        "x_test = np.asarray(x_test.astype('float32') / 255.)"
      ],
      "execution_count": null,
      "outputs": []
    },
    {
      "cell_type": "code",
      "metadata": {
        "id": "G9JBZzTk93Zg"
      },
      "source": [
        "x_test.shape"
      ],
      "execution_count": null,
      "outputs": []
    },
    {
      "cell_type": "code",
      "metadata": {
        "id": "3v_Sdtnd-flT"
      },
      "source": [
        "outDir = \"/content/Output images\"\n",
        "if not os.path.exists(outDir):\n",
        "    os.makedirs(outDir)\n",
        "    "
      ],
      "execution_count": null,
      "outputs": []
    },
    {
      "cell_type": "code",
      "metadata": {
        "id": "ZbQm4IpS95SZ"
      },
      "source": [
        "E_test = autoencoder.predict(x_test)\n",
        "E_test_flatten = E_test.reshape((-1, np.prod(( 128,128,3))))"
      ],
      "execution_count": null,
      "outputs": []
    },
    {
      "cell_type": "code",
      "metadata": {
        "id": "TqIHvRTR-0Ol"
      },
      "source": [
        "E_test.shape,E_train.shape,E_test_flatten.shape,E_train_flatten.shape"
      ],
      "execution_count": null,
      "outputs": []
    },
    {
      "cell_type": "code",
      "metadata": {
        "id": "DePqdNY--oAN"
      },
      "source": [
        "_,indeces = knn.kneighbors(E_test_flatten)"
      ],
      "execution_count": null,
      "outputs": []
    },
    {
      "cell_type": "code",
      "metadata": {
        "id": "RQnIx7VSB8Ph"
      },
      "source": [
        "indeces"
      ],
      "execution_count": null,
      "outputs": []
    },
    {
      "cell_type": "code",
      "metadata": {
        "id": "Z8Jlw_NeCD0a"
      },
      "source": [
        "lis = []\n",
        "for i in indeces:\n",
        "  for j in i:\n",
        "    lis.append(j)"
      ],
      "execution_count": null,
      "outputs": []
    },
    {
      "cell_type": "code",
      "metadata": {
        "id": "depRL24GIfa1"
      },
      "source": [
        "rows = 9\n",
        "columns = 9"
      ],
      "execution_count": null,
      "outputs": []
    },
    {
      "cell_type": "code",
      "metadata": {
        "id": "s836ZkwnNile"
      },
      "source": [
        "fig = plt.figure(figsize=(10, 7))"
      ],
      "execution_count": null,
      "outputs": []
    },
    {
      "cell_type": "code",
      "metadata": {
        "id": "NwmZhlOGNr3f"
      },
      "source": [
        "for i in range(len(lis)):\n",
        "  fig.add_subplot(rows, columns, i+1)\n",
        "  plt.imshow(new_train[lis[i]])\n",
        "  plt.axis('off')\n",
        "  plt.title(str(i))\n",
        "fig.show()"
      ],
      "execution_count": null,
      "outputs": []
    },
    {
      "cell_type": "code",
      "metadata": {
        "id": "YlbeWWpHOHc4"
      },
      "source": [
        ""
      ],
      "execution_count": null,
      "outputs": []
    }
  ]
}